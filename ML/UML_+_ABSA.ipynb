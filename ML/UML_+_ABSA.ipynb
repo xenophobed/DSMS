{
  "metadata": {
    "kernelspec": {
      "language": "python",
      "display_name": "Python 3",
      "name": "python3"
    },
    "language_info": {
      "pygments_lexer": "ipython3",
      "nbconvert_exporter": "python",
      "version": "3.6.4",
      "file_extension": ".py",
      "codemirror_mode": {
        "name": "ipython",
        "version": 3
      },
      "name": "python",
      "mimetype": "text/x-python"
    },
    "kaggle": {
      "accelerator": "gpu",
      "dataSources": [
        {
          "sourceId": 3904140,
          "sourceType": "datasetVersion",
          "datasetId": 2319008
        }
      ],
      "dockerImageVersionId": 30204,
      "isInternetEnabled": true,
      "language": "python",
      "sourceType": "notebook",
      "isGpuEnabled": true
    },
    "colab": {
      "provenance": []
    }
  },
  "nbformat_minor": 0,
  "nbformat": 4,
  "cells": [
    {
      "cell_type": "markdown",
      "source": [
        "This presentation explores an unsupervised machine learning approach to perform aspect-based sentiment analysis on product reviews from Flipkart. Our goal is to automatically identify specific aspects of products that customers discuss in their reviews and determine the sentiment (positive, negative, or neutral) expressed towards those aspects.\n",
        "\n",
        "Aspect-based sentiment analysis (ABSA) is a text analysis technique that categorizes data by aspect and identifies the sentiment attributed to each one. We will use it to analyze customer feedback for products for aspects such as price, service, quality and etc."
      ],
      "metadata": {
        "id": "8PX8hKV5gsLS"
      }
    },
    {
      "cell_type": "markdown",
      "source": [
        "### Import required Libraries\n",
        "* nltk (Natural Language Toolkit) for text processing libraries for tokenization, parsing, classification, stemming, tagging, and semantic reasoning.\n",
        "* CountVectorizer from scikit-learn for converting text data into a matrix of token counts, facilitating the process of feature extraction from text data.\n"
      ],
      "metadata": {
        "id": "oAF-pDiOhp2S"
      }
    },
    {
      "cell_type": "code",
      "source": [
        "import pandas as pd\n",
        "import torch\n",
        "import numpy as np\n",
        "import sqlite3\n",
        "import matplotlib.pyplot as plt\n",
        "import seaborn as sns\n",
        "import re\n",
        "import nltk\n",
        "from nltk.corpus import stopwords\n",
        "from nltk.stem import WordNetLemmatizer\n",
        "from nltk.stem.porter import PorterStemmer\n",
        "from sklearn.feature_extraction.text import CountVectorizer"
      ],
      "metadata": {
        "execution": {
          "iopub.execute_input": "2022-07-05T06:55:58.534737Z",
          "iopub.status.busy": "2022-07-05T06:55:58.534064Z",
          "iopub.status.idle": "2022-07-05T06:55:58.542197Z",
          "shell.execute_reply": "2022-07-05T06:55:58.541002Z",
          "shell.execute_reply.started": "2022-07-05T06:55:58.534702Z"
        },
        "papermill": {
          "duration": 3.349149,
          "end_time": "2022-06-13T19:46:31.487573",
          "exception": false,
          "start_time": "2022-06-13T19:46:28.138424",
          "status": "completed"
        },
        "tags": [],
        "id": "jc__bMnJtGan"
      },
      "execution_count": 1,
      "outputs": []
    },
    {
      "source": [
        "from google.colab import drive\n",
        "drive.mount('/content/drive')"
      ],
      "cell_type": "code",
      "metadata": {
        "id": "qrKB4O0SieRd",
        "colab": {
          "base_uri": "https://localhost:8080/"
        },
        "outputId": "a0c3d63e-f9f0-42de-c768-74adda30cd01"
      },
      "execution_count": 2,
      "outputs": [
        {
          "output_type": "stream",
          "name": "stdout",
          "text": [
            "Drive already mounted at /content/drive; to attempt to forcibly remount, call drive.mount(\"/content/drive\", force_remount=True).\n"
          ]
        }
      ]
    },
    {
      "cell_type": "markdown",
      "source": [
        "<h1  style=\"text-align: center\" class=\"list-group-item list-group-item-action active\">1. Data Preparation </h1><a id = \"2\" ></a>\n",
        "\n",
        "In our case we fetch the data from flipkart's web page from the online open data resources."
      ],
      "metadata": {
        "papermill": {
          "duration": 0.10424,
          "end_time": "2022-06-13T19:46:28.036258",
          "exception": false,
          "start_time": "2022-06-13T19:46:27.932018",
          "status": "completed"
        },
        "tags": [],
        "id": "_ir5pGwatGan"
      }
    },
    {
      "cell_type": "code",
      "source": [
        "import sqlite3\n",
        "\n",
        "# Read sqlite query results into a pandas DataFrame\n",
        "con = sqlite3.connect(\"/content/drive/MyDrive/Colab Notebooks/Data/flipkart_products.db\")\n",
        "items = pd.read_sql_query(\"SELECT * from items\", con)\n",
        "con.close()"
      ],
      "metadata": {
        "execution": {
          "iopub.execute_input": "2022-07-05T06:55:58.58416Z",
          "iopub.status.busy": "2022-07-05T06:55:58.583495Z",
          "iopub.status.idle": "2022-07-05T06:55:58.632633Z",
          "shell.execute_reply": "2022-07-05T06:55:58.631744Z",
          "shell.execute_reply.started": "2022-07-05T06:55:58.584096Z"
        },
        "papermill": {
          "duration": 0.173297,
          "end_time": "2022-06-13T19:46:31.968568",
          "exception": false,
          "start_time": "2022-06-13T19:46:31.795271",
          "status": "completed"
        },
        "tags": [],
        "id": "GzSPmr3xtGao"
      },
      "execution_count": 3,
      "outputs": []
    },
    {
      "cell_type": "markdown",
      "source": [
        "**The** data is fetched from flipkart India web page contains 83 tables in which 1 table contains information about rest 82 tables. Those rest 82 tables contains reviews of 82 mobile phones.\n",
        "\n",
        "A table which contains information about mobile phones has following attributes.\n",
        "\n",
        " - product_id    \n",
        " - product_name  \n",
        " - price         \n",
        " - category      \n",
        " - sub_category  \n",
        " - specifications\n",
        " - ratings       \n",
        " - discount      \n",
        " - moreinfo      \n",
        "\n",
        "Tables containing reviews of 82 mobile phones has following attributes.\n",
        "\n",
        " - product_id  \n",
        " - review_id   \n",
        " - title       \n",
        " - review      \n",
        " - likes       \n",
        " - dislikes    \n",
        " - ratings     \n",
        " - reviewer    \n",
        "\n"
      ],
      "metadata": {
        "papermill": {
          "duration": 0.101878,
          "end_time": "2022-06-13T19:46:31.691103",
          "exception": false,
          "start_time": "2022-06-13T19:46:31.589225",
          "status": "completed"
        },
        "tags": [],
        "id": "BD7LEeyftGao"
      }
    },
    {
      "cell_type": "code",
      "source": [
        "items.head()"
      ],
      "metadata": {
        "execution": {
          "iopub.execute_input": "2022-07-05T06:55:58.636212Z",
          "iopub.status.busy": "2022-07-05T06:55:58.635952Z",
          "iopub.status.idle": "2022-07-05T06:55:58.653353Z",
          "shell.execute_reply": "2022-07-05T06:55:58.652351Z",
          "shell.execute_reply.started": "2022-07-05T06:55:58.636187Z"
        },
        "papermill": {
          "duration": 0.124524,
          "end_time": "2022-06-13T19:46:32.195877",
          "exception": false,
          "start_time": "2022-06-13T19:46:32.071353",
          "status": "completed"
        },
        "tags": [],
        "id": "7FTP0amrtGap",
        "colab": {
          "base_uri": "https://localhost:8080/",
          "height": 380
        },
        "outputId": "4c050fb4-5359-432e-daa3-3c8f1c7be0a1"
      },
      "execution_count": 4,
      "outputs": [
        {
          "output_type": "execute_result",
          "data": {
            "text/plain": [
              "   product_id                      product_name    price     category  \\\n",
              "0  ECMB000001         Redmi 9A (SeaBlue, 32 GB)   ₹7,413  Electronics   \n",
              "1  ECMB000002  Redmi 9A (Midnight Black, 32 GB)   ₹7,421  Electronics   \n",
              "2  ECMB000003    Redmi 9A (Nature Green, 32 GB)   ₹7,384  Electronics   \n",
              "3  ECMB000004     Redmi 9 (Carbon Black, 64 GB)  ₹10,745  Electronics   \n",
              "4  ECMB000005         Redmi 9 (Sky Blue, 64 GB)  ₹10,489  Electronics   \n",
              "\n",
              "  sub_category                                     specifications ratings  \\\n",
              "0       Mobile  2 GB RAM | 32 GB ROM16.59 cm (6.53 inch) Full ...     4.3   \n",
              "1       Mobile  2 GB RAM | 32 GB ROM16.59 cm (6.53 inch) Full ...     4.3   \n",
              "2       Mobile  2 GB RAM | 32 GB ROM16.59 cm (6.53 inch) Full ...     4.3   \n",
              "3       Mobile  4 GB RAM | 64 GB ROM16.59 cm (6.53 inch) HD+ D...     4.2   \n",
              "4       Mobile  4 GB RAM | 64 GB ROM16.59 cm (6.53 inch) HD+ D...     4.2   \n",
              "\n",
              "  discount                                           moreinfo  \n",
              "0      3.0  /redmi-9a-seablue-32-gb/p/itmeabd39a0cd669?pid...  \n",
              "1      3.0  /redmi-9a-midnight-black-32-gb/p/itmeabd39a0cd...  \n",
              "2      4.0  /redmi-9a-nature-green-32-gb/p/itmeabd39a0cd66...  \n",
              "3     None  /redmi-9-carbon-black-64-gb/p/itm4fb151383983b...  \n",
              "4     None  /redmi-9-sky-blue-64-gb/p/itm4fb151383983b?pid...  "
            ],
            "text/html": [
              "\n",
              "  <div id=\"df-86a0a6c7-4b1f-46f6-8702-40e430489bf3\" class=\"colab-df-container\">\n",
              "    <div>\n",
              "<style scoped>\n",
              "    .dataframe tbody tr th:only-of-type {\n",
              "        vertical-align: middle;\n",
              "    }\n",
              "\n",
              "    .dataframe tbody tr th {\n",
              "        vertical-align: top;\n",
              "    }\n",
              "\n",
              "    .dataframe thead th {\n",
              "        text-align: right;\n",
              "    }\n",
              "</style>\n",
              "<table border=\"1\" class=\"dataframe\">\n",
              "  <thead>\n",
              "    <tr style=\"text-align: right;\">\n",
              "      <th></th>\n",
              "      <th>product_id</th>\n",
              "      <th>product_name</th>\n",
              "      <th>price</th>\n",
              "      <th>category</th>\n",
              "      <th>sub_category</th>\n",
              "      <th>specifications</th>\n",
              "      <th>ratings</th>\n",
              "      <th>discount</th>\n",
              "      <th>moreinfo</th>\n",
              "    </tr>\n",
              "  </thead>\n",
              "  <tbody>\n",
              "    <tr>\n",
              "      <th>0</th>\n",
              "      <td>ECMB000001</td>\n",
              "      <td>Redmi 9A (SeaBlue, 32 GB)</td>\n",
              "      <td>₹7,413</td>\n",
              "      <td>Electronics</td>\n",
              "      <td>Mobile</td>\n",
              "      <td>2 GB RAM | 32 GB ROM16.59 cm (6.53 inch) Full ...</td>\n",
              "      <td>4.3</td>\n",
              "      <td>3.0</td>\n",
              "      <td>/redmi-9a-seablue-32-gb/p/itmeabd39a0cd669?pid...</td>\n",
              "    </tr>\n",
              "    <tr>\n",
              "      <th>1</th>\n",
              "      <td>ECMB000002</td>\n",
              "      <td>Redmi 9A (Midnight Black, 32 GB)</td>\n",
              "      <td>₹7,421</td>\n",
              "      <td>Electronics</td>\n",
              "      <td>Mobile</td>\n",
              "      <td>2 GB RAM | 32 GB ROM16.59 cm (6.53 inch) Full ...</td>\n",
              "      <td>4.3</td>\n",
              "      <td>3.0</td>\n",
              "      <td>/redmi-9a-midnight-black-32-gb/p/itmeabd39a0cd...</td>\n",
              "    </tr>\n",
              "    <tr>\n",
              "      <th>2</th>\n",
              "      <td>ECMB000003</td>\n",
              "      <td>Redmi 9A (Nature Green, 32 GB)</td>\n",
              "      <td>₹7,384</td>\n",
              "      <td>Electronics</td>\n",
              "      <td>Mobile</td>\n",
              "      <td>2 GB RAM | 32 GB ROM16.59 cm (6.53 inch) Full ...</td>\n",
              "      <td>4.3</td>\n",
              "      <td>4.0</td>\n",
              "      <td>/redmi-9a-nature-green-32-gb/p/itmeabd39a0cd66...</td>\n",
              "    </tr>\n",
              "    <tr>\n",
              "      <th>3</th>\n",
              "      <td>ECMB000004</td>\n",
              "      <td>Redmi 9 (Carbon Black, 64 GB)</td>\n",
              "      <td>₹10,745</td>\n",
              "      <td>Electronics</td>\n",
              "      <td>Mobile</td>\n",
              "      <td>4 GB RAM | 64 GB ROM16.59 cm (6.53 inch) HD+ D...</td>\n",
              "      <td>4.2</td>\n",
              "      <td>None</td>\n",
              "      <td>/redmi-9-carbon-black-64-gb/p/itm4fb151383983b...</td>\n",
              "    </tr>\n",
              "    <tr>\n",
              "      <th>4</th>\n",
              "      <td>ECMB000005</td>\n",
              "      <td>Redmi 9 (Sky Blue, 64 GB)</td>\n",
              "      <td>₹10,489</td>\n",
              "      <td>Electronics</td>\n",
              "      <td>Mobile</td>\n",
              "      <td>4 GB RAM | 64 GB ROM16.59 cm (6.53 inch) HD+ D...</td>\n",
              "      <td>4.2</td>\n",
              "      <td>None</td>\n",
              "      <td>/redmi-9-sky-blue-64-gb/p/itm4fb151383983b?pid...</td>\n",
              "    </tr>\n",
              "  </tbody>\n",
              "</table>\n",
              "</div>\n",
              "    <div class=\"colab-df-buttons\">\n",
              "\n",
              "  <div class=\"colab-df-container\">\n",
              "    <button class=\"colab-df-convert\" onclick=\"convertToInteractive('df-86a0a6c7-4b1f-46f6-8702-40e430489bf3')\"\n",
              "            title=\"Convert this dataframe to an interactive table.\"\n",
              "            style=\"display:none;\">\n",
              "\n",
              "  <svg xmlns=\"http://www.w3.org/2000/svg\" height=\"24px\" viewBox=\"0 -960 960 960\">\n",
              "    <path d=\"M120-120v-720h720v720H120Zm60-500h600v-160H180v160Zm220 220h160v-160H400v160Zm0 220h160v-160H400v160ZM180-400h160v-160H180v160Zm440 0h160v-160H620v160ZM180-180h160v-160H180v160Zm440 0h160v-160H620v160Z\"/>\n",
              "  </svg>\n",
              "    </button>\n",
              "\n",
              "  <style>\n",
              "    .colab-df-container {\n",
              "      display:flex;\n",
              "      gap: 12px;\n",
              "    }\n",
              "\n",
              "    .colab-df-convert {\n",
              "      background-color: #E8F0FE;\n",
              "      border: none;\n",
              "      border-radius: 50%;\n",
              "      cursor: pointer;\n",
              "      display: none;\n",
              "      fill: #1967D2;\n",
              "      height: 32px;\n",
              "      padding: 0 0 0 0;\n",
              "      width: 32px;\n",
              "    }\n",
              "\n",
              "    .colab-df-convert:hover {\n",
              "      background-color: #E2EBFA;\n",
              "      box-shadow: 0px 1px 2px rgba(60, 64, 67, 0.3), 0px 1px 3px 1px rgba(60, 64, 67, 0.15);\n",
              "      fill: #174EA6;\n",
              "    }\n",
              "\n",
              "    .colab-df-buttons div {\n",
              "      margin-bottom: 4px;\n",
              "    }\n",
              "\n",
              "    [theme=dark] .colab-df-convert {\n",
              "      background-color: #3B4455;\n",
              "      fill: #D2E3FC;\n",
              "    }\n",
              "\n",
              "    [theme=dark] .colab-df-convert:hover {\n",
              "      background-color: #434B5C;\n",
              "      box-shadow: 0px 1px 3px 1px rgba(0, 0, 0, 0.15);\n",
              "      filter: drop-shadow(0px 1px 2px rgba(0, 0, 0, 0.3));\n",
              "      fill: #FFFFFF;\n",
              "    }\n",
              "  </style>\n",
              "\n",
              "    <script>\n",
              "      const buttonEl =\n",
              "        document.querySelector('#df-86a0a6c7-4b1f-46f6-8702-40e430489bf3 button.colab-df-convert');\n",
              "      buttonEl.style.display =\n",
              "        google.colab.kernel.accessAllowed ? 'block' : 'none';\n",
              "\n",
              "      async function convertToInteractive(key) {\n",
              "        const element = document.querySelector('#df-86a0a6c7-4b1f-46f6-8702-40e430489bf3');\n",
              "        const dataTable =\n",
              "          await google.colab.kernel.invokeFunction('convertToInteractive',\n",
              "                                                    [key], {});\n",
              "        if (!dataTable) return;\n",
              "\n",
              "        const docLinkHtml = 'Like what you see? Visit the ' +\n",
              "          '<a target=\"_blank\" href=https://colab.research.google.com/notebooks/data_table.ipynb>data table notebook</a>'\n",
              "          + ' to learn more about interactive tables.';\n",
              "        element.innerHTML = '';\n",
              "        dataTable['output_type'] = 'display_data';\n",
              "        await google.colab.output.renderOutput(dataTable, element);\n",
              "        const docLink = document.createElement('div');\n",
              "        docLink.innerHTML = docLinkHtml;\n",
              "        element.appendChild(docLink);\n",
              "      }\n",
              "    </script>\n",
              "  </div>\n",
              "\n",
              "\n",
              "<div id=\"df-325e81e6-1157-4d26-a8ca-cbfe44753f29\">\n",
              "  <button class=\"colab-df-quickchart\" onclick=\"quickchart('df-325e81e6-1157-4d26-a8ca-cbfe44753f29')\"\n",
              "            title=\"Suggest charts\"\n",
              "            style=\"display:none;\">\n",
              "\n",
              "<svg xmlns=\"http://www.w3.org/2000/svg\" height=\"24px\"viewBox=\"0 0 24 24\"\n",
              "     width=\"24px\">\n",
              "    <g>\n",
              "        <path d=\"M19 3H5c-1.1 0-2 .9-2 2v14c0 1.1.9 2 2 2h14c1.1 0 2-.9 2-2V5c0-1.1-.9-2-2-2zM9 17H7v-7h2v7zm4 0h-2V7h2v10zm4 0h-2v-4h2v4z\"/>\n",
              "    </g>\n",
              "</svg>\n",
              "  </button>\n",
              "\n",
              "<style>\n",
              "  .colab-df-quickchart {\n",
              "      --bg-color: #E8F0FE;\n",
              "      --fill-color: #1967D2;\n",
              "      --hover-bg-color: #E2EBFA;\n",
              "      --hover-fill-color: #174EA6;\n",
              "      --disabled-fill-color: #AAA;\n",
              "      --disabled-bg-color: #DDD;\n",
              "  }\n",
              "\n",
              "  [theme=dark] .colab-df-quickchart {\n",
              "      --bg-color: #3B4455;\n",
              "      --fill-color: #D2E3FC;\n",
              "      --hover-bg-color: #434B5C;\n",
              "      --hover-fill-color: #FFFFFF;\n",
              "      --disabled-bg-color: #3B4455;\n",
              "      --disabled-fill-color: #666;\n",
              "  }\n",
              "\n",
              "  .colab-df-quickchart {\n",
              "    background-color: var(--bg-color);\n",
              "    border: none;\n",
              "    border-radius: 50%;\n",
              "    cursor: pointer;\n",
              "    display: none;\n",
              "    fill: var(--fill-color);\n",
              "    height: 32px;\n",
              "    padding: 0;\n",
              "    width: 32px;\n",
              "  }\n",
              "\n",
              "  .colab-df-quickchart:hover {\n",
              "    background-color: var(--hover-bg-color);\n",
              "    box-shadow: 0 1px 2px rgba(60, 64, 67, 0.3), 0 1px 3px 1px rgba(60, 64, 67, 0.15);\n",
              "    fill: var(--button-hover-fill-color);\n",
              "  }\n",
              "\n",
              "  .colab-df-quickchart-complete:disabled,\n",
              "  .colab-df-quickchart-complete:disabled:hover {\n",
              "    background-color: var(--disabled-bg-color);\n",
              "    fill: var(--disabled-fill-color);\n",
              "    box-shadow: none;\n",
              "  }\n",
              "\n",
              "  .colab-df-spinner {\n",
              "    border: 2px solid var(--fill-color);\n",
              "    border-color: transparent;\n",
              "    border-bottom-color: var(--fill-color);\n",
              "    animation:\n",
              "      spin 1s steps(1) infinite;\n",
              "  }\n",
              "\n",
              "  @keyframes spin {\n",
              "    0% {\n",
              "      border-color: transparent;\n",
              "      border-bottom-color: var(--fill-color);\n",
              "      border-left-color: var(--fill-color);\n",
              "    }\n",
              "    20% {\n",
              "      border-color: transparent;\n",
              "      border-left-color: var(--fill-color);\n",
              "      border-top-color: var(--fill-color);\n",
              "    }\n",
              "    30% {\n",
              "      border-color: transparent;\n",
              "      border-left-color: var(--fill-color);\n",
              "      border-top-color: var(--fill-color);\n",
              "      border-right-color: var(--fill-color);\n",
              "    }\n",
              "    40% {\n",
              "      border-color: transparent;\n",
              "      border-right-color: var(--fill-color);\n",
              "      border-top-color: var(--fill-color);\n",
              "    }\n",
              "    60% {\n",
              "      border-color: transparent;\n",
              "      border-right-color: var(--fill-color);\n",
              "    }\n",
              "    80% {\n",
              "      border-color: transparent;\n",
              "      border-right-color: var(--fill-color);\n",
              "      border-bottom-color: var(--fill-color);\n",
              "    }\n",
              "    90% {\n",
              "      border-color: transparent;\n",
              "      border-bottom-color: var(--fill-color);\n",
              "    }\n",
              "  }\n",
              "</style>\n",
              "\n",
              "  <script>\n",
              "    async function quickchart(key) {\n",
              "      const quickchartButtonEl =\n",
              "        document.querySelector('#' + key + ' button');\n",
              "      quickchartButtonEl.disabled = true;  // To prevent multiple clicks.\n",
              "      quickchartButtonEl.classList.add('colab-df-spinner');\n",
              "      try {\n",
              "        const charts = await google.colab.kernel.invokeFunction(\n",
              "            'suggestCharts', [key], {});\n",
              "      } catch (error) {\n",
              "        console.error('Error during call to suggestCharts:', error);\n",
              "      }\n",
              "      quickchartButtonEl.classList.remove('colab-df-spinner');\n",
              "      quickchartButtonEl.classList.add('colab-df-quickchart-complete');\n",
              "    }\n",
              "    (() => {\n",
              "      let quickchartButtonEl =\n",
              "        document.querySelector('#df-325e81e6-1157-4d26-a8ca-cbfe44753f29 button');\n",
              "      quickchartButtonEl.style.display =\n",
              "        google.colab.kernel.accessAllowed ? 'block' : 'none';\n",
              "    })();\n",
              "  </script>\n",
              "</div>\n",
              "\n",
              "    </div>\n",
              "  </div>\n"
            ],
            "application/vnd.google.colaboratory.intrinsic+json": {
              "type": "dataframe",
              "variable_name": "items",
              "summary": "{\n  \"name\": \"items\",\n  \"rows\": 82,\n  \"fields\": [\n    {\n      \"column\": \"product_id\",\n      \"properties\": {\n        \"dtype\": \"string\",\n        \"num_unique_values\": 82,\n        \"samples\": [\n          \"ECMB000031\",\n          \"ECMB000001\",\n          \"ECMB000023\"\n        ],\n        \"semantic_type\": \"\",\n        \"description\": \"\"\n      }\n    },\n    {\n      \"column\": \"product_name\",\n      \"properties\": {\n        \"dtype\": \"string\",\n        \"num_unique_values\": 62,\n        \"samples\": [\n          \"Redmi Note 7S (Sapphire Blue, 64 GB)\",\n          \"Mi 4i (Blue, 16 GB)\",\n          \"Redmi 9A (SeaBlue, 32 GB)\"\n        ],\n        \"semantic_type\": \"\",\n        \"description\": \"\"\n      }\n    },\n    {\n      \"column\": \"price\",\n      \"properties\": {\n        \"dtype\": \"string\",\n        \"num_unique_values\": 59,\n        \"samples\": [\n          \"\\u20b97,413\",\n          \"\\u20b98,289\",\n          \"\\u20b925,974\"\n        ],\n        \"semantic_type\": \"\",\n        \"description\": \"\"\n      }\n    },\n    {\n      \"column\": \"category\",\n      \"properties\": {\n        \"dtype\": \"category\",\n        \"num_unique_values\": 1,\n        \"samples\": [\n          \"Electronics\"\n        ],\n        \"semantic_type\": \"\",\n        \"description\": \"\"\n      }\n    },\n    {\n      \"column\": \"sub_category\",\n      \"properties\": {\n        \"dtype\": \"category\",\n        \"num_unique_values\": 1,\n        \"samples\": [\n          \"Mobile\"\n        ],\n        \"semantic_type\": \"\",\n        \"description\": \"\"\n      }\n    },\n    {\n      \"column\": \"specifications\",\n      \"properties\": {\n        \"dtype\": \"string\",\n        \"num_unique_values\": 49,\n        \"samples\": [\n          \"4 GB RAM | 128 GB ROM | Expandable Upto 512 GB16.94 cm (6.67 inch) Full HD+ Display48MP + 8MP + 5MP + 2MP | 16MP Front Camera5020 mAh BatteryQualcomm\\u00ae Snapdragon\\u2122 720G Processor1 year manufacturer warranty for device and 6 months manufacturer warranty for in-box accessories\"\n        ],\n        \"semantic_type\": \"\",\n        \"description\": \"\"\n      }\n    },\n    {\n      \"column\": \"ratings\",\n      \"properties\": {\n        \"dtype\": \"category\",\n        \"num_unique_values\": 5,\n        \"samples\": [\n          \"4.2\"\n        ],\n        \"semantic_type\": \"\",\n        \"description\": \"\"\n      }\n    },\n    {\n      \"column\": \"discount\",\n      \"properties\": {\n        \"dtype\": \"category\",\n        \"num_unique_values\": 25,\n        \"samples\": [\n          8.0\n        ],\n        \"semantic_type\": \"\",\n        \"description\": \"\"\n      }\n    },\n    {\n      \"column\": \"moreinfo\",\n      \"properties\": {\n        \"dtype\": \"string\",\n        \"num_unique_values\": 82,\n        \"samples\": [\n          \"/mi-11x-5g-lunar-white-128-gb/p/itmdc6a5f695c609?pid=MOBG2QSCM6PGST6M&lid=LSTMOBG2QSCM6PGST6MSQ1O25&marketplace=FLIPKART&store=tyy%2F4io&srno=b_2_37&otracker=nmenu_sub_Electronics_0_Mi&fm=organic&iid=6e1ab22f-816b-4eda-bc16-872a6b3a4bb8.MOBG2QSCM6PGST6M.SEARCH&ppt=None&ppn=None&ssid=fo0vlml0gg0000001626874765404\"\n        ],\n        \"semantic_type\": \"\",\n        \"description\": \"\"\n      }\n    }\n  ]\n}"
            }
          },
          "metadata": {},
          "execution_count": 4
        }
      ]
    },
    {
      "cell_type": "code",
      "source": [
        "items.info()"
      ],
      "metadata": {
        "execution": {
          "iopub.execute_input": "2022-07-05T06:55:58.655322Z",
          "iopub.status.busy": "2022-07-05T06:55:58.654964Z",
          "iopub.status.idle": "2022-07-05T06:55:58.668365Z",
          "shell.execute_reply": "2022-07-05T06:55:58.666319Z",
          "shell.execute_reply.started": "2022-07-05T06:55:58.655267Z"
        },
        "papermill": {
          "duration": 0.12442,
          "end_time": "2022-06-13T19:46:32.422375",
          "exception": false,
          "start_time": "2022-06-13T19:46:32.297955",
          "status": "completed"
        },
        "tags": [],
        "id": "UxtHwue1tGap",
        "colab": {
          "base_uri": "https://localhost:8080/"
        },
        "outputId": "3e83c8cd-dc2a-4a5c-c9dd-9c135beb5e9e"
      },
      "execution_count": 5,
      "outputs": [
        {
          "output_type": "stream",
          "name": "stdout",
          "text": [
            "<class 'pandas.core.frame.DataFrame'>\n",
            "RangeIndex: 82 entries, 0 to 81\n",
            "Data columns (total 9 columns):\n",
            " #   Column          Non-Null Count  Dtype \n",
            "---  ------          --------------  ----- \n",
            " 0   product_id      82 non-null     object\n",
            " 1   product_name    82 non-null     object\n",
            " 2   price           82 non-null     object\n",
            " 3   category        82 non-null     object\n",
            " 4   sub_category    82 non-null     object\n",
            " 5   specifications  82 non-null     object\n",
            " 6   ratings         82 non-null     object\n",
            " 7   discount        34 non-null     object\n",
            " 8   moreinfo        82 non-null     object\n",
            "dtypes: object(9)\n",
            "memory usage: 5.9+ KB\n"
          ]
        }
      ]
    },
    {
      "cell_type": "markdown",
      "source": [
        "Items dataset is just like an index for some book."
      ],
      "metadata": {
        "papermill": {
          "duration": 0.102265,
          "end_time": "2022-06-13T19:46:32.6309",
          "exception": false,
          "start_time": "2022-06-13T19:46:32.528635",
          "status": "completed"
        },
        "tags": [],
        "id": "GQE9mlcstGap"
      }
    },
    {
      "cell_type": "code",
      "source": [
        "con = sqlite3.connect(\"/content/drive/MyDrive/Colab Notebooks/Data/flipkart_products.db\")\n",
        "\n",
        "df = pd.read_sql_query(\"SELECT * from ECMB000001\", con)\n",
        "\n",
        "for i in range(2, len(items) + 1):\n",
        "\n",
        "    df_temp = pd.read_sql_query(\"SELECT * from ECMB{:06d}\".format(i), con)\n",
        "    df = pd.concat([df, df_temp])\n",
        "con.close()\n"
      ],
      "metadata": {
        "execution": {
          "iopub.execute_input": "2022-07-05T06:55:58.671265Z",
          "iopub.status.busy": "2022-07-05T06:55:58.670413Z",
          "iopub.status.idle": "2022-07-05T06:55:59.899293Z",
          "shell.execute_reply": "2022-07-05T06:55:59.898347Z",
          "shell.execute_reply.started": "2022-07-05T06:55:58.671224Z"
        },
        "papermill": {
          "duration": 1.494515,
          "end_time": "2022-06-13T19:46:34.227839",
          "exception": false,
          "start_time": "2022-06-13T19:46:32.733324",
          "status": "completed"
        },
        "tags": [],
        "id": "fu1Jmk-CtGaq"
      },
      "execution_count": 6,
      "outputs": []
    },
    {
      "cell_type": "code",
      "source": [
        "df.info()\n"
      ],
      "metadata": {
        "execution": {
          "iopub.execute_input": "2022-07-05T06:55:59.9025Z",
          "iopub.status.busy": "2022-07-05T06:55:59.902199Z",
          "iopub.status.idle": "2022-07-05T06:55:59.955553Z",
          "shell.execute_reply": "2022-07-05T06:55:59.954383Z",
          "shell.execute_reply.started": "2022-07-05T06:55:59.902474Z"
        },
        "papermill": {
          "duration": 0.159363,
          "end_time": "2022-06-13T19:46:34.490666",
          "exception": false,
          "start_time": "2022-06-13T19:46:34.331303",
          "status": "completed"
        },
        "tags": [],
        "id": "yM45V2mktGaq",
        "colab": {
          "base_uri": "https://localhost:8080/"
        },
        "outputId": "27b92c2f-3056-4885-ddc9-3bae4176aff4"
      },
      "execution_count": 7,
      "outputs": [
        {
          "output_type": "stream",
          "name": "stdout",
          "text": [
            "<class 'pandas.core.frame.DataFrame'>\n",
            "Int64Index: 53493 entries, 0 to 289\n",
            "Data columns (total 8 columns):\n",
            " #   Column      Non-Null Count  Dtype \n",
            "---  ------      --------------  ----- \n",
            " 0   product_id  53493 non-null  object\n",
            " 1   review_id   53493 non-null  object\n",
            " 2   title       53493 non-null  object\n",
            " 3   review      53493 non-null  object\n",
            " 4   likes       53493 non-null  object\n",
            " 5   dislikes    53493 non-null  object\n",
            " 6   ratings     48488 non-null  object\n",
            " 7   reviewer    53493 non-null  object\n",
            "dtypes: object(8)\n",
            "memory usage: 3.7+ MB\n"
          ]
        }
      ]
    },
    {
      "cell_type": "code",
      "source": [
        "df.head()"
      ],
      "metadata": {
        "execution": {
          "iopub.execute_input": "2022-07-05T06:55:59.95828Z",
          "iopub.status.busy": "2022-07-05T06:55:59.957158Z",
          "iopub.status.idle": "2022-07-05T06:55:59.973952Z",
          "shell.execute_reply": "2022-07-05T06:55:59.97294Z",
          "shell.execute_reply.started": "2022-07-05T06:55:59.958241Z"
        },
        "papermill": {
          "duration": 0.119134,
          "end_time": "2022-06-13T19:46:34.714863",
          "exception": false,
          "start_time": "2022-06-13T19:46:34.595729",
          "status": "completed"
        },
        "tags": [],
        "id": "rLXi1zSytGaq",
        "colab": {
          "base_uri": "https://localhost:8080/",
          "height": 293
        },
        "outputId": "7abf9ec1-722f-4aae-8aa3-b670401afac2"
      },
      "execution_count": 8,
      "outputs": [
        {
          "output_type": "execute_result",
          "data": {
            "text/plain": [
              "   product_id          review_id               title  \\\n",
              "0  ECMB000001  ECMB0000010000001           Excellent   \n",
              "1  ECMB000001  ECMB0000010000002     Worth the money   \n",
              "2  ECMB000001  ECMB0000010000003           Just wow!   \n",
              "3  ECMB000001  ECMB0000010000004      Simply awesome   \n",
              "4  ECMB000001  ECMB0000010000005  Highly recommended   \n",
              "\n",
              "                                              review likes dislikes ratings  \\\n",
              "0  Wow superb I love it❤️👍 battery backup so nice 👍👍   740      160       5   \n",
              "1  Mobile So Good In Range Redmi 9a Has Miui 12 L...   355      104       4   \n",
              "2  Wonderful device and smart phone best camera b...   125       47       5   \n",
              "3  Very good mobile. Value for money. Battery bac...     0        0       5   \n",
              "4                Really great.... value for money...    90       15       5   \n",
              "\n",
              "             reviewer  \n",
              "0      Abhishek Saini  \n",
              "1  Dinesh Kumar Sahni  \n",
              "2   Flipkart Customer  \n",
              "3            Amit Sen  \n",
              "4     Sudeshna pakira  "
            ],
            "text/html": [
              "\n",
              "  <div id=\"df-3d7f3c47-0ac9-430f-8a24-f0566e9c65d0\" class=\"colab-df-container\">\n",
              "    <div>\n",
              "<style scoped>\n",
              "    .dataframe tbody tr th:only-of-type {\n",
              "        vertical-align: middle;\n",
              "    }\n",
              "\n",
              "    .dataframe tbody tr th {\n",
              "        vertical-align: top;\n",
              "    }\n",
              "\n",
              "    .dataframe thead th {\n",
              "        text-align: right;\n",
              "    }\n",
              "</style>\n",
              "<table border=\"1\" class=\"dataframe\">\n",
              "  <thead>\n",
              "    <tr style=\"text-align: right;\">\n",
              "      <th></th>\n",
              "      <th>product_id</th>\n",
              "      <th>review_id</th>\n",
              "      <th>title</th>\n",
              "      <th>review</th>\n",
              "      <th>likes</th>\n",
              "      <th>dislikes</th>\n",
              "      <th>ratings</th>\n",
              "      <th>reviewer</th>\n",
              "    </tr>\n",
              "  </thead>\n",
              "  <tbody>\n",
              "    <tr>\n",
              "      <th>0</th>\n",
              "      <td>ECMB000001</td>\n",
              "      <td>ECMB0000010000001</td>\n",
              "      <td>Excellent</td>\n",
              "      <td>Wow superb I love it❤️👍 battery backup so nice 👍👍</td>\n",
              "      <td>740</td>\n",
              "      <td>160</td>\n",
              "      <td>5</td>\n",
              "      <td>Abhishek Saini</td>\n",
              "    </tr>\n",
              "    <tr>\n",
              "      <th>1</th>\n",
              "      <td>ECMB000001</td>\n",
              "      <td>ECMB0000010000002</td>\n",
              "      <td>Worth the money</td>\n",
              "      <td>Mobile So Good In Range Redmi 9a Has Miui 12 L...</td>\n",
              "      <td>355</td>\n",
              "      <td>104</td>\n",
              "      <td>4</td>\n",
              "      <td>Dinesh Kumar Sahni</td>\n",
              "    </tr>\n",
              "    <tr>\n",
              "      <th>2</th>\n",
              "      <td>ECMB000001</td>\n",
              "      <td>ECMB0000010000003</td>\n",
              "      <td>Just wow!</td>\n",
              "      <td>Wonderful device and smart phone best camera b...</td>\n",
              "      <td>125</td>\n",
              "      <td>47</td>\n",
              "      <td>5</td>\n",
              "      <td>Flipkart Customer</td>\n",
              "    </tr>\n",
              "    <tr>\n",
              "      <th>3</th>\n",
              "      <td>ECMB000001</td>\n",
              "      <td>ECMB0000010000004</td>\n",
              "      <td>Simply awesome</td>\n",
              "      <td>Very good mobile. Value for money. Battery bac...</td>\n",
              "      <td>0</td>\n",
              "      <td>0</td>\n",
              "      <td>5</td>\n",
              "      <td>Amit Sen</td>\n",
              "    </tr>\n",
              "    <tr>\n",
              "      <th>4</th>\n",
              "      <td>ECMB000001</td>\n",
              "      <td>ECMB0000010000005</td>\n",
              "      <td>Highly recommended</td>\n",
              "      <td>Really great.... value for money...</td>\n",
              "      <td>90</td>\n",
              "      <td>15</td>\n",
              "      <td>5</td>\n",
              "      <td>Sudeshna pakira</td>\n",
              "    </tr>\n",
              "  </tbody>\n",
              "</table>\n",
              "</div>\n",
              "    <div class=\"colab-df-buttons\">\n",
              "\n",
              "  <div class=\"colab-df-container\">\n",
              "    <button class=\"colab-df-convert\" onclick=\"convertToInteractive('df-3d7f3c47-0ac9-430f-8a24-f0566e9c65d0')\"\n",
              "            title=\"Convert this dataframe to an interactive table.\"\n",
              "            style=\"display:none;\">\n",
              "\n",
              "  <svg xmlns=\"http://www.w3.org/2000/svg\" height=\"24px\" viewBox=\"0 -960 960 960\">\n",
              "    <path d=\"M120-120v-720h720v720H120Zm60-500h600v-160H180v160Zm220 220h160v-160H400v160Zm0 220h160v-160H400v160ZM180-400h160v-160H180v160Zm440 0h160v-160H620v160ZM180-180h160v-160H180v160Zm440 0h160v-160H620v160Z\"/>\n",
              "  </svg>\n",
              "    </button>\n",
              "\n",
              "  <style>\n",
              "    .colab-df-container {\n",
              "      display:flex;\n",
              "      gap: 12px;\n",
              "    }\n",
              "\n",
              "    .colab-df-convert {\n",
              "      background-color: #E8F0FE;\n",
              "      border: none;\n",
              "      border-radius: 50%;\n",
              "      cursor: pointer;\n",
              "      display: none;\n",
              "      fill: #1967D2;\n",
              "      height: 32px;\n",
              "      padding: 0 0 0 0;\n",
              "      width: 32px;\n",
              "    }\n",
              "\n",
              "    .colab-df-convert:hover {\n",
              "      background-color: #E2EBFA;\n",
              "      box-shadow: 0px 1px 2px rgba(60, 64, 67, 0.3), 0px 1px 3px 1px rgba(60, 64, 67, 0.15);\n",
              "      fill: #174EA6;\n",
              "    }\n",
              "\n",
              "    .colab-df-buttons div {\n",
              "      margin-bottom: 4px;\n",
              "    }\n",
              "\n",
              "    [theme=dark] .colab-df-convert {\n",
              "      background-color: #3B4455;\n",
              "      fill: #D2E3FC;\n",
              "    }\n",
              "\n",
              "    [theme=dark] .colab-df-convert:hover {\n",
              "      background-color: #434B5C;\n",
              "      box-shadow: 0px 1px 3px 1px rgba(0, 0, 0, 0.15);\n",
              "      filter: drop-shadow(0px 1px 2px rgba(0, 0, 0, 0.3));\n",
              "      fill: #FFFFFF;\n",
              "    }\n",
              "  </style>\n",
              "\n",
              "    <script>\n",
              "      const buttonEl =\n",
              "        document.querySelector('#df-3d7f3c47-0ac9-430f-8a24-f0566e9c65d0 button.colab-df-convert');\n",
              "      buttonEl.style.display =\n",
              "        google.colab.kernel.accessAllowed ? 'block' : 'none';\n",
              "\n",
              "      async function convertToInteractive(key) {\n",
              "        const element = document.querySelector('#df-3d7f3c47-0ac9-430f-8a24-f0566e9c65d0');\n",
              "        const dataTable =\n",
              "          await google.colab.kernel.invokeFunction('convertToInteractive',\n",
              "                                                    [key], {});\n",
              "        if (!dataTable) return;\n",
              "\n",
              "        const docLinkHtml = 'Like what you see? Visit the ' +\n",
              "          '<a target=\"_blank\" href=https://colab.research.google.com/notebooks/data_table.ipynb>data table notebook</a>'\n",
              "          + ' to learn more about interactive tables.';\n",
              "        element.innerHTML = '';\n",
              "        dataTable['output_type'] = 'display_data';\n",
              "        await google.colab.output.renderOutput(dataTable, element);\n",
              "        const docLink = document.createElement('div');\n",
              "        docLink.innerHTML = docLinkHtml;\n",
              "        element.appendChild(docLink);\n",
              "      }\n",
              "    </script>\n",
              "  </div>\n",
              "\n",
              "\n",
              "<div id=\"df-142eacca-f617-47ec-9adf-7abf77d14419\">\n",
              "  <button class=\"colab-df-quickchart\" onclick=\"quickchart('df-142eacca-f617-47ec-9adf-7abf77d14419')\"\n",
              "            title=\"Suggest charts\"\n",
              "            style=\"display:none;\">\n",
              "\n",
              "<svg xmlns=\"http://www.w3.org/2000/svg\" height=\"24px\"viewBox=\"0 0 24 24\"\n",
              "     width=\"24px\">\n",
              "    <g>\n",
              "        <path d=\"M19 3H5c-1.1 0-2 .9-2 2v14c0 1.1.9 2 2 2h14c1.1 0 2-.9 2-2V5c0-1.1-.9-2-2-2zM9 17H7v-7h2v7zm4 0h-2V7h2v10zm4 0h-2v-4h2v4z\"/>\n",
              "    </g>\n",
              "</svg>\n",
              "  </button>\n",
              "\n",
              "<style>\n",
              "  .colab-df-quickchart {\n",
              "      --bg-color: #E8F0FE;\n",
              "      --fill-color: #1967D2;\n",
              "      --hover-bg-color: #E2EBFA;\n",
              "      --hover-fill-color: #174EA6;\n",
              "      --disabled-fill-color: #AAA;\n",
              "      --disabled-bg-color: #DDD;\n",
              "  }\n",
              "\n",
              "  [theme=dark] .colab-df-quickchart {\n",
              "      --bg-color: #3B4455;\n",
              "      --fill-color: #D2E3FC;\n",
              "      --hover-bg-color: #434B5C;\n",
              "      --hover-fill-color: #FFFFFF;\n",
              "      --disabled-bg-color: #3B4455;\n",
              "      --disabled-fill-color: #666;\n",
              "  }\n",
              "\n",
              "  .colab-df-quickchart {\n",
              "    background-color: var(--bg-color);\n",
              "    border: none;\n",
              "    border-radius: 50%;\n",
              "    cursor: pointer;\n",
              "    display: none;\n",
              "    fill: var(--fill-color);\n",
              "    height: 32px;\n",
              "    padding: 0;\n",
              "    width: 32px;\n",
              "  }\n",
              "\n",
              "  .colab-df-quickchart:hover {\n",
              "    background-color: var(--hover-bg-color);\n",
              "    box-shadow: 0 1px 2px rgba(60, 64, 67, 0.3), 0 1px 3px 1px rgba(60, 64, 67, 0.15);\n",
              "    fill: var(--button-hover-fill-color);\n",
              "  }\n",
              "\n",
              "  .colab-df-quickchart-complete:disabled,\n",
              "  .colab-df-quickchart-complete:disabled:hover {\n",
              "    background-color: var(--disabled-bg-color);\n",
              "    fill: var(--disabled-fill-color);\n",
              "    box-shadow: none;\n",
              "  }\n",
              "\n",
              "  .colab-df-spinner {\n",
              "    border: 2px solid var(--fill-color);\n",
              "    border-color: transparent;\n",
              "    border-bottom-color: var(--fill-color);\n",
              "    animation:\n",
              "      spin 1s steps(1) infinite;\n",
              "  }\n",
              "\n",
              "  @keyframes spin {\n",
              "    0% {\n",
              "      border-color: transparent;\n",
              "      border-bottom-color: var(--fill-color);\n",
              "      border-left-color: var(--fill-color);\n",
              "    }\n",
              "    20% {\n",
              "      border-color: transparent;\n",
              "      border-left-color: var(--fill-color);\n",
              "      border-top-color: var(--fill-color);\n",
              "    }\n",
              "    30% {\n",
              "      border-color: transparent;\n",
              "      border-left-color: var(--fill-color);\n",
              "      border-top-color: var(--fill-color);\n",
              "      border-right-color: var(--fill-color);\n",
              "    }\n",
              "    40% {\n",
              "      border-color: transparent;\n",
              "      border-right-color: var(--fill-color);\n",
              "      border-top-color: var(--fill-color);\n",
              "    }\n",
              "    60% {\n",
              "      border-color: transparent;\n",
              "      border-right-color: var(--fill-color);\n",
              "    }\n",
              "    80% {\n",
              "      border-color: transparent;\n",
              "      border-right-color: var(--fill-color);\n",
              "      border-bottom-color: var(--fill-color);\n",
              "    }\n",
              "    90% {\n",
              "      border-color: transparent;\n",
              "      border-bottom-color: var(--fill-color);\n",
              "    }\n",
              "  }\n",
              "</style>\n",
              "\n",
              "  <script>\n",
              "    async function quickchart(key) {\n",
              "      const quickchartButtonEl =\n",
              "        document.querySelector('#' + key + ' button');\n",
              "      quickchartButtonEl.disabled = true;  // To prevent multiple clicks.\n",
              "      quickchartButtonEl.classList.add('colab-df-spinner');\n",
              "      try {\n",
              "        const charts = await google.colab.kernel.invokeFunction(\n",
              "            'suggestCharts', [key], {});\n",
              "      } catch (error) {\n",
              "        console.error('Error during call to suggestCharts:', error);\n",
              "      }\n",
              "      quickchartButtonEl.classList.remove('colab-df-spinner');\n",
              "      quickchartButtonEl.classList.add('colab-df-quickchart-complete');\n",
              "    }\n",
              "    (() => {\n",
              "      let quickchartButtonEl =\n",
              "        document.querySelector('#df-142eacca-f617-47ec-9adf-7abf77d14419 button');\n",
              "      quickchartButtonEl.style.display =\n",
              "        google.colab.kernel.accessAllowed ? 'block' : 'none';\n",
              "    })();\n",
              "  </script>\n",
              "</div>\n",
              "\n",
              "    </div>\n",
              "  </div>\n"
            ],
            "application/vnd.google.colaboratory.intrinsic+json": {
              "type": "dataframe",
              "variable_name": "df",
              "summary": "{\n  \"name\": \"df\",\n  \"rows\": 53493,\n  \"fields\": [\n    {\n      \"column\": \"product_id\",\n      \"properties\": {\n        \"dtype\": \"category\",\n        \"num_unique_values\": 81,\n        \"samples\": [\n          \"ECMB000032\",\n          \"ECMB000001\",\n          \"ECMB000023\"\n        ],\n        \"semantic_type\": \"\",\n        \"description\": \"\"\n      }\n    },\n    {\n      \"column\": \"review_id\",\n      \"properties\": {\n        \"dtype\": \"string\",\n        \"num_unique_values\": 53493,\n        \"samples\": [\n          \"ECMB0000450000048\",\n          \"ECMB0000050000141\",\n          \"ECMB0000250000789\"\n        ],\n        \"semantic_type\": \"\",\n        \"description\": \"\"\n      }\n    },\n    {\n      \"column\": \"title\",\n      \"properties\": {\n        \"dtype\": \"category\",\n        \"num_unique_values\": 783,\n        \"samples\": [\n          \"GREAT LOOKS. At this price its Great.\",\n          \"Stunning looks\",\n          \"Great budget Smart Phone \"\n        ],\n        \"semantic_type\": \"\",\n        \"description\": \"\"\n      }\n    },\n    {\n      \"column\": \"review\",\n      \"properties\": {\n        \"dtype\": \"category\",\n        \"num_unique_values\": 20153,\n        \"samples\": [\n          \"Nice. Worth for this price\",\n          \"awesome phone camera is just osm I really love it..\",\n          \"Good working\"\n        ],\n        \"semantic_type\": \"\",\n        \"description\": \"\"\n      }\n    },\n    {\n      \"column\": \"likes\",\n      \"properties\": {\n        \"dtype\": \"category\",\n        \"num_unique_values\": 513,\n        \"samples\": [\n          \"534\",\n          \"518\",\n          \"202\"\n        ],\n        \"semantic_type\": \"\",\n        \"description\": \"\"\n      }\n    },\n    {\n      \"column\": \"dislikes\",\n      \"properties\": {\n        \"dtype\": \"category\",\n        \"num_unique_values\": 282,\n        \"samples\": [\n          \"33\",\n          \"92\",\n          \"255\"\n        ],\n        \"semantic_type\": \"\",\n        \"description\": \"\"\n      }\n    },\n    {\n      \"column\": \"ratings\",\n      \"properties\": {\n        \"dtype\": \"category\",\n        \"num_unique_values\": 3,\n        \"samples\": [\n          \"5\",\n          \"4\",\n          \"3\"\n        ],\n        \"semantic_type\": \"\",\n        \"description\": \"\"\n      }\n    },\n    {\n      \"column\": \"reviewer\",\n      \"properties\": {\n        \"dtype\": \"category\",\n        \"num_unique_values\": 22134,\n        \"samples\": [\n          \"Prasanta Patra\",\n          \"Virat Chanda\",\n          \"Jeel Patel\"\n        ],\n        \"semantic_type\": \"\",\n        \"description\": \"\"\n      }\n    }\n  ]\n}"
            }
          },
          "metadata": {},
          "execution_count": 8
        }
      ]
    },
    {
      "cell_type": "markdown",
      "source": [
        "<h2  style=\"text-align: center\" class=\"list-group-item list-group-item-success\"> 2 Data Cleaning </h2><a id = \"2.3\" ></a>\n",
        "\n"
      ],
      "metadata": {
        "papermill": {
          "duration": 0.104184,
          "end_time": "2022-06-13T19:46:35.130908",
          "exception": false,
          "start_time": "2022-06-13T19:46:35.026724",
          "status": "completed"
        },
        "tags": [],
        "id": "57S_gttctGaq"
      }
    },
    {
      "cell_type": "markdown",
      "source": [
        "### Missing data manipulation\n",
        "We can handle missing values using lots of techniques like simple statistical methods, using machine learning models and many more but in this case majority of missing values are from ratings column and we will use that column as label column later so I don't want to fake out or ruin the original distribution of the label data specially so thats why I will be dropping the rows having missing values in column ratings. Dropping technique in never recommended but in this senario I am using it.  "
      ],
      "metadata": {
        "papermill": {
          "duration": 0.116567,
          "end_time": "2022-06-13T19:46:36.224664",
          "exception": false,
          "start_time": "2022-06-13T19:46:36.108097",
          "status": "completed"
        },
        "tags": [],
        "id": "oI0Shyy-tGar"
      }
    },
    {
      "cell_type": "code",
      "source": [
        "df.isna().sum()"
      ],
      "metadata": {
        "colab": {
          "base_uri": "https://localhost:8080/"
        },
        "id": "Q5yJvZ7kDFbO",
        "outputId": "c3218e33-ab16-4858-c7dc-9049bbde6aa7"
      },
      "execution_count": 9,
      "outputs": [
        {
          "output_type": "execute_result",
          "data": {
            "text/plain": [
              "product_id       0\n",
              "review_id        0\n",
              "title            0\n",
              "review           0\n",
              "likes            0\n",
              "dislikes         0\n",
              "ratings       5005\n",
              "reviewer         0\n",
              "dtype: int64"
            ]
          },
          "metadata": {},
          "execution_count": 9
        }
      ]
    },
    {
      "cell_type": "code",
      "source": [
        "# Dropping the rows with missing values\n",
        "\n",
        "df.dropna(inplace=True, axis=0)\n",
        "df.info()"
      ],
      "metadata": {
        "execution": {
          "iopub.execute_input": "2022-07-05T06:56:00.569185Z",
          "iopub.status.busy": "2022-07-05T06:56:00.568725Z",
          "iopub.status.idle": "2022-07-05T06:56:00.671926Z",
          "shell.execute_reply": "2022-07-05T06:56:00.670978Z",
          "shell.execute_reply.started": "2022-07-05T06:56:00.569144Z"
        },
        "papermill": {
          "duration": 0.206169,
          "end_time": "2022-06-13T19:46:36.535853",
          "exception": false,
          "start_time": "2022-06-13T19:46:36.329684",
          "status": "completed"
        },
        "tags": [],
        "id": "wapGsLx6tGar",
        "colab": {
          "base_uri": "https://localhost:8080/"
        },
        "outputId": "558439d0-036e-49d1-f067-221e08dc9cbf"
      },
      "execution_count": 10,
      "outputs": [
        {
          "output_type": "stream",
          "name": "stdout",
          "text": [
            "<class 'pandas.core.frame.DataFrame'>\n",
            "Int64Index: 48488 entries, 0 to 287\n",
            "Data columns (total 8 columns):\n",
            " #   Column      Non-Null Count  Dtype \n",
            "---  ------      --------------  ----- \n",
            " 0   product_id  48488 non-null  object\n",
            " 1   review_id   48488 non-null  object\n",
            " 2   title       48488 non-null  object\n",
            " 3   review      48488 non-null  object\n",
            " 4   likes       48488 non-null  object\n",
            " 5   dislikes    48488 non-null  object\n",
            " 6   ratings     48488 non-null  object\n",
            " 7   reviewer    48488 non-null  object\n",
            "dtypes: object(8)\n",
            "memory usage: 3.3+ MB\n"
          ]
        }
      ]
    },
    {
      "cell_type": "markdown",
      "source": [
        "# Data Preparation\n"
      ],
      "metadata": {
        "id": "_sgRmd971ow-"
      }
    },
    {
      "cell_type": "code",
      "source": [
        "!pip install demoji"
      ],
      "metadata": {
        "colab": {
          "base_uri": "https://localhost:8080/"
        },
        "id": "wVOxMDmbcTok",
        "outputId": "2ae5d2f6-12c7-4e93-e834-a5936c766293"
      },
      "execution_count": 11,
      "outputs": [
        {
          "output_type": "stream",
          "name": "stdout",
          "text": [
            "Requirement already satisfied: demoji in /usr/local/lib/python3.10/dist-packages (1.1.0)\n"
          ]
        }
      ]
    },
    {
      "cell_type": "code",
      "source": [
        "!nltk.download('stopwords')"
      ],
      "metadata": {
        "colab": {
          "base_uri": "https://localhost:8080/"
        },
        "id": "srDAOlHEvNhG",
        "outputId": "84463caa-1479-4480-ace3-0cbd21991c7f"
      },
      "execution_count": 12,
      "outputs": [
        {
          "output_type": "stream",
          "name": "stdout",
          "text": [
            "/bin/bash: -c: line 1: syntax error near unexpected token `'stopwords''\n",
            "/bin/bash: -c: line 1: `nltk.download('stopwords')'\n"
          ]
        }
      ]
    },
    {
      "cell_type": "code",
      "source": [
        "import re\n",
        "import unicodedata as uni\n",
        "import demoji\n",
        "from nltk.corpus import stopwords\n",
        "import spacy\n",
        "sp = spacy.load(\"en_core_web_sm\")\n",
        "nltk.download('stopwords')\n",
        "en_stopwords = set(stopwords.words('english'))\n",
        "\n",
        "def remove_url(text):\n",
        "    text = re.sub(r\"http\\S+\", \"\", text)\n",
        "    return text\n",
        "\n",
        "def handle_emoji(string):\n",
        "    emojis = demoji.findall(string)\n",
        "\n",
        "    for emoji in emojis:\n",
        "        string = string.replace(emoji, \" \" + emojis[emoji].split(\":\")[0])\n",
        "\n",
        "    return string\n",
        "\n",
        "def word_tokenizer(text):\n",
        "    text = text.lower()\n",
        "    text = text.split()\n",
        "\n",
        "    return text\n",
        "\n",
        "def remove_stopwords(text):\n",
        "    text = [word for word in text if word not in en_stopwords]\n",
        "    return text\n",
        "\n",
        "def lemmatization(text):\n",
        "\n",
        "    text = \" \".join(text)\n",
        "    token = sp(text)\n",
        "\n",
        "    text = [word.lemma_ for word in token]\n",
        "    return text\n",
        "\n",
        "def label(y):\n",
        "    if y == '5':\n",
        "        return 1\n",
        "    elif y == '4':\n",
        "        return 1\n",
        "    else:\n",
        "        return 0"
      ],
      "metadata": {
        "execution": {
          "iopub.execute_input": "2022-07-05T06:56:01.251584Z",
          "iopub.status.busy": "2022-07-05T06:56:01.246234Z",
          "iopub.status.idle": "2022-07-05T06:56:01.273254Z",
          "shell.execute_reply": "2022-07-05T06:56:01.271969Z",
          "shell.execute_reply.started": "2022-07-05T06:56:01.251542Z"
        },
        "papermill": {
          "duration": 0.118975,
          "end_time": "2022-06-13T19:46:38.181847",
          "exception": false,
          "start_time": "2022-06-13T19:46:38.062872",
          "status": "completed"
        },
        "tags": [],
        "id": "nYp6NBw6tGar",
        "colab": {
          "base_uri": "https://localhost:8080/"
        },
        "outputId": "11e35637-eb39-4a72-e95d-cbc11b1f290a"
      },
      "execution_count": 13,
      "outputs": [
        {
          "output_type": "stream",
          "name": "stderr",
          "text": [
            "[nltk_data] Downloading package stopwords to /root/nltk_data...\n",
            "[nltk_data]   Package stopwords is already up-to-date!\n"
          ]
        }
      ]
    },
    {
      "cell_type": "code",
      "source": [
        "def preprocessing(text):\n",
        "\n",
        "    text = remove_url(text)\n",
        "    text = uni.normalize('NFKD', text)\n",
        "    text = handle_emoji(text)\n",
        "    text = text.lower()\n",
        "    text = re.sub(r'[^\\w\\s]', '', text)\n",
        "    text = word_tokenizer(text)\n",
        "    text = lemmatization(text)\n",
        "    text = remove_stopwords(text)\n",
        "    text = \" \".join(text)\n",
        "\n",
        "    return text"
      ],
      "metadata": {
        "id": "4L2KcQ9gbdha"
      },
      "execution_count": 31,
      "outputs": []
    },
    {
      "cell_type": "markdown",
      "source": [
        "Data Enhancement and Augmentation\n",
        "We do not have much of negative comments. We will use data augmentation to create more data our methodology will be we take sentences having 5 star rating and then select the reviews of length in the range of 20 to 30 words.  \n",
        "\n",
        "After havving these positive reviews we will use Antonym Augmentation to generate negative reviews."
      ],
      "metadata": {
        "id": "m9KepS8T4q9U"
      }
    },
    {
      "cell_type": "code",
      "source": [
        "!pip install nlpaug"
      ],
      "metadata": {
        "id": "Un4DCzFlHnp3",
        "colab": {
          "base_uri": "https://localhost:8080/"
        },
        "outputId": "0f2707d4-5918-4467-8953-992728920b23"
      },
      "execution_count": 15,
      "outputs": [
        {
          "output_type": "stream",
          "name": "stdout",
          "text": [
            "Requirement already satisfied: nlpaug in /usr/local/lib/python3.10/dist-packages (1.1.11)\n",
            "Requirement already satisfied: numpy>=1.16.2 in /usr/local/lib/python3.10/dist-packages (from nlpaug) (1.25.2)\n",
            "Requirement already satisfied: pandas>=1.2.0 in /usr/local/lib/python3.10/dist-packages (from nlpaug) (1.5.3)\n",
            "Requirement already satisfied: requests>=2.22.0 in /usr/local/lib/python3.10/dist-packages (from nlpaug) (2.31.0)\n",
            "Requirement already satisfied: gdown>=4.0.0 in /usr/local/lib/python3.10/dist-packages (from nlpaug) (4.7.3)\n",
            "Requirement already satisfied: filelock in /usr/local/lib/python3.10/dist-packages (from gdown>=4.0.0->nlpaug) (3.13.1)\n",
            "Requirement already satisfied: six in /usr/local/lib/python3.10/dist-packages (from gdown>=4.0.0->nlpaug) (1.16.0)\n",
            "Requirement already satisfied: tqdm in /usr/local/lib/python3.10/dist-packages (from gdown>=4.0.0->nlpaug) (4.66.2)\n",
            "Requirement already satisfied: beautifulsoup4 in /usr/local/lib/python3.10/dist-packages (from gdown>=4.0.0->nlpaug) (4.12.3)\n",
            "Requirement already satisfied: python-dateutil>=2.8.1 in /usr/local/lib/python3.10/dist-packages (from pandas>=1.2.0->nlpaug) (2.8.2)\n",
            "Requirement already satisfied: pytz>=2020.1 in /usr/local/lib/python3.10/dist-packages (from pandas>=1.2.0->nlpaug) (2023.4)\n",
            "Requirement already satisfied: charset-normalizer<4,>=2 in /usr/local/lib/python3.10/dist-packages (from requests>=2.22.0->nlpaug) (3.3.2)\n",
            "Requirement already satisfied: idna<4,>=2.5 in /usr/local/lib/python3.10/dist-packages (from requests>=2.22.0->nlpaug) (3.6)\n",
            "Requirement already satisfied: urllib3<3,>=1.21.1 in /usr/local/lib/python3.10/dist-packages (from requests>=2.22.0->nlpaug) (2.0.7)\n",
            "Requirement already satisfied: certifi>=2017.4.17 in /usr/local/lib/python3.10/dist-packages (from requests>=2.22.0->nlpaug) (2024.2.2)\n",
            "Requirement already satisfied: soupsieve>1.2 in /usr/local/lib/python3.10/dist-packages (from beautifulsoup4->gdown>=4.0.0->nlpaug) (2.5)\n",
            "Requirement already satisfied: PySocks!=1.5.7,>=1.5.6 in /usr/local/lib/python3.10/dist-packages (from requests>=2.22.0->nlpaug) (1.7.1)\n"
          ]
        }
      ]
    },
    {
      "cell_type": "code",
      "source": [
        "df_label = df.copy()\n",
        "from tqdm import tqdm\n",
        "tqdm.pandas()\n",
        "df_label['y'] = df_label.ratings.progress_map(label)\n",
        "df_label = df_label[['review', 'y', 'ratings']]\n",
        "df_label.y.value_counts()"
      ],
      "metadata": {
        "colab": {
          "base_uri": "https://localhost:8080/"
        },
        "id": "qniNS5yns7_k",
        "outputId": "77b6f21c-f2bc-4741-adb0-3ae4189cd344"
      },
      "execution_count": 16,
      "outputs": [
        {
          "output_type": "stream",
          "name": "stderr",
          "text": [
            "100%|██████████| 48488/48488 [00:00<00:00, 757900.16it/s]\n"
          ]
        },
        {
          "output_type": "execute_result",
          "data": {
            "text/plain": [
              "1    44751\n",
              "0     3737\n",
              "Name: y, dtype: int64"
            ]
          },
          "metadata": {},
          "execution_count": 16
        }
      ]
    },
    {
      "cell_type": "code",
      "source": [
        "!pip install nlpaug"
      ],
      "metadata": {
        "colab": {
          "base_uri": "https://localhost:8080/"
        },
        "id": "2J5pv-whuokj",
        "outputId": "975bb52b-0cfe-462c-8b65-3c85027d5964"
      },
      "execution_count": 17,
      "outputs": [
        {
          "output_type": "stream",
          "name": "stdout",
          "text": [
            "Requirement already satisfied: nlpaug in /usr/local/lib/python3.10/dist-packages (1.1.11)\n",
            "Requirement already satisfied: numpy>=1.16.2 in /usr/local/lib/python3.10/dist-packages (from nlpaug) (1.25.2)\n",
            "Requirement already satisfied: pandas>=1.2.0 in /usr/local/lib/python3.10/dist-packages (from nlpaug) (1.5.3)\n",
            "Requirement already satisfied: requests>=2.22.0 in /usr/local/lib/python3.10/dist-packages (from nlpaug) (2.31.0)\n",
            "Requirement already satisfied: gdown>=4.0.0 in /usr/local/lib/python3.10/dist-packages (from nlpaug) (4.7.3)\n",
            "Requirement already satisfied: filelock in /usr/local/lib/python3.10/dist-packages (from gdown>=4.0.0->nlpaug) (3.13.1)\n",
            "Requirement already satisfied: six in /usr/local/lib/python3.10/dist-packages (from gdown>=4.0.0->nlpaug) (1.16.0)\n",
            "Requirement already satisfied: tqdm in /usr/local/lib/python3.10/dist-packages (from gdown>=4.0.0->nlpaug) (4.66.2)\n",
            "Requirement already satisfied: beautifulsoup4 in /usr/local/lib/python3.10/dist-packages (from gdown>=4.0.0->nlpaug) (4.12.3)\n",
            "Requirement already satisfied: python-dateutil>=2.8.1 in /usr/local/lib/python3.10/dist-packages (from pandas>=1.2.0->nlpaug) (2.8.2)\n",
            "Requirement already satisfied: pytz>=2020.1 in /usr/local/lib/python3.10/dist-packages (from pandas>=1.2.0->nlpaug) (2023.4)\n",
            "Requirement already satisfied: charset-normalizer<4,>=2 in /usr/local/lib/python3.10/dist-packages (from requests>=2.22.0->nlpaug) (3.3.2)\n",
            "Requirement already satisfied: idna<4,>=2.5 in /usr/local/lib/python3.10/dist-packages (from requests>=2.22.0->nlpaug) (3.6)\n",
            "Requirement already satisfied: urllib3<3,>=1.21.1 in /usr/local/lib/python3.10/dist-packages (from requests>=2.22.0->nlpaug) (2.0.7)\n",
            "Requirement already satisfied: certifi>=2017.4.17 in /usr/local/lib/python3.10/dist-packages (from requests>=2.22.0->nlpaug) (2024.2.2)\n",
            "Requirement already satisfied: soupsieve>1.2 in /usr/local/lib/python3.10/dist-packages (from beautifulsoup4->gdown>=4.0.0->nlpaug) (2.5)\n",
            "Requirement already satisfied: PySocks!=1.5.7,>=1.5.6 in /usr/local/lib/python3.10/dist-packages (from requests>=2.22.0->nlpaug) (1.7.1)\n"
          ]
        }
      ]
    },
    {
      "cell_type": "code",
      "source": [
        "df_five = df_label[(df_label['ratings'] == '5')]\n",
        "positive = list(df_five[(df_five['review'].str.len() > 100) & (df_five['review'].str.len() < 500)]['review'])\n",
        "\n",
        "import nlpaug.augmenter.word as naw\n",
        "negative_aug = naw.AntonymAug(name='Antonym_Aug', aug_min=1, aug_max=10, aug_p=0.3, lang='eng', stopwords=en_stopwords, tokenizer=None,\n",
        "                     reverse_tokenizer=None, stopwords_regex=None, verbose=0)\n",
        "\n",
        "aug_negative = negative_aug.augment(positive)"
      ],
      "metadata": {
        "id": "63HhBiSrtpvd"
      },
      "execution_count": 32,
      "outputs": []
    },
    {
      "cell_type": "code",
      "source": [
        "df_negative = pd.DataFrame({\"review\" : aug_negative, 'y' : [0]*len(aug_negative)})\n",
        "df_positive = pd.DataFrame({\"review\" : positive, 'y' : [1]*len(positive)})\n",
        "df_temp = pd.concat([df_negative, df_positive]).sample(frac = 1, random_state = 11).reset_index(drop=True)\n",
        "df = df_temp"
      ],
      "metadata": {
        "id": "KCS9IdeRvi1-"
      },
      "execution_count": 33,
      "outputs": []
    },
    {
      "cell_type": "code",
      "source": [
        "from tqdm import tqdm\n",
        "\n",
        "tqdm.pandas()\n",
        "\n",
        "df['clean_review'] = df['review'].progress_map(preprocessing)\n",
        "\n",
        "df.head()"
      ],
      "metadata": {
        "id": "1ubW3MC4bgu1",
        "colab": {
          "base_uri": "https://localhost:8080/",
          "height": 224
        },
        "outputId": "47afddd7-1239-48b5-a92b-7db0cf9069c2"
      },
      "execution_count": 35,
      "outputs": [
        {
          "output_type": "stream",
          "name": "stderr",
          "text": [
            "100%|██████████| 12326/12326 [03:46<00:00, 54.34it/s]\n"
          ]
        },
        {
          "output_type": "execute_result",
          "data": {
            "text/plain": [
              "                                              review  y  \\\n",
              "0  Slim and steady in holding and operating.Good ...  1   \n",
              "1  Overall bad phone in this budget. Simply away ...  0   \n",
              "2  Must buy. Best phone in this price range. Nice...  1   \n",
              "3  super phone in this prize every thing is imper...  0   \n",
              "4  This is the best phone in this price range whi...  1   \n",
              "\n",
              "                                        clean_review  \n",
              "0  slim steady hold operatinggood modern day look...  \n",
              "1  overall bad phone budget simply away first one...  \n",
              "2  must buy good phone price range nice look supe...  \n",
              "3  super phone prize every thing imperfect camera...  \n",
              "4  good phone price range highquality camera proc...  "
            ],
            "text/html": [
              "\n",
              "  <div id=\"df-e503ea2b-07fd-44ad-b2e1-3f855025a6fa\" class=\"colab-df-container\">\n",
              "    <div>\n",
              "<style scoped>\n",
              "    .dataframe tbody tr th:only-of-type {\n",
              "        vertical-align: middle;\n",
              "    }\n",
              "\n",
              "    .dataframe tbody tr th {\n",
              "        vertical-align: top;\n",
              "    }\n",
              "\n",
              "    .dataframe thead th {\n",
              "        text-align: right;\n",
              "    }\n",
              "</style>\n",
              "<table border=\"1\" class=\"dataframe\">\n",
              "  <thead>\n",
              "    <tr style=\"text-align: right;\">\n",
              "      <th></th>\n",
              "      <th>review</th>\n",
              "      <th>y</th>\n",
              "      <th>clean_review</th>\n",
              "    </tr>\n",
              "  </thead>\n",
              "  <tbody>\n",
              "    <tr>\n",
              "      <th>0</th>\n",
              "      <td>Slim and steady in holding and operating.Good ...</td>\n",
              "      <td>1</td>\n",
              "      <td>slim steady hold operatinggood modern day look...</td>\n",
              "    </tr>\n",
              "    <tr>\n",
              "      <th>1</th>\n",
              "      <td>Overall bad phone in this budget. Simply away ...</td>\n",
              "      <td>0</td>\n",
              "      <td>overall bad phone budget simply away first one...</td>\n",
              "    </tr>\n",
              "    <tr>\n",
              "      <th>2</th>\n",
              "      <td>Must buy. Best phone in this price range. Nice...</td>\n",
              "      <td>1</td>\n",
              "      <td>must buy good phone price range nice look supe...</td>\n",
              "    </tr>\n",
              "    <tr>\n",
              "      <th>3</th>\n",
              "      <td>super phone in this prize every thing is imper...</td>\n",
              "      <td>0</td>\n",
              "      <td>super phone prize every thing imperfect camera...</td>\n",
              "    </tr>\n",
              "    <tr>\n",
              "      <th>4</th>\n",
              "      <td>This is the best phone in this price range whi...</td>\n",
              "      <td>1</td>\n",
              "      <td>good phone price range highquality camera proc...</td>\n",
              "    </tr>\n",
              "  </tbody>\n",
              "</table>\n",
              "</div>\n",
              "    <div class=\"colab-df-buttons\">\n",
              "\n",
              "  <div class=\"colab-df-container\">\n",
              "    <button class=\"colab-df-convert\" onclick=\"convertToInteractive('df-e503ea2b-07fd-44ad-b2e1-3f855025a6fa')\"\n",
              "            title=\"Convert this dataframe to an interactive table.\"\n",
              "            style=\"display:none;\">\n",
              "\n",
              "  <svg xmlns=\"http://www.w3.org/2000/svg\" height=\"24px\" viewBox=\"0 -960 960 960\">\n",
              "    <path d=\"M120-120v-720h720v720H120Zm60-500h600v-160H180v160Zm220 220h160v-160H400v160Zm0 220h160v-160H400v160ZM180-400h160v-160H180v160Zm440 0h160v-160H620v160ZM180-180h160v-160H180v160Zm440 0h160v-160H620v160Z\"/>\n",
              "  </svg>\n",
              "    </button>\n",
              "\n",
              "  <style>\n",
              "    .colab-df-container {\n",
              "      display:flex;\n",
              "      gap: 12px;\n",
              "    }\n",
              "\n",
              "    .colab-df-convert {\n",
              "      background-color: #E8F0FE;\n",
              "      border: none;\n",
              "      border-radius: 50%;\n",
              "      cursor: pointer;\n",
              "      display: none;\n",
              "      fill: #1967D2;\n",
              "      height: 32px;\n",
              "      padding: 0 0 0 0;\n",
              "      width: 32px;\n",
              "    }\n",
              "\n",
              "    .colab-df-convert:hover {\n",
              "      background-color: #E2EBFA;\n",
              "      box-shadow: 0px 1px 2px rgba(60, 64, 67, 0.3), 0px 1px 3px 1px rgba(60, 64, 67, 0.15);\n",
              "      fill: #174EA6;\n",
              "    }\n",
              "\n",
              "    .colab-df-buttons div {\n",
              "      margin-bottom: 4px;\n",
              "    }\n",
              "\n",
              "    [theme=dark] .colab-df-convert {\n",
              "      background-color: #3B4455;\n",
              "      fill: #D2E3FC;\n",
              "    }\n",
              "\n",
              "    [theme=dark] .colab-df-convert:hover {\n",
              "      background-color: #434B5C;\n",
              "      box-shadow: 0px 1px 3px 1px rgba(0, 0, 0, 0.15);\n",
              "      filter: drop-shadow(0px 1px 2px rgba(0, 0, 0, 0.3));\n",
              "      fill: #FFFFFF;\n",
              "    }\n",
              "  </style>\n",
              "\n",
              "    <script>\n",
              "      const buttonEl =\n",
              "        document.querySelector('#df-e503ea2b-07fd-44ad-b2e1-3f855025a6fa button.colab-df-convert');\n",
              "      buttonEl.style.display =\n",
              "        google.colab.kernel.accessAllowed ? 'block' : 'none';\n",
              "\n",
              "      async function convertToInteractive(key) {\n",
              "        const element = document.querySelector('#df-e503ea2b-07fd-44ad-b2e1-3f855025a6fa');\n",
              "        const dataTable =\n",
              "          await google.colab.kernel.invokeFunction('convertToInteractive',\n",
              "                                                    [key], {});\n",
              "        if (!dataTable) return;\n",
              "\n",
              "        const docLinkHtml = 'Like what you see? Visit the ' +\n",
              "          '<a target=\"_blank\" href=https://colab.research.google.com/notebooks/data_table.ipynb>data table notebook</a>'\n",
              "          + ' to learn more about interactive tables.';\n",
              "        element.innerHTML = '';\n",
              "        dataTable['output_type'] = 'display_data';\n",
              "        await google.colab.output.renderOutput(dataTable, element);\n",
              "        const docLink = document.createElement('div');\n",
              "        docLink.innerHTML = docLinkHtml;\n",
              "        element.appendChild(docLink);\n",
              "      }\n",
              "    </script>\n",
              "  </div>\n",
              "\n",
              "\n",
              "<div id=\"df-0b0d6092-2ff0-4f40-9daf-274ae274420f\">\n",
              "  <button class=\"colab-df-quickchart\" onclick=\"quickchart('df-0b0d6092-2ff0-4f40-9daf-274ae274420f')\"\n",
              "            title=\"Suggest charts\"\n",
              "            style=\"display:none;\">\n",
              "\n",
              "<svg xmlns=\"http://www.w3.org/2000/svg\" height=\"24px\"viewBox=\"0 0 24 24\"\n",
              "     width=\"24px\">\n",
              "    <g>\n",
              "        <path d=\"M19 3H5c-1.1 0-2 .9-2 2v14c0 1.1.9 2 2 2h14c1.1 0 2-.9 2-2V5c0-1.1-.9-2-2-2zM9 17H7v-7h2v7zm4 0h-2V7h2v10zm4 0h-2v-4h2v4z\"/>\n",
              "    </g>\n",
              "</svg>\n",
              "  </button>\n",
              "\n",
              "<style>\n",
              "  .colab-df-quickchart {\n",
              "      --bg-color: #E8F0FE;\n",
              "      --fill-color: #1967D2;\n",
              "      --hover-bg-color: #E2EBFA;\n",
              "      --hover-fill-color: #174EA6;\n",
              "      --disabled-fill-color: #AAA;\n",
              "      --disabled-bg-color: #DDD;\n",
              "  }\n",
              "\n",
              "  [theme=dark] .colab-df-quickchart {\n",
              "      --bg-color: #3B4455;\n",
              "      --fill-color: #D2E3FC;\n",
              "      --hover-bg-color: #434B5C;\n",
              "      --hover-fill-color: #FFFFFF;\n",
              "      --disabled-bg-color: #3B4455;\n",
              "      --disabled-fill-color: #666;\n",
              "  }\n",
              "\n",
              "  .colab-df-quickchart {\n",
              "    background-color: var(--bg-color);\n",
              "    border: none;\n",
              "    border-radius: 50%;\n",
              "    cursor: pointer;\n",
              "    display: none;\n",
              "    fill: var(--fill-color);\n",
              "    height: 32px;\n",
              "    padding: 0;\n",
              "    width: 32px;\n",
              "  }\n",
              "\n",
              "  .colab-df-quickchart:hover {\n",
              "    background-color: var(--hover-bg-color);\n",
              "    box-shadow: 0 1px 2px rgba(60, 64, 67, 0.3), 0 1px 3px 1px rgba(60, 64, 67, 0.15);\n",
              "    fill: var(--button-hover-fill-color);\n",
              "  }\n",
              "\n",
              "  .colab-df-quickchart-complete:disabled,\n",
              "  .colab-df-quickchart-complete:disabled:hover {\n",
              "    background-color: var(--disabled-bg-color);\n",
              "    fill: var(--disabled-fill-color);\n",
              "    box-shadow: none;\n",
              "  }\n",
              "\n",
              "  .colab-df-spinner {\n",
              "    border: 2px solid var(--fill-color);\n",
              "    border-color: transparent;\n",
              "    border-bottom-color: var(--fill-color);\n",
              "    animation:\n",
              "      spin 1s steps(1) infinite;\n",
              "  }\n",
              "\n",
              "  @keyframes spin {\n",
              "    0% {\n",
              "      border-color: transparent;\n",
              "      border-bottom-color: var(--fill-color);\n",
              "      border-left-color: var(--fill-color);\n",
              "    }\n",
              "    20% {\n",
              "      border-color: transparent;\n",
              "      border-left-color: var(--fill-color);\n",
              "      border-top-color: var(--fill-color);\n",
              "    }\n",
              "    30% {\n",
              "      border-color: transparent;\n",
              "      border-left-color: var(--fill-color);\n",
              "      border-top-color: var(--fill-color);\n",
              "      border-right-color: var(--fill-color);\n",
              "    }\n",
              "    40% {\n",
              "      border-color: transparent;\n",
              "      border-right-color: var(--fill-color);\n",
              "      border-top-color: var(--fill-color);\n",
              "    }\n",
              "    60% {\n",
              "      border-color: transparent;\n",
              "      border-right-color: var(--fill-color);\n",
              "    }\n",
              "    80% {\n",
              "      border-color: transparent;\n",
              "      border-right-color: var(--fill-color);\n",
              "      border-bottom-color: var(--fill-color);\n",
              "    }\n",
              "    90% {\n",
              "      border-color: transparent;\n",
              "      border-bottom-color: var(--fill-color);\n",
              "    }\n",
              "  }\n",
              "</style>\n",
              "\n",
              "  <script>\n",
              "    async function quickchart(key) {\n",
              "      const quickchartButtonEl =\n",
              "        document.querySelector('#' + key + ' button');\n",
              "      quickchartButtonEl.disabled = true;  // To prevent multiple clicks.\n",
              "      quickchartButtonEl.classList.add('colab-df-spinner');\n",
              "      try {\n",
              "        const charts = await google.colab.kernel.invokeFunction(\n",
              "            'suggestCharts', [key], {});\n",
              "      } catch (error) {\n",
              "        console.error('Error during call to suggestCharts:', error);\n",
              "      }\n",
              "      quickchartButtonEl.classList.remove('colab-df-spinner');\n",
              "      quickchartButtonEl.classList.add('colab-df-quickchart-complete');\n",
              "    }\n",
              "    (() => {\n",
              "      let quickchartButtonEl =\n",
              "        document.querySelector('#df-0b0d6092-2ff0-4f40-9daf-274ae274420f button');\n",
              "      quickchartButtonEl.style.display =\n",
              "        google.colab.kernel.accessAllowed ? 'block' : 'none';\n",
              "    })();\n",
              "  </script>\n",
              "</div>\n",
              "\n",
              "    </div>\n",
              "  </div>\n"
            ],
            "application/vnd.google.colaboratory.intrinsic+json": {
              "type": "dataframe",
              "variable_name": "df",
              "summary": "{\n  \"name\": \"df\",\n  \"rows\": 12326,\n  \"fields\": [\n    {\n      \"column\": \"review\",\n      \"properties\": {\n        \"dtype\": \"string\",\n        \"num_unique_values\": 9771,\n        \"samples\": [\n          \"Good  phone very  nice good  features  but no  earphone in this box it is a bad thing totaly a good one\",\n          \"AFTER LONG TIME I HAVE SEEN ALL ROUND MOBILE , BEFORE REDMI MOST SUCCES MOBILE WAS ITS REDMI NOTE 4 , N NOW NOTE 7 IS VERY IMPRESSIE AND GAME CHANGING IN FUTURE,NOW IN MARKET ALL COMPANY ARE THINKING ABOUT NOTE 7 N PLAN FOR FUTUR BUT ITs VERY HARD TO GIVE COMPUTATION.\",\n          \"nice and fabulous product . its battary backup is too much good . camera was fantastic. display is big and look beautiful..\"\n        ],\n        \"semantic_type\": \"\",\n        \"description\": \"\"\n      }\n    },\n    {\n      \"column\": \"y\",\n      \"properties\": {\n        \"dtype\": \"number\",\n        \"std\": 0,\n        \"min\": 0,\n        \"max\": 1,\n        \"num_unique_values\": 2,\n        \"samples\": [\n          0,\n          1\n        ],\n        \"semantic_type\": \"\",\n        \"description\": \"\"\n      }\n    },\n    {\n      \"column\": \"clean_review\",\n      \"properties\": {\n        \"dtype\": \"string\",\n        \"num_unique_values\": 9738,\n        \"samples\": [\n          \"one evil budget unfriendly smartphone never use great processor inside leave empty fledge snapdragon 660 help play pubg game low graphic setting I hate phone\",\n          \"I buy mobile mi4i 14th may I want give review mobile I try buy mobile I keep look review pro con I give comment people try buy mobile 1 shipping reach I two work day 2 mobile design I would rate 9103 mobile heating issue big issue concern I game play person I play asphalt 8 motal combat minion rush big game\"\n        ],\n        \"semantic_type\": \"\",\n        \"description\": \"\"\n      }\n    }\n  ]\n}"
            }
          },
          "metadata": {},
          "execution_count": 35
        }
      ]
    },
    {
      "cell_type": "code",
      "source": [
        "reviews = df.clean_review.values.tolist()"
      ],
      "metadata": {
        "id": "xiVVBR-rxWOH"
      },
      "execution_count": 36,
      "outputs": []
    },
    {
      "cell_type": "code",
      "source": [
        "df['clean_review2'] = df['clean_review'].progress_map(word_tokenizer)\n",
        "\n",
        "df.head()"
      ],
      "metadata": {
        "colab": {
          "base_uri": "https://localhost:8080/",
          "height": 311
        },
        "id": "3LKtcX8Sxclr",
        "outputId": "9acf256d-16cd-4bda-a429-ff08fcefa606"
      },
      "execution_count": 37,
      "outputs": [
        {
          "output_type": "stream",
          "name": "stderr",
          "text": [
            "100%|██████████| 12326/12326 [00:00<00:00, 142993.44it/s]\n"
          ]
        },
        {
          "output_type": "execute_result",
          "data": {
            "text/plain": [
              "                                              review  y  \\\n",
              "0  Slim and steady in holding and operating.Good ...  1   \n",
              "1  Overall bad phone in this budget. Simply away ...  0   \n",
              "2  Must buy. Best phone in this price range. Nice...  1   \n",
              "3  super phone in this prize every thing is imper...  0   \n",
              "4  This is the best phone in this price range whi...  1   \n",
              "\n",
              "                                        clean_review  \\\n",
              "0  slim steady hold operatinggood modern day look...   \n",
              "1  overall bad phone budget simply away first one...   \n",
              "2  must buy good phone price range nice look supe...   \n",
              "3  super phone prize every thing imperfect camera...   \n",
              "4  good phone price range highquality camera proc...   \n",
              "\n",
              "                                       clean_review2  \n",
              "0  [slim, steady, hold, operatinggood, modern, da...  \n",
              "1  [overall, bad, phone, budget, simply, away, fi...  \n",
              "2  [must, buy, good, phone, price, range, nice, l...  \n",
              "3  [super, phone, prize, every, thing, imperfect,...  \n",
              "4  [good, phone, price, range, highquality, camer...  "
            ],
            "text/html": [
              "\n",
              "  <div id=\"df-d50db937-627d-4ce0-a5e5-f0004c9d2b84\" class=\"colab-df-container\">\n",
              "    <div>\n",
              "<style scoped>\n",
              "    .dataframe tbody tr th:only-of-type {\n",
              "        vertical-align: middle;\n",
              "    }\n",
              "\n",
              "    .dataframe tbody tr th {\n",
              "        vertical-align: top;\n",
              "    }\n",
              "\n",
              "    .dataframe thead th {\n",
              "        text-align: right;\n",
              "    }\n",
              "</style>\n",
              "<table border=\"1\" class=\"dataframe\">\n",
              "  <thead>\n",
              "    <tr style=\"text-align: right;\">\n",
              "      <th></th>\n",
              "      <th>review</th>\n",
              "      <th>y</th>\n",
              "      <th>clean_review</th>\n",
              "      <th>clean_review2</th>\n",
              "    </tr>\n",
              "  </thead>\n",
              "  <tbody>\n",
              "    <tr>\n",
              "      <th>0</th>\n",
              "      <td>Slim and steady in holding and operating.Good ...</td>\n",
              "      <td>1</td>\n",
              "      <td>slim steady hold operatinggood modern day look...</td>\n",
              "      <td>[slim, steady, hold, operatinggood, modern, da...</td>\n",
              "    </tr>\n",
              "    <tr>\n",
              "      <th>1</th>\n",
              "      <td>Overall bad phone in this budget. Simply away ...</td>\n",
              "      <td>0</td>\n",
              "      <td>overall bad phone budget simply away first one...</td>\n",
              "      <td>[overall, bad, phone, budget, simply, away, fi...</td>\n",
              "    </tr>\n",
              "    <tr>\n",
              "      <th>2</th>\n",
              "      <td>Must buy. Best phone in this price range. Nice...</td>\n",
              "      <td>1</td>\n",
              "      <td>must buy good phone price range nice look supe...</td>\n",
              "      <td>[must, buy, good, phone, price, range, nice, l...</td>\n",
              "    </tr>\n",
              "    <tr>\n",
              "      <th>3</th>\n",
              "      <td>super phone in this prize every thing is imper...</td>\n",
              "      <td>0</td>\n",
              "      <td>super phone prize every thing imperfect camera...</td>\n",
              "      <td>[super, phone, prize, every, thing, imperfect,...</td>\n",
              "    </tr>\n",
              "    <tr>\n",
              "      <th>4</th>\n",
              "      <td>This is the best phone in this price range whi...</td>\n",
              "      <td>1</td>\n",
              "      <td>good phone price range highquality camera proc...</td>\n",
              "      <td>[good, phone, price, range, highquality, camer...</td>\n",
              "    </tr>\n",
              "  </tbody>\n",
              "</table>\n",
              "</div>\n",
              "    <div class=\"colab-df-buttons\">\n",
              "\n",
              "  <div class=\"colab-df-container\">\n",
              "    <button class=\"colab-df-convert\" onclick=\"convertToInteractive('df-d50db937-627d-4ce0-a5e5-f0004c9d2b84')\"\n",
              "            title=\"Convert this dataframe to an interactive table.\"\n",
              "            style=\"display:none;\">\n",
              "\n",
              "  <svg xmlns=\"http://www.w3.org/2000/svg\" height=\"24px\" viewBox=\"0 -960 960 960\">\n",
              "    <path d=\"M120-120v-720h720v720H120Zm60-500h600v-160H180v160Zm220 220h160v-160H400v160Zm0 220h160v-160H400v160ZM180-400h160v-160H180v160Zm440 0h160v-160H620v160ZM180-180h160v-160H180v160Zm440 0h160v-160H620v160Z\"/>\n",
              "  </svg>\n",
              "    </button>\n",
              "\n",
              "  <style>\n",
              "    .colab-df-container {\n",
              "      display:flex;\n",
              "      gap: 12px;\n",
              "    }\n",
              "\n",
              "    .colab-df-convert {\n",
              "      background-color: #E8F0FE;\n",
              "      border: none;\n",
              "      border-radius: 50%;\n",
              "      cursor: pointer;\n",
              "      display: none;\n",
              "      fill: #1967D2;\n",
              "      height: 32px;\n",
              "      padding: 0 0 0 0;\n",
              "      width: 32px;\n",
              "    }\n",
              "\n",
              "    .colab-df-convert:hover {\n",
              "      background-color: #E2EBFA;\n",
              "      box-shadow: 0px 1px 2px rgba(60, 64, 67, 0.3), 0px 1px 3px 1px rgba(60, 64, 67, 0.15);\n",
              "      fill: #174EA6;\n",
              "    }\n",
              "\n",
              "    .colab-df-buttons div {\n",
              "      margin-bottom: 4px;\n",
              "    }\n",
              "\n",
              "    [theme=dark] .colab-df-convert {\n",
              "      background-color: #3B4455;\n",
              "      fill: #D2E3FC;\n",
              "    }\n",
              "\n",
              "    [theme=dark] .colab-df-convert:hover {\n",
              "      background-color: #434B5C;\n",
              "      box-shadow: 0px 1px 3px 1px rgba(0, 0, 0, 0.15);\n",
              "      filter: drop-shadow(0px 1px 2px rgba(0, 0, 0, 0.3));\n",
              "      fill: #FFFFFF;\n",
              "    }\n",
              "  </style>\n",
              "\n",
              "    <script>\n",
              "      const buttonEl =\n",
              "        document.querySelector('#df-d50db937-627d-4ce0-a5e5-f0004c9d2b84 button.colab-df-convert');\n",
              "      buttonEl.style.display =\n",
              "        google.colab.kernel.accessAllowed ? 'block' : 'none';\n",
              "\n",
              "      async function convertToInteractive(key) {\n",
              "        const element = document.querySelector('#df-d50db937-627d-4ce0-a5e5-f0004c9d2b84');\n",
              "        const dataTable =\n",
              "          await google.colab.kernel.invokeFunction('convertToInteractive',\n",
              "                                                    [key], {});\n",
              "        if (!dataTable) return;\n",
              "\n",
              "        const docLinkHtml = 'Like what you see? Visit the ' +\n",
              "          '<a target=\"_blank\" href=https://colab.research.google.com/notebooks/data_table.ipynb>data table notebook</a>'\n",
              "          + ' to learn more about interactive tables.';\n",
              "        element.innerHTML = '';\n",
              "        dataTable['output_type'] = 'display_data';\n",
              "        await google.colab.output.renderOutput(dataTable, element);\n",
              "        const docLink = document.createElement('div');\n",
              "        docLink.innerHTML = docLinkHtml;\n",
              "        element.appendChild(docLink);\n",
              "      }\n",
              "    </script>\n",
              "  </div>\n",
              "\n",
              "\n",
              "<div id=\"df-be21765d-d40c-4831-92fb-a5f3b8e375cd\">\n",
              "  <button class=\"colab-df-quickchart\" onclick=\"quickchart('df-be21765d-d40c-4831-92fb-a5f3b8e375cd')\"\n",
              "            title=\"Suggest charts\"\n",
              "            style=\"display:none;\">\n",
              "\n",
              "<svg xmlns=\"http://www.w3.org/2000/svg\" height=\"24px\"viewBox=\"0 0 24 24\"\n",
              "     width=\"24px\">\n",
              "    <g>\n",
              "        <path d=\"M19 3H5c-1.1 0-2 .9-2 2v14c0 1.1.9 2 2 2h14c1.1 0 2-.9 2-2V5c0-1.1-.9-2-2-2zM9 17H7v-7h2v7zm4 0h-2V7h2v10zm4 0h-2v-4h2v4z\"/>\n",
              "    </g>\n",
              "</svg>\n",
              "  </button>\n",
              "\n",
              "<style>\n",
              "  .colab-df-quickchart {\n",
              "      --bg-color: #E8F0FE;\n",
              "      --fill-color: #1967D2;\n",
              "      --hover-bg-color: #E2EBFA;\n",
              "      --hover-fill-color: #174EA6;\n",
              "      --disabled-fill-color: #AAA;\n",
              "      --disabled-bg-color: #DDD;\n",
              "  }\n",
              "\n",
              "  [theme=dark] .colab-df-quickchart {\n",
              "      --bg-color: #3B4455;\n",
              "      --fill-color: #D2E3FC;\n",
              "      --hover-bg-color: #434B5C;\n",
              "      --hover-fill-color: #FFFFFF;\n",
              "      --disabled-bg-color: #3B4455;\n",
              "      --disabled-fill-color: #666;\n",
              "  }\n",
              "\n",
              "  .colab-df-quickchart {\n",
              "    background-color: var(--bg-color);\n",
              "    border: none;\n",
              "    border-radius: 50%;\n",
              "    cursor: pointer;\n",
              "    display: none;\n",
              "    fill: var(--fill-color);\n",
              "    height: 32px;\n",
              "    padding: 0;\n",
              "    width: 32px;\n",
              "  }\n",
              "\n",
              "  .colab-df-quickchart:hover {\n",
              "    background-color: var(--hover-bg-color);\n",
              "    box-shadow: 0 1px 2px rgba(60, 64, 67, 0.3), 0 1px 3px 1px rgba(60, 64, 67, 0.15);\n",
              "    fill: var(--button-hover-fill-color);\n",
              "  }\n",
              "\n",
              "  .colab-df-quickchart-complete:disabled,\n",
              "  .colab-df-quickchart-complete:disabled:hover {\n",
              "    background-color: var(--disabled-bg-color);\n",
              "    fill: var(--disabled-fill-color);\n",
              "    box-shadow: none;\n",
              "  }\n",
              "\n",
              "  .colab-df-spinner {\n",
              "    border: 2px solid var(--fill-color);\n",
              "    border-color: transparent;\n",
              "    border-bottom-color: var(--fill-color);\n",
              "    animation:\n",
              "      spin 1s steps(1) infinite;\n",
              "  }\n",
              "\n",
              "  @keyframes spin {\n",
              "    0% {\n",
              "      border-color: transparent;\n",
              "      border-bottom-color: var(--fill-color);\n",
              "      border-left-color: var(--fill-color);\n",
              "    }\n",
              "    20% {\n",
              "      border-color: transparent;\n",
              "      border-left-color: var(--fill-color);\n",
              "      border-top-color: var(--fill-color);\n",
              "    }\n",
              "    30% {\n",
              "      border-color: transparent;\n",
              "      border-left-color: var(--fill-color);\n",
              "      border-top-color: var(--fill-color);\n",
              "      border-right-color: var(--fill-color);\n",
              "    }\n",
              "    40% {\n",
              "      border-color: transparent;\n",
              "      border-right-color: var(--fill-color);\n",
              "      border-top-color: var(--fill-color);\n",
              "    }\n",
              "    60% {\n",
              "      border-color: transparent;\n",
              "      border-right-color: var(--fill-color);\n",
              "    }\n",
              "    80% {\n",
              "      border-color: transparent;\n",
              "      border-right-color: var(--fill-color);\n",
              "      border-bottom-color: var(--fill-color);\n",
              "    }\n",
              "    90% {\n",
              "      border-color: transparent;\n",
              "      border-bottom-color: var(--fill-color);\n",
              "    }\n",
              "  }\n",
              "</style>\n",
              "\n",
              "  <script>\n",
              "    async function quickchart(key) {\n",
              "      const quickchartButtonEl =\n",
              "        document.querySelector('#' + key + ' button');\n",
              "      quickchartButtonEl.disabled = true;  // To prevent multiple clicks.\n",
              "      quickchartButtonEl.classList.add('colab-df-spinner');\n",
              "      try {\n",
              "        const charts = await google.colab.kernel.invokeFunction(\n",
              "            'suggestCharts', [key], {});\n",
              "      } catch (error) {\n",
              "        console.error('Error during call to suggestCharts:', error);\n",
              "      }\n",
              "      quickchartButtonEl.classList.remove('colab-df-spinner');\n",
              "      quickchartButtonEl.classList.add('colab-df-quickchart-complete');\n",
              "    }\n",
              "    (() => {\n",
              "      let quickchartButtonEl =\n",
              "        document.querySelector('#df-be21765d-d40c-4831-92fb-a5f3b8e375cd button');\n",
              "      quickchartButtonEl.style.display =\n",
              "        google.colab.kernel.accessAllowed ? 'block' : 'none';\n",
              "    })();\n",
              "  </script>\n",
              "</div>\n",
              "\n",
              "    </div>\n",
              "  </div>\n"
            ],
            "application/vnd.google.colaboratory.intrinsic+json": {
              "type": "dataframe",
              "variable_name": "df",
              "summary": "{\n  \"name\": \"df\",\n  \"rows\": 12326,\n  \"fields\": [\n    {\n      \"column\": \"review\",\n      \"properties\": {\n        \"dtype\": \"string\",\n        \"num_unique_values\": 9771,\n        \"samples\": [\n          \"Good  phone very  nice good  features  but no  earphone in this box it is a bad thing totaly a good one\",\n          \"AFTER LONG TIME I HAVE SEEN ALL ROUND MOBILE , BEFORE REDMI MOST SUCCES MOBILE WAS ITS REDMI NOTE 4 , N NOW NOTE 7 IS VERY IMPRESSIE AND GAME CHANGING IN FUTURE,NOW IN MARKET ALL COMPANY ARE THINKING ABOUT NOTE 7 N PLAN FOR FUTUR BUT ITs VERY HARD TO GIVE COMPUTATION.\",\n          \"nice and fabulous product . its battary backup is too much good . camera was fantastic. display is big and look beautiful..\"\n        ],\n        \"semantic_type\": \"\",\n        \"description\": \"\"\n      }\n    },\n    {\n      \"column\": \"y\",\n      \"properties\": {\n        \"dtype\": \"number\",\n        \"std\": 0,\n        \"min\": 0,\n        \"max\": 1,\n        \"num_unique_values\": 2,\n        \"samples\": [\n          0,\n          1\n        ],\n        \"semantic_type\": \"\",\n        \"description\": \"\"\n      }\n    },\n    {\n      \"column\": \"clean_review\",\n      \"properties\": {\n        \"dtype\": \"string\",\n        \"num_unique_values\": 9738,\n        \"samples\": [\n          \"one evil budget unfriendly smartphone never use great processor inside leave empty fledge snapdragon 660 help play pubg game low graphic setting I hate phone\",\n          \"I buy mobile mi4i 14th may I want give review mobile I try buy mobile I keep look review pro con I give comment people try buy mobile 1 shipping reach I two work day 2 mobile design I would rate 9103 mobile heating issue big issue concern I game play person I play asphalt 8 motal combat minion rush big game\"\n        ],\n        \"semantic_type\": \"\",\n        \"description\": \"\"\n      }\n    },\n    {\n      \"column\": \"clean_review2\",\n      \"properties\": {\n        \"dtype\": \"object\",\n        \"semantic_type\": \"\",\n        \"description\": \"\"\n      }\n    }\n  ]\n}"
            }
          },
          "metadata": {},
          "execution_count": 37
        }
      ]
    },
    {
      "cell_type": "markdown",
      "source": [
        "# Latent Dirichlet Allocation (LDA)\n",
        "Topics are just a collection of keywords with a probability distribution, while documents are collections of topics with the same probability distribution. A topic model just provides a list of keywords for each topic. What is the situation?Human perception of what an issue symbolises and what it should be labelled is common in the context of an LDA model."
      ],
      "metadata": {
        "id": "8feagDMe1ZYp"
      }
    },
    {
      "cell_type": "code",
      "source": [
        "data_words = df['clean_review2'].values.tolist()\n",
        "len(data_words)"
      ],
      "metadata": {
        "execution": {
          "iopub.execute_input": "2022-07-05T06:58:34.73792Z",
          "iopub.status.busy": "2022-07-05T06:58:34.737572Z",
          "iopub.status.idle": "2022-07-05T06:58:34.745257Z",
          "shell.execute_reply": "2022-07-05T06:58:34.744081Z",
          "shell.execute_reply.started": "2022-07-05T06:58:34.737887Z"
        },
        "papermill": {
          "duration": 0.444005,
          "end_time": "2022-06-13T19:50:07.766821",
          "exception": false,
          "start_time": "2022-06-13T19:50:07.322816",
          "status": "completed"
        },
        "tags": [],
        "id": "VN_ECRGctGa7",
        "colab": {
          "base_uri": "https://localhost:8080/"
        },
        "outputId": "c6983d51-1283-480f-b18f-a6c30c83061a"
      },
      "execution_count": 38,
      "outputs": [
        {
          "output_type": "execute_result",
          "data": {
            "text/plain": [
              "12326"
            ]
          },
          "metadata": {},
          "execution_count": 38
        }
      ]
    },
    {
      "cell_type": "code",
      "source": [
        "import gensim.corpora as corpora\n",
        "\n",
        "# Create Dictionary\n",
        "id2word = corpora.Dictionary(data_words)\n",
        "# Create Corpus\n",
        "texts = data_words\n",
        "# Term Document Frequency\n",
        "corpus = [id2word.doc2bow(text) for text in texts]\n",
        "# View\n",
        "print(corpus[:1][0][:30])\n"
      ],
      "metadata": {
        "execution": {
          "iopub.execute_input": "2022-07-05T06:58:34.747423Z",
          "iopub.status.busy": "2022-07-05T06:58:34.746771Z",
          "iopub.status.idle": "2022-07-05T06:58:35.392254Z",
          "shell.execute_reply": "2022-07-05T06:58:35.391154Z",
          "shell.execute_reply.started": "2022-07-05T06:58:34.747391Z"
        },
        "papermill": {
          "duration": 0.975637,
          "end_time": "2022-06-13T19:50:10.94896",
          "exception": false,
          "start_time": "2022-06-13T19:50:09.973323",
          "status": "completed"
        },
        "tags": [],
        "id": "tTRDn5jYtGa7",
        "colab": {
          "base_uri": "https://localhost:8080/"
        },
        "outputId": "c978a947-15f5-453c-9149-3a8a16168510"
      },
      "execution_count": 39,
      "outputs": [
        {
          "output_type": "stream",
          "name": "stdout",
          "text": [
            "[(0, 1), (1, 1), (2, 1), (3, 1), (4, 2), (5, 1), (6, 1), (7, 1), (8, 1), (9, 1), (10, 1), (11, 1), (12, 1), (13, 1), (14, 1), (15, 1)]\n"
          ]
        }
      ]
    },
    {
      "cell_type": "code",
      "source": [
        "from gensim.models import LdaMulticore\n",
        "from gensim.models import LdaModel\n",
        "from pprint import pprint\n",
        "\n",
        "# number of topics\n",
        "num_topics = 10\n",
        "# Build LDA model\n",
        "lda_model = LdaMulticore(corpus=corpus, id2word=id2word,\n",
        "                     num_topics=num_topics, iterations=400)\n",
        "# Print the Keyword in the 10 topics\n",
        "pprint(lda_model.print_topics())\n",
        "doc_lda = lda_model[corpus]\n"
      ],
      "metadata": {
        "execution": {
          "iopub.execute_input": "2022-07-05T06:58:35.399077Z",
          "iopub.status.busy": "2022-07-05T06:58:35.396745Z",
          "iopub.status.idle": "2022-07-05T06:58:49.769474Z",
          "shell.execute_reply": "2022-07-05T06:58:49.768379Z",
          "shell.execute_reply.started": "2022-07-05T06:58:35.399038Z"
        },
        "papermill": {
          "duration": 14.172241,
          "end_time": "2022-06-13T19:50:25.557911",
          "exception": false,
          "start_time": "2022-06-13T19:50:11.38567",
          "status": "completed"
        },
        "tags": [],
        "id": "sRiIClhMtGa7",
        "colab": {
          "base_uri": "https://localhost:8080/"
        },
        "outputId": "36a86ac2-eb8c-43e9-e1f4-a739ed4ff4bc"
      },
      "execution_count": 40,
      "outputs": [
        {
          "output_type": "stream",
          "name": "stderr",
          "text": [
            "WARNING:gensim.models.ldamulticore:too few updates, training might not converge; consider increasing the number of passes or iterations to improve accuracy\n"
          ]
        },
        {
          "output_type": "stream",
          "name": "stdout",
          "text": [
            "[(0,\n",
            "  '0.051*\"good\" + 0.041*\"i\" + 0.029*\"camera\" + 0.028*\"phone\" + 0.017*\"mobile\" '\n",
            "  '+ 0.017*\"redmi\" + 0.016*\"battery\" + 0.013*\"price\" + 0.012*\"quality\" + '\n",
            "  '0.012*\"use\"'),\n",
            " (1,\n",
            "  '0.035*\"product\" + 0.035*\"i\" + 0.017*\"phone\" + 0.017*\"flipkart\" + '\n",
            "  '0.016*\"camera\" + 0.016*\"day\" + 0.014*\"good\" + 0.014*\"price\" + 0.012*\"bad\" + '\n",
            "  '0.012*\"use\"'),\n",
            " (2,\n",
            "  '0.032*\"i\" + 0.030*\"phone\" + 0.019*\"camera\" + 0.017*\"good\" + 0.015*\"battery\" '\n",
            "  '+ 0.014*\"bad\" + 0.013*\"evil\" + 0.012*\"quality\" + 0.011*\"use\" + '\n",
            "  '0.011*\"performance\"'),\n",
            " (3,\n",
            "  '0.041*\"face\" + 0.037*\"i\" + 0.034*\"smile\" + 0.020*\"mobile\" + 0.018*\"evil\" + '\n",
            "  '0.018*\"camera\" + 0.017*\"flipkart\" + 0.017*\"bad\" + 0.016*\"thank\" + '\n",
            "  '0.016*\"product\"'),\n",
            " (4,\n",
            "  '0.039*\"good\" + 0.028*\"phone\" + 0.021*\"product\" + 0.014*\"mobile\" + '\n",
            "  '0.014*\"camera\" + 0.014*\"battery\" + 0.012*\"performance\" + 0.012*\"gb\" + '\n",
            "  '0.012*\"price\" + 0.011*\"i\"'),\n",
            " (5,\n",
            "  '0.062*\"phone\" + 0.025*\"camera\" + 0.022*\"i\" + 0.022*\"good\" + 0.016*\"awesome\" '\n",
            "  '+ 0.015*\"pubg\" + 0.013*\"battery\" + 0.013*\"performance\" + 0.012*\"price\" + '\n",
            "  '0.012*\"display\"'),\n",
            " (6,\n",
            "  '0.032*\"phone\" + 0.032*\"i\" + 0.020*\"good\" + 0.013*\"gb\" + 0.013*\"camera\" + '\n",
            "  '0.012*\"thumb\" + 0.011*\"quality\" + 0.008*\"display\" + 0.008*\"battery\" + '\n",
            "  '0.008*\"great\"'),\n",
            " (7,\n",
            "  '0.039*\"phone\" + 0.038*\"i\" + 0.029*\"camera\" + 0.014*\"bad\" + 0.014*\"battery\" '\n",
            "  '+ 0.013*\"awesome\" + 0.011*\"use\" + 0.010*\"great\" + 0.009*\"day\" + '\n",
            "  '0.009*\"evil\"'),\n",
            " (8,\n",
            "  '0.042*\"phone\" + 0.028*\"good\" + 0.027*\"i\" + 0.015*\"camera\" + 0.015*\"battery\" '\n",
            "  '+ 0.014*\"evil\" + 0.013*\"bad\" + 0.013*\"price\" + 0.011*\"display\" + '\n",
            "  '0.009*\"thank\"'),\n",
            " (9,\n",
            "  '0.038*\"phone\" + 0.035*\"camera\" + 0.035*\"bad\" + 0.022*\"battery\" + '\n",
            "  '0.022*\"evil\" + 0.018*\"also\" + 0.016*\"quality\" + 0.016*\"awesome\" + 0.016*\"i\" '\n",
            "  '+ 0.014*\"money\"')]\n"
          ]
        }
      ]
    },
    {
      "cell_type": "markdown",
      "source": [
        "As we don't have labeled data so we need to make few assumptions regarding choosing of aspect from the comment. From above analysis using LDA we inerpret that below listed aspect are few important one which were mentioned in most of the comments.\n",
        "- Phone\n",
        "- Camera\n",
        "- Battery\n",
        "- Delivery\n",
        "- Processor"
      ],
      "metadata": {
        "papermill": {
          "duration": 0.444497,
          "end_time": "2022-06-13T19:50:26.466275",
          "exception": false,
          "start_time": "2022-06-13T19:50:26.021778",
          "status": "completed"
        },
        "tags": [],
        "id": "QIUyIh3htGa7"
      }
    },
    {
      "cell_type": "markdown",
      "source": [
        "So we use the LDA to discover the thematic structure, it is like a guided feature engineering process, then We gonna create a similarity matrix now by leveraging semantic word relationships with fast text which can provide enhanced word representations and contextual similarity\n"
      ],
      "metadata": {
        "papermill": {
          "duration": 0.442729,
          "end_time": "2022-06-13T19:50:27.362395",
          "exception": false,
          "start_time": "2022-06-13T19:50:26.919666",
          "status": "completed"
        },
        "tags": [],
        "id": "kkS4CRN2tGa7"
      }
    },
    {
      "cell_type": "code",
      "source": [
        "%%time\n",
        "from gensim.models import FastText\n",
        "fasttext_model = FastText(data_words, vector_size= 100, window=5, min_count=5, workers=4,sg=1)\n",
        "# fasttext_model = FastText.load_fasttext_format(\"../input/fast100/cc.en.100.bin\")"
      ],
      "metadata": {
        "execution": {
          "iopub.execute_input": "2022-07-05T06:58:49.771949Z",
          "iopub.status.busy": "2022-07-05T06:58:49.771343Z",
          "iopub.status.idle": "2022-07-05T06:58:57.756516Z",
          "shell.execute_reply": "2022-07-05T06:58:57.755532Z",
          "shell.execute_reply.started": "2022-07-05T06:58:49.771907Z"
        },
        "papermill": {
          "duration": 10.564131,
          "end_time": "2022-06-13T19:50:38.369237",
          "exception": false,
          "start_time": "2022-06-13T19:50:27.805106",
          "status": "completed"
        },
        "tags": [],
        "id": "172mpoF1tGa7",
        "colab": {
          "base_uri": "https://localhost:8080/"
        },
        "outputId": "ad8bc026-d2a6-4709-fc77-23eab1280d6c"
      },
      "execution_count": 41,
      "outputs": [
        {
          "output_type": "stream",
          "name": "stdout",
          "text": [
            "CPU times: user 25.3 s, sys: 252 ms, total: 25.6 s\n",
            "Wall time: 15.9 s\n"
          ]
        }
      ]
    },
    {
      "cell_type": "code",
      "source": [
        "fasttext_model.save(\"FastText-Model-For-ABSA.bin\")"
      ],
      "metadata": {
        "execution": {
          "iopub.execute_input": "2022-07-05T06:58:57.758867Z",
          "iopub.status.busy": "2022-07-05T06:58:57.758192Z",
          "iopub.status.idle": "2022-07-05T06:58:58.36184Z",
          "shell.execute_reply": "2022-07-05T06:58:58.36087Z",
          "shell.execute_reply.started": "2022-07-05T06:58:57.758829Z"
        },
        "papermill": {
          "duration": 1.016051,
          "end_time": "2022-06-13T19:50:39.832206",
          "exception": false,
          "start_time": "2022-06-13T19:50:38.816155",
          "status": "completed"
        },
        "tags": [],
        "id": "utY_9enqtGa7"
      },
      "execution_count": 42,
      "outputs": []
    },
    {
      "cell_type": "code",
      "source": [
        "aspects = [\"phone\", \"camera\", \"battery\", \"delivery\", \"processor\"]\n",
        "\n",
        "def get_similarity(text, aspect):\n",
        "    try:\n",
        "        text = \" \".join(text)\n",
        "        return fasttext_model.wv.n_similarity(text, aspect)\n",
        "    except:\n",
        "        return 0\n"
      ],
      "metadata": {
        "execution": {
          "iopub.execute_input": "2022-07-05T06:58:58.388507Z",
          "iopub.status.busy": "2022-07-05T06:58:58.388164Z",
          "iopub.status.idle": "2022-07-05T06:58:58.396716Z",
          "shell.execute_reply": "2022-07-05T06:58:58.395833Z",
          "shell.execute_reply.started": "2022-07-05T06:58:58.388474Z"
        },
        "papermill": {
          "duration": 0.447449,
          "end_time": "2022-06-13T19:50:43.429872",
          "exception": false,
          "start_time": "2022-06-13T19:50:42.982423",
          "status": "completed"
        },
        "tags": [],
        "id": "tvwjqh1otGa8"
      },
      "execution_count": 43,
      "outputs": []
    },
    {
      "cell_type": "code",
      "source": [
        "from tqdm import tqdm\n",
        "tqdm.pandas()\n",
        "for aspect in aspects:\n",
        "    df[aspect] = df['clean_review2'].progress_map(lambda text: get_similarity(text, aspect))"
      ],
      "metadata": {
        "execution": {
          "iopub.execute_input": "2022-07-05T06:58:58.398718Z",
          "iopub.status.busy": "2022-07-05T06:58:58.398244Z",
          "iopub.status.idle": "2022-07-05T06:59:52.112952Z",
          "shell.execute_reply": "2022-07-05T06:59:52.111979Z",
          "shell.execute_reply.started": "2022-07-05T06:58:58.398627Z"
        },
        "papermill": {
          "duration": 50.124298,
          "end_time": "2022-06-13T19:51:33.993695",
          "exception": false,
          "start_time": "2022-06-13T19:50:43.869397",
          "status": "completed"
        },
        "tags": [],
        "id": "XYsWe2IftGa8",
        "colab": {
          "base_uri": "https://localhost:8080/"
        },
        "outputId": "17762232-320d-4b82-c664-6bc9e780f8d2"
      },
      "execution_count": 44,
      "outputs": [
        {
          "output_type": "stream",
          "name": "stderr",
          "text": [
            "100%|██████████| 12326/12326 [00:20<00:00, 593.89it/s]\n",
            "100%|██████████| 12326/12326 [00:19<00:00, 631.61it/s]\n",
            "100%|██████████| 12326/12326 [00:19<00:00, 619.81it/s]\n",
            "100%|██████████| 12326/12326 [00:20<00:00, 598.41it/s]\n",
            "100%|██████████| 12326/12326 [00:19<00:00, 623.25it/s]\n"
          ]
        }
      ]
    },
    {
      "cell_type": "code",
      "source": [
        "df.to_csv(\"Clean_Flipkart_Product.csv\", index = False)"
      ],
      "metadata": {
        "execution": {
          "iopub.execute_input": "2022-07-05T06:59:52.137285Z",
          "iopub.status.busy": "2022-07-05T06:59:52.136882Z",
          "iopub.status.idle": "2022-07-05T06:59:52.578979Z",
          "shell.execute_reply": "2022-07-05T06:59:52.577964Z",
          "shell.execute_reply.started": "2022-07-05T06:59:52.137243Z"
        },
        "papermill": {
          "duration": 0.961098,
          "end_time": "2022-06-13T19:51:36.746721",
          "exception": false,
          "start_time": "2022-06-13T19:51:35.785623",
          "status": "completed"
        },
        "tags": [],
        "id": "cu4PAmbqtGa8"
      },
      "execution_count": 45,
      "outputs": []
    },
    {
      "cell_type": "markdown",
      "source": [
        "As of now we are done of choosing the aspects for each respective review. Now our next step will be to create an pytorch based model which can predict aspect based sentiment."
      ],
      "metadata": {
        "papermill": {
          "duration": 0.605879,
          "end_time": "2022-06-13T19:51:38.120518",
          "exception": false,
          "start_time": "2022-06-13T19:51:37.514639",
          "status": "completed"
        },
        "tags": [],
        "id": "W1mZya9vtGa8"
      }
    },
    {
      "cell_type": "markdown",
      "source": [
        "# Model Training"
      ],
      "metadata": {
        "id": "1bUtHfe2137j"
      }
    },
    {
      "cell_type": "code",
      "source": [
        "import torch\n",
        "from torch import nn\n",
        "from torch.utils.data import Dataset\n",
        "from torch.utils.data import DataLoader\n",
        "from torch.utils.data import RandomSampler\n",
        "import warnings"
      ],
      "metadata": {
        "execution": {
          "iopub.execute_input": "2022-07-05T06:59:52.585985Z",
          "iopub.status.busy": "2022-07-05T06:59:52.583718Z",
          "iopub.status.idle": "2022-07-05T06:59:52.593317Z",
          "shell.execute_reply": "2022-07-05T06:59:52.592346Z",
          "shell.execute_reply.started": "2022-07-05T06:59:52.585948Z"
        },
        "papermill": {
          "duration": 0.596991,
          "end_time": "2022-06-13T19:51:41.697617",
          "exception": false,
          "start_time": "2022-06-13T19:51:41.100626",
          "status": "completed"
        },
        "tags": [],
        "id": "aSJDoa8RtGa8"
      },
      "execution_count": 46,
      "outputs": []
    },
    {
      "cell_type": "markdown",
      "source": [
        "<h2  style=\"text-align: center\" class=\"list-group-item list-group-item-success\"> 6.1 Configurations </h2><a id = \"6.1\" ></a>"
      ],
      "metadata": {
        "papermill": {
          "duration": 0.589702,
          "end_time": "2022-06-13T19:51:42.929664",
          "exception": false,
          "start_time": "2022-06-13T19:51:42.339962",
          "status": "completed"
        },
        "tags": [],
        "id": "gB8z_PzFtGa8"
      }
    },
    {
      "cell_type": "code",
      "source": [
        "class config:\n",
        "    warnings.filterwarnings(\"ignore\", category = UserWarning)\n",
        "    IMG_SIZE = (224,224)\n",
        "    DEVICE = (\"cuda\" if torch.cuda.is_available() else \"cpu\")\n",
        "    FOLDS = 5\n",
        "    SHUFFLE = True\n",
        "    BATCH_SIZE = 32\n",
        "    LR = 0.01\n",
        "    EPOCHS = 30\n",
        "    EMB_DIM = 100\n",
        "    MAX_LEN = 20\n",
        "    MODEL_PATH = \"./Models/MyModel.pt\""
      ],
      "metadata": {
        "execution": {
          "iopub.execute_input": "2022-07-05T06:59:52.600639Z",
          "iopub.status.busy": "2022-07-05T06:59:52.597961Z",
          "iopub.status.idle": "2022-07-05T06:59:52.674183Z",
          "shell.execute_reply": "2022-07-05T06:59:52.673272Z",
          "shell.execute_reply.started": "2022-07-05T06:59:52.600588Z"
        },
        "papermill": {
          "duration": 0.611603,
          "end_time": "2022-06-13T19:51:44.136961",
          "exception": false,
          "start_time": "2022-06-13T19:51:43.525358",
          "status": "completed"
        },
        "tags": [],
        "id": "Cr3sA4NutGa8"
      },
      "execution_count": 47,
      "outputs": []
    },
    {
      "cell_type": "code",
      "source": [
        "df = pd.read_csv(\"/content/Clean_Flipkart_Product.csv\")\n",
        "df.head()"
      ],
      "metadata": {
        "execution": {
          "iopub.execute_input": "2022-07-05T06:59:52.680512Z",
          "iopub.status.busy": "2022-07-05T06:59:52.67884Z",
          "iopub.status.idle": "2022-07-05T06:59:52.718122Z",
          "shell.execute_reply": "2022-07-05T06:59:52.717015Z",
          "shell.execute_reply.started": "2022-07-05T06:59:52.680475Z"
        },
        "papermill": {
          "duration": 0.621363,
          "end_time": "2022-06-13T19:51:45.357221",
          "exception": false,
          "start_time": "2022-06-13T19:51:44.735858",
          "status": "completed"
        },
        "tags": [],
        "id": "f37xRnTytGa9",
        "colab": {
          "base_uri": "https://localhost:8080/",
          "height": 310
        },
        "outputId": "55daea8c-45ab-4e99-959c-b3029df453cf"
      },
      "execution_count": 48,
      "outputs": [
        {
          "output_type": "execute_result",
          "data": {
            "text/plain": [
              "                                              review  y  \\\n",
              "0  Slim and steady in holding and operating.Good ...  1   \n",
              "1  Overall bad phone in this budget. Simply away ...  0   \n",
              "2  Must buy. Best phone in this price range. Nice...  1   \n",
              "3  super phone in this prize every thing is imper...  0   \n",
              "4  This is the best phone in this price range whi...  1   \n",
              "\n",
              "                                        clean_review  \\\n",
              "0  slim steady hold operatinggood modern day look...   \n",
              "1  overall bad phone budget simply away first one...   \n",
              "2  must buy good phone price range nice look supe...   \n",
              "3  super phone prize every thing imperfect camera...   \n",
              "4  good phone price range highquality camera proc...   \n",
              "\n",
              "                                       clean_review2     phone    camera  \\\n",
              "0  ['slim', 'steady', 'hold', 'operatinggood', 'm...  0.881814  0.869249   \n",
              "1  ['overall', 'bad', 'phone', 'budget', 'simply'...  0.890131  0.868406   \n",
              "2  ['must', 'buy', 'good', 'phone', 'price', 'ran...  0.913131  0.874783   \n",
              "3  ['super', 'phone', 'prize', 'every', 'thing', ...  0.909267  0.872951   \n",
              "4  ['good', 'phone', 'price', 'range', 'highquali...  0.930133  0.901578   \n",
              "\n",
              "    battery  delivery  processor  \n",
              "0  0.867634  0.952238   0.881585  \n",
              "1  0.879134  0.960879   0.871773  \n",
              "2  0.881336  0.940665   0.886667  \n",
              "3  0.888725  0.959379   0.880897  \n",
              "4  0.861556  0.930592   0.896418  "
            ],
            "text/html": [
              "\n",
              "  <div id=\"df-0cf94085-5c05-4570-acac-63920f9dc25d\" class=\"colab-df-container\">\n",
              "    <div>\n",
              "<style scoped>\n",
              "    .dataframe tbody tr th:only-of-type {\n",
              "        vertical-align: middle;\n",
              "    }\n",
              "\n",
              "    .dataframe tbody tr th {\n",
              "        vertical-align: top;\n",
              "    }\n",
              "\n",
              "    .dataframe thead th {\n",
              "        text-align: right;\n",
              "    }\n",
              "</style>\n",
              "<table border=\"1\" class=\"dataframe\">\n",
              "  <thead>\n",
              "    <tr style=\"text-align: right;\">\n",
              "      <th></th>\n",
              "      <th>review</th>\n",
              "      <th>y</th>\n",
              "      <th>clean_review</th>\n",
              "      <th>clean_review2</th>\n",
              "      <th>phone</th>\n",
              "      <th>camera</th>\n",
              "      <th>battery</th>\n",
              "      <th>delivery</th>\n",
              "      <th>processor</th>\n",
              "    </tr>\n",
              "  </thead>\n",
              "  <tbody>\n",
              "    <tr>\n",
              "      <th>0</th>\n",
              "      <td>Slim and steady in holding and operating.Good ...</td>\n",
              "      <td>1</td>\n",
              "      <td>slim steady hold operatinggood modern day look...</td>\n",
              "      <td>['slim', 'steady', 'hold', 'operatinggood', 'm...</td>\n",
              "      <td>0.881814</td>\n",
              "      <td>0.869249</td>\n",
              "      <td>0.867634</td>\n",
              "      <td>0.952238</td>\n",
              "      <td>0.881585</td>\n",
              "    </tr>\n",
              "    <tr>\n",
              "      <th>1</th>\n",
              "      <td>Overall bad phone in this budget. Simply away ...</td>\n",
              "      <td>0</td>\n",
              "      <td>overall bad phone budget simply away first one...</td>\n",
              "      <td>['overall', 'bad', 'phone', 'budget', 'simply'...</td>\n",
              "      <td>0.890131</td>\n",
              "      <td>0.868406</td>\n",
              "      <td>0.879134</td>\n",
              "      <td>0.960879</td>\n",
              "      <td>0.871773</td>\n",
              "    </tr>\n",
              "    <tr>\n",
              "      <th>2</th>\n",
              "      <td>Must buy. Best phone in this price range. Nice...</td>\n",
              "      <td>1</td>\n",
              "      <td>must buy good phone price range nice look supe...</td>\n",
              "      <td>['must', 'buy', 'good', 'phone', 'price', 'ran...</td>\n",
              "      <td>0.913131</td>\n",
              "      <td>0.874783</td>\n",
              "      <td>0.881336</td>\n",
              "      <td>0.940665</td>\n",
              "      <td>0.886667</td>\n",
              "    </tr>\n",
              "    <tr>\n",
              "      <th>3</th>\n",
              "      <td>super phone in this prize every thing is imper...</td>\n",
              "      <td>0</td>\n",
              "      <td>super phone prize every thing imperfect camera...</td>\n",
              "      <td>['super', 'phone', 'prize', 'every', 'thing', ...</td>\n",
              "      <td>0.909267</td>\n",
              "      <td>0.872951</td>\n",
              "      <td>0.888725</td>\n",
              "      <td>0.959379</td>\n",
              "      <td>0.880897</td>\n",
              "    </tr>\n",
              "    <tr>\n",
              "      <th>4</th>\n",
              "      <td>This is the best phone in this price range whi...</td>\n",
              "      <td>1</td>\n",
              "      <td>good phone price range highquality camera proc...</td>\n",
              "      <td>['good', 'phone', 'price', 'range', 'highquali...</td>\n",
              "      <td>0.930133</td>\n",
              "      <td>0.901578</td>\n",
              "      <td>0.861556</td>\n",
              "      <td>0.930592</td>\n",
              "      <td>0.896418</td>\n",
              "    </tr>\n",
              "  </tbody>\n",
              "</table>\n",
              "</div>\n",
              "    <div class=\"colab-df-buttons\">\n",
              "\n",
              "  <div class=\"colab-df-container\">\n",
              "    <button class=\"colab-df-convert\" onclick=\"convertToInteractive('df-0cf94085-5c05-4570-acac-63920f9dc25d')\"\n",
              "            title=\"Convert this dataframe to an interactive table.\"\n",
              "            style=\"display:none;\">\n",
              "\n",
              "  <svg xmlns=\"http://www.w3.org/2000/svg\" height=\"24px\" viewBox=\"0 -960 960 960\">\n",
              "    <path d=\"M120-120v-720h720v720H120Zm60-500h600v-160H180v160Zm220 220h160v-160H400v160Zm0 220h160v-160H400v160ZM180-400h160v-160H180v160Zm440 0h160v-160H620v160ZM180-180h160v-160H180v160Zm440 0h160v-160H620v160Z\"/>\n",
              "  </svg>\n",
              "    </button>\n",
              "\n",
              "  <style>\n",
              "    .colab-df-container {\n",
              "      display:flex;\n",
              "      gap: 12px;\n",
              "    }\n",
              "\n",
              "    .colab-df-convert {\n",
              "      background-color: #E8F0FE;\n",
              "      border: none;\n",
              "      border-radius: 50%;\n",
              "      cursor: pointer;\n",
              "      display: none;\n",
              "      fill: #1967D2;\n",
              "      height: 32px;\n",
              "      padding: 0 0 0 0;\n",
              "      width: 32px;\n",
              "    }\n",
              "\n",
              "    .colab-df-convert:hover {\n",
              "      background-color: #E2EBFA;\n",
              "      box-shadow: 0px 1px 2px rgba(60, 64, 67, 0.3), 0px 1px 3px 1px rgba(60, 64, 67, 0.15);\n",
              "      fill: #174EA6;\n",
              "    }\n",
              "\n",
              "    .colab-df-buttons div {\n",
              "      margin-bottom: 4px;\n",
              "    }\n",
              "\n",
              "    [theme=dark] .colab-df-convert {\n",
              "      background-color: #3B4455;\n",
              "      fill: #D2E3FC;\n",
              "    }\n",
              "\n",
              "    [theme=dark] .colab-df-convert:hover {\n",
              "      background-color: #434B5C;\n",
              "      box-shadow: 0px 1px 3px 1px rgba(0, 0, 0, 0.15);\n",
              "      filter: drop-shadow(0px 1px 2px rgba(0, 0, 0, 0.3));\n",
              "      fill: #FFFFFF;\n",
              "    }\n",
              "  </style>\n",
              "\n",
              "    <script>\n",
              "      const buttonEl =\n",
              "        document.querySelector('#df-0cf94085-5c05-4570-acac-63920f9dc25d button.colab-df-convert');\n",
              "      buttonEl.style.display =\n",
              "        google.colab.kernel.accessAllowed ? 'block' : 'none';\n",
              "\n",
              "      async function convertToInteractive(key) {\n",
              "        const element = document.querySelector('#df-0cf94085-5c05-4570-acac-63920f9dc25d');\n",
              "        const dataTable =\n",
              "          await google.colab.kernel.invokeFunction('convertToInteractive',\n",
              "                                                    [key], {});\n",
              "        if (!dataTable) return;\n",
              "\n",
              "        const docLinkHtml = 'Like what you see? Visit the ' +\n",
              "          '<a target=\"_blank\" href=https://colab.research.google.com/notebooks/data_table.ipynb>data table notebook</a>'\n",
              "          + ' to learn more about interactive tables.';\n",
              "        element.innerHTML = '';\n",
              "        dataTable['output_type'] = 'display_data';\n",
              "        await google.colab.output.renderOutput(dataTable, element);\n",
              "        const docLink = document.createElement('div');\n",
              "        docLink.innerHTML = docLinkHtml;\n",
              "        element.appendChild(docLink);\n",
              "      }\n",
              "    </script>\n",
              "  </div>\n",
              "\n",
              "\n",
              "<div id=\"df-cd9e6c9f-6475-4e38-a714-341bab3bc867\">\n",
              "  <button class=\"colab-df-quickchart\" onclick=\"quickchart('df-cd9e6c9f-6475-4e38-a714-341bab3bc867')\"\n",
              "            title=\"Suggest charts\"\n",
              "            style=\"display:none;\">\n",
              "\n",
              "<svg xmlns=\"http://www.w3.org/2000/svg\" height=\"24px\"viewBox=\"0 0 24 24\"\n",
              "     width=\"24px\">\n",
              "    <g>\n",
              "        <path d=\"M19 3H5c-1.1 0-2 .9-2 2v14c0 1.1.9 2 2 2h14c1.1 0 2-.9 2-2V5c0-1.1-.9-2-2-2zM9 17H7v-7h2v7zm4 0h-2V7h2v10zm4 0h-2v-4h2v4z\"/>\n",
              "    </g>\n",
              "</svg>\n",
              "  </button>\n",
              "\n",
              "<style>\n",
              "  .colab-df-quickchart {\n",
              "      --bg-color: #E8F0FE;\n",
              "      --fill-color: #1967D2;\n",
              "      --hover-bg-color: #E2EBFA;\n",
              "      --hover-fill-color: #174EA6;\n",
              "      --disabled-fill-color: #AAA;\n",
              "      --disabled-bg-color: #DDD;\n",
              "  }\n",
              "\n",
              "  [theme=dark] .colab-df-quickchart {\n",
              "      --bg-color: #3B4455;\n",
              "      --fill-color: #D2E3FC;\n",
              "      --hover-bg-color: #434B5C;\n",
              "      --hover-fill-color: #FFFFFF;\n",
              "      --disabled-bg-color: #3B4455;\n",
              "      --disabled-fill-color: #666;\n",
              "  }\n",
              "\n",
              "  .colab-df-quickchart {\n",
              "    background-color: var(--bg-color);\n",
              "    border: none;\n",
              "    border-radius: 50%;\n",
              "    cursor: pointer;\n",
              "    display: none;\n",
              "    fill: var(--fill-color);\n",
              "    height: 32px;\n",
              "    padding: 0;\n",
              "    width: 32px;\n",
              "  }\n",
              "\n",
              "  .colab-df-quickchart:hover {\n",
              "    background-color: var(--hover-bg-color);\n",
              "    box-shadow: 0 1px 2px rgba(60, 64, 67, 0.3), 0 1px 3px 1px rgba(60, 64, 67, 0.15);\n",
              "    fill: var(--button-hover-fill-color);\n",
              "  }\n",
              "\n",
              "  .colab-df-quickchart-complete:disabled,\n",
              "  .colab-df-quickchart-complete:disabled:hover {\n",
              "    background-color: var(--disabled-bg-color);\n",
              "    fill: var(--disabled-fill-color);\n",
              "    box-shadow: none;\n",
              "  }\n",
              "\n",
              "  .colab-df-spinner {\n",
              "    border: 2px solid var(--fill-color);\n",
              "    border-color: transparent;\n",
              "    border-bottom-color: var(--fill-color);\n",
              "    animation:\n",
              "      spin 1s steps(1) infinite;\n",
              "  }\n",
              "\n",
              "  @keyframes spin {\n",
              "    0% {\n",
              "      border-color: transparent;\n",
              "      border-bottom-color: var(--fill-color);\n",
              "      border-left-color: var(--fill-color);\n",
              "    }\n",
              "    20% {\n",
              "      border-color: transparent;\n",
              "      border-left-color: var(--fill-color);\n",
              "      border-top-color: var(--fill-color);\n",
              "    }\n",
              "    30% {\n",
              "      border-color: transparent;\n",
              "      border-left-color: var(--fill-color);\n",
              "      border-top-color: var(--fill-color);\n",
              "      border-right-color: var(--fill-color);\n",
              "    }\n",
              "    40% {\n",
              "      border-color: transparent;\n",
              "      border-right-color: var(--fill-color);\n",
              "      border-top-color: var(--fill-color);\n",
              "    }\n",
              "    60% {\n",
              "      border-color: transparent;\n",
              "      border-right-color: var(--fill-color);\n",
              "    }\n",
              "    80% {\n",
              "      border-color: transparent;\n",
              "      border-right-color: var(--fill-color);\n",
              "      border-bottom-color: var(--fill-color);\n",
              "    }\n",
              "    90% {\n",
              "      border-color: transparent;\n",
              "      border-bottom-color: var(--fill-color);\n",
              "    }\n",
              "  }\n",
              "</style>\n",
              "\n",
              "  <script>\n",
              "    async function quickchart(key) {\n",
              "      const quickchartButtonEl =\n",
              "        document.querySelector('#' + key + ' button');\n",
              "      quickchartButtonEl.disabled = true;  // To prevent multiple clicks.\n",
              "      quickchartButtonEl.classList.add('colab-df-spinner');\n",
              "      try {\n",
              "        const charts = await google.colab.kernel.invokeFunction(\n",
              "            'suggestCharts', [key], {});\n",
              "      } catch (error) {\n",
              "        console.error('Error during call to suggestCharts:', error);\n",
              "      }\n",
              "      quickchartButtonEl.classList.remove('colab-df-spinner');\n",
              "      quickchartButtonEl.classList.add('colab-df-quickchart-complete');\n",
              "    }\n",
              "    (() => {\n",
              "      let quickchartButtonEl =\n",
              "        document.querySelector('#df-cd9e6c9f-6475-4e38-a714-341bab3bc867 button');\n",
              "      quickchartButtonEl.style.display =\n",
              "        google.colab.kernel.accessAllowed ? 'block' : 'none';\n",
              "    })();\n",
              "  </script>\n",
              "</div>\n",
              "\n",
              "    </div>\n",
              "  </div>\n"
            ],
            "application/vnd.google.colaboratory.intrinsic+json": {
              "type": "dataframe",
              "variable_name": "df",
              "summary": "{\n  \"name\": \"df\",\n  \"rows\": 12326,\n  \"fields\": [\n    {\n      \"column\": \"review\",\n      \"properties\": {\n        \"dtype\": \"string\",\n        \"num_unique_values\": 9771,\n        \"samples\": [\n          \"Good  phone very  nice good  features  but no  earphone in this box it is a bad thing totaly a good one\",\n          \"AFTER LONG TIME I HAVE SEEN ALL ROUND MOBILE , BEFORE REDMI MOST SUCCES MOBILE WAS ITS REDMI NOTE 4 , N NOW NOTE 7 IS VERY IMPRESSIE AND GAME CHANGING IN FUTURE,NOW IN MARKET ALL COMPANY ARE THINKING ABOUT NOTE 7 N PLAN FOR FUTUR BUT ITs VERY HARD TO GIVE COMPUTATION.\",\n          \"nice and fabulous product . its battary backup is too much good . camera was fantastic. display is big and look beautiful..\"\n        ],\n        \"semantic_type\": \"\",\n        \"description\": \"\"\n      }\n    },\n    {\n      \"column\": \"y\",\n      \"properties\": {\n        \"dtype\": \"number\",\n        \"std\": 0,\n        \"min\": 0,\n        \"max\": 1,\n        \"num_unique_values\": 2,\n        \"samples\": [\n          0,\n          1\n        ],\n        \"semantic_type\": \"\",\n        \"description\": \"\"\n      }\n    },\n    {\n      \"column\": \"clean_review\",\n      \"properties\": {\n        \"dtype\": \"string\",\n        \"num_unique_values\": 9738,\n        \"samples\": [\n          \"one evil budget unfriendly smartphone never use great processor inside leave empty fledge snapdragon 660 help play pubg game low graphic setting I hate phone\",\n          \"I buy mobile mi4i 14th may I want give review mobile I try buy mobile I keep look review pro con I give comment people try buy mobile 1 shipping reach I two work day 2 mobile design I would rate 9103 mobile heating issue big issue concern I game play person I play asphalt 8 motal combat minion rush big game\"\n        ],\n        \"semantic_type\": \"\",\n        \"description\": \"\"\n      }\n    },\n    {\n      \"column\": \"clean_review2\",\n      \"properties\": {\n        \"dtype\": \"string\",\n        \"num_unique_values\": 9738,\n        \"samples\": [\n          \"['one', 'evil', 'budget', 'unfriendly', 'smartphone', 'never', 'use', 'great', 'processor', 'inside', 'leave', 'empty', 'fledge', 'snapdragon', '660', 'help', 'play', 'pubg', 'game', 'low', 'graphic', 'setting', 'i', 'hate', 'phone']\",\n          \"['i', 'buy', 'mobile', 'mi4i', '14th', 'may', 'i', 'want', 'give', 'review', 'mobile', 'i', 'try', 'buy', 'mobile', 'i', 'keep', 'look', 'review', 'pro', 'con', 'i', 'give', 'comment', 'people', 'try', 'buy', 'mobile', '1', 'shipping', 'reach', 'i', 'two', 'work', 'day', '2', 'mobile', 'design', 'i', 'would', 'rate', '9103', 'mobile', 'heating', 'issue', 'big', 'issue', 'concern', 'i', 'game', 'play', 'person', 'i', 'play', 'asphalt', '8', 'motal', 'combat', 'minion', 'rush', 'big', 'game']\"\n        ],\n        \"semantic_type\": \"\",\n        \"description\": \"\"\n      }\n    },\n    {\n      \"column\": \"phone\",\n      \"properties\": {\n        \"dtype\": \"number\",\n        \"std\": 0.021731452468187695,\n        \"min\": 0.7907455,\n        \"max\": 0.96221966,\n        \"num_unique_values\": 9661,\n        \"samples\": [\n          0.90863436,\n          0.9212046\n        ],\n        \"semantic_type\": \"\",\n        \"description\": \"\"\n      }\n    },\n    {\n      \"column\": \"camera\",\n      \"properties\": {\n        \"dtype\": \"number\",\n        \"std\": 0.02657638088525633,\n        \"min\": 0.70430607,\n        \"max\": 0.95502216,\n        \"num_unique_values\": 9666,\n        \"samples\": [\n          0.84323525,\n          0.86646575\n        ],\n        \"semantic_type\": \"\",\n        \"description\": \"\"\n      }\n    },\n    {\n      \"column\": \"battery\",\n      \"properties\": {\n        \"dtype\": \"number\",\n        \"std\": 0.020797640011325513,\n        \"min\": 0.7467751,\n        \"max\": 0.93688387,\n        \"num_unique_values\": 9661,\n        \"samples\": [\n          0.87476313,\n          0.88654774\n        ],\n        \"semantic_type\": \"\",\n        \"description\": \"\"\n      }\n    },\n    {\n      \"column\": \"delivery\",\n      \"properties\": {\n        \"dtype\": \"number\",\n        \"std\": 0.01595422075066133,\n        \"min\": 0.8286942,\n        \"max\": 0.989487,\n        \"num_unique_values\": 9656,\n        \"samples\": [\n          0.9037176,\n          0.89666355\n        ],\n        \"semantic_type\": \"\",\n        \"description\": \"\"\n      }\n    },\n    {\n      \"column\": \"processor\",\n      \"properties\": {\n        \"dtype\": \"number\",\n        \"std\": 0.026832523643896673,\n        \"min\": 0.6975686,\n        \"max\": 0.96248347,\n        \"num_unique_values\": 9665,\n        \"samples\": [\n          0.85678136,\n          0.80947554\n        ],\n        \"semantic_type\": \"\",\n        \"description\": \"\"\n      }\n    }\n  ]\n}"
            }
          },
          "metadata": {},
          "execution_count": 48
        }
      ]
    },
    {
      "cell_type": "markdown",
      "source": [
        "<h2  style=\"text-align: center\" class=\"list-group-item list-group-item-success\"> 6.2 Dataset Generator </h2><a id = \"6.2\" ></a>"
      ],
      "metadata": {
        "papermill": {
          "duration": 0.596307,
          "end_time": "2022-06-13T19:51:49.835143",
          "exception": false,
          "start_time": "2022-06-13T19:51:49.238836",
          "status": "completed"
        },
        "tags": [],
        "id": "Q2v4IGlVtGa9"
      }
    },
    {
      "cell_type": "markdown",
      "source": [
        "<h3  style=\"text-align: center\" class=\"list-group-item list-group-item-warning\"> 6.2.1 Creation of the Vocabulary </h3><a id = \"6.2.1\" ></a>\n",
        "\n",
        "convert text into numerical form that models can understand, while managing vocabulary size and handling unknown words gracefully."
      ],
      "metadata": {
        "papermill": {
          "duration": 0.596218,
          "end_time": "2022-06-13T19:51:51.031501",
          "exception": false,
          "start_time": "2022-06-13T19:51:50.435283",
          "status": "completed"
        },
        "tags": [],
        "id": "Je527QnQtGa9"
      }
    },
    {
      "cell_type": "code",
      "source": [
        "class Vocabulary:\n",
        "\n",
        "    '''\n",
        "    __init__ method is called by default as soon as an object of this class is initiated\n",
        "    we use this method to initiate our vocab dictionaries\n",
        "    '''\n",
        "    def __init__(self, freq_threshold, max_size):\n",
        "        '''\n",
        "        freq_threshold : the minimum times a word must occur in corpus to be treated in vocab\n",
        "        max_size : max source vocab size. Eg. if set to 10,000, we pick the top 10,000 most frequent words and discard others\n",
        "        '''\n",
        "        #initiate the index to token dict\n",
        "        ## <PAD> -> padding, used for padding the shorter sentences in a batch to match the length of longest sentence in the batch\n",
        "        ## <SOS> -> start token, added in front of each sentence to signify the start of sentence\n",
        "        ## <EOS> -> End of sentence token, added to the end of each sentence to signify the end of sentence\n",
        "        ## <UNK> -> words which are not found in the vocab are replace by this token\n",
        "        self.itos = {0: '<PAD>', 1:'<SOS>', 2:'<EOS>', 3: '<UNK>'}\n",
        "        #initiate the token to index dict\n",
        "        self.stoi = {k:j for j,k in self.itos.items()}\n",
        "\n",
        "        self.freq_threshold = freq_threshold\n",
        "        self.max_size = max_size\n",
        "\n",
        "    '''\n",
        "    __len__ is used by dataloader later to create batches\n",
        "    '''\n",
        "    def __len__(self):\n",
        "        return len(self.itos)\n",
        "\n",
        "    '''\n",
        "    a simple tokenizer to split on space and converts the sentence to list of words\n",
        "    '''\n",
        "    @staticmethod\n",
        "    def tokenizer(text):\n",
        "        return [tok.lower().strip() for tok in text.split(' ')]\n",
        "\n",
        "    '''\n",
        "    build the vocab: create a dictionary mapping of index to string (itos) and string to index (stoi)\n",
        "    output ex. for stoi -> {'the':5, 'a':6, 'an':7}\n",
        "    '''\n",
        "    def build_vocabulary(self, sentence_list):\n",
        "        #calculate the frequencies of each word first to remove the words with freq < freq_threshold\n",
        "        frequencies = {}  #init the freq dict\n",
        "        idx = 4 #index from which we want our dict to start. We already used 4 indexes for pad, start, end, unk\n",
        "\n",
        "        #calculate freq of words\n",
        "        for sentence in sentence_list:\n",
        "            for word in self.tokenizer(sentence):\n",
        "                if word not in frequencies.keys():\n",
        "                    frequencies[word]=1\n",
        "                else:\n",
        "                    frequencies[word]+=1\n",
        "\n",
        "\n",
        "        #limit vocab by removing low freq words\n",
        "        frequencies = {k:v for k,v in frequencies.items() if v>self.freq_threshold}\n",
        "\n",
        "        #limit vocab to the max_size specified\n",
        "        frequencies = dict(sorted(frequencies.items(), key = lambda x: -x[1])[:self.max_size-idx]) # idx =4 for pad, start, end , unk\n",
        "\n",
        "        #create vocab\n",
        "        for word in frequencies.keys():\n",
        "            self.stoi[word] = idx\n",
        "            self.itos[idx] = word\n",
        "            idx+=1\n",
        "\n",
        "\n",
        "    '''\n",
        "    convert the list of words to a list of corresponding indexes\n",
        "    '''\n",
        "    def numericalize(self, text):\n",
        "        #tokenize text\n",
        "        tokenized_text = self.tokenizer(text)\n",
        "        numericalized_text = []\n",
        "        for token in tokenized_text:\n",
        "            if token in self.stoi.keys():\n",
        "                numericalized_text.append(self.stoi[token])\n",
        "            else: #out-of-vocab words are represented by UNK token index\n",
        "                numericalized_text.append(self.stoi['<UNK>'])\n",
        "\n",
        "        return numericalized_text\n"
      ],
      "metadata": {
        "execution": {
          "iopub.execute_input": "2022-07-05T06:59:52.72023Z",
          "iopub.status.busy": "2022-07-05T06:59:52.71985Z",
          "iopub.status.idle": "2022-07-05T06:59:52.736695Z",
          "shell.execute_reply": "2022-07-05T06:59:52.735374Z",
          "shell.execute_reply.started": "2022-07-05T06:59:52.720194Z"
        },
        "papermill": {
          "duration": 0.616192,
          "end_time": "2022-06-13T19:51:52.247773",
          "exception": false,
          "start_time": "2022-06-13T19:51:51.631581",
          "status": "completed"
        },
        "tags": [],
        "id": "ZsDEAY2StGa9"
      },
      "execution_count": 49,
      "outputs": []
    },
    {
      "cell_type": "markdown",
      "source": [
        "handling text data, integrating vocabulary construction, and preparing the data for model training"
      ],
      "metadata": {
        "id": "75IzFQH0A35w"
      }
    },
    {
      "cell_type": "code",
      "source": [
        "from torch.utils.data import Dataset\n",
        "\n",
        "class CustomDataset(Dataset):\n",
        "    '''\n",
        "    Initiating Variables\n",
        "    df: the training dataframe\n",
        "    source_column : the name of source text column in the dataframe\n",
        "    transform : If we want to add any augmentation\n",
        "    freq_threshold : the minimum times a word must occur in corpus to be treated in vocab\n",
        "    source_vocab_max_size : max source vocab size\n",
        "    '''\n",
        "\n",
        "    def __init__(self, df, source_column,freq_threshold = 3,\n",
        "                source_vocab_max_size = 10000 , transform=None):\n",
        "\n",
        "        self.df = df\n",
        "        self.transform = transform\n",
        "\n",
        "        #get source and target texts\n",
        "        self.source_texts = self.df[source_column]\n",
        "\n",
        "\n",
        "        ##VOCAB class has been created above\n",
        "        #Initialize source vocab object and build vocabulary\n",
        "        self.source_vocab = Vocabulary(freq_threshold, source_vocab_max_size)\n",
        "        self.source_vocab.build_vocabulary(self.source_texts.tolist())\n",
        "\n",
        "\n",
        "    def __len__(self):\n",
        "        return len(self.df)\n",
        "\n",
        "    '''\n",
        "    __getitem__ runs on 1 example at a time. Here, we get an example at index and return its numericalize source and\n",
        "    target values using the vocabulary objects we created in __init__\n",
        "    '''\n",
        "    def __getitem__(self, index):\n",
        "        source_text = self.source_texts[index]\n",
        "\n",
        "        if self.transform is not None:\n",
        "            source_text = self.transform(source_text)\n",
        "\n",
        "        #numericalize texts ['<SOS>','cat', 'in', 'a', 'bag','<EOS>'] -> [1,12,2,9,24,2]\n",
        "        numerialized_source = [self.source_vocab.stoi[\"<SOS>\"]]\n",
        "        numerialized_source += self.source_vocab.numericalize(source_text)\n",
        "        numerialized_source.append(self.source_vocab.stoi[\"<EOS>\"])\n",
        "\n",
        "        #convert the list to tensor and return\n",
        "        return torch.tensor(numerialized_source), torch.tensor(self.df.y[index])"
      ],
      "metadata": {
        "execution": {
          "iopub.execute_input": "2022-07-05T06:59:52.739669Z",
          "iopub.status.busy": "2022-07-05T06:59:52.738599Z",
          "iopub.status.idle": "2022-07-05T06:59:52.753463Z",
          "shell.execute_reply": "2022-07-05T06:59:52.752343Z",
          "shell.execute_reply.started": "2022-07-05T06:59:52.739578Z"
        },
        "papermill": {
          "duration": 0.622706,
          "end_time": "2022-06-13T19:51:53.463781",
          "exception": false,
          "start_time": "2022-06-13T19:51:52.841075",
          "status": "completed"
        },
        "tags": [],
        "id": "lWqpcnKCtGa9"
      },
      "execution_count": 50,
      "outputs": []
    },
    {
      "cell_type": "code",
      "source": [
        "df.head()"
      ],
      "metadata": {
        "execution": {
          "iopub.execute_input": "2022-07-05T06:59:52.755557Z",
          "iopub.status.busy": "2022-07-05T06:59:52.755083Z",
          "iopub.status.idle": "2022-07-05T06:59:52.777773Z",
          "shell.execute_reply": "2022-07-05T06:59:52.77656Z",
          "shell.execute_reply.started": "2022-07-05T06:59:52.755521Z"
        },
        "papermill": {
          "duration": 0.607569,
          "end_time": "2022-06-13T19:51:54.711852",
          "exception": false,
          "start_time": "2022-06-13T19:51:54.104283",
          "status": "completed"
        },
        "tags": [],
        "id": "5aBdj82ktGa9",
        "colab": {
          "base_uri": "https://localhost:8080/",
          "height": 310
        },
        "outputId": "1c6b14e6-1fbc-411a-e89d-ab3d40696ea6"
      },
      "execution_count": 51,
      "outputs": [
        {
          "output_type": "execute_result",
          "data": {
            "text/plain": [
              "                                              review  y  \\\n",
              "0  Slim and steady in holding and operating.Good ...  1   \n",
              "1  Overall bad phone in this budget. Simply away ...  0   \n",
              "2  Must buy. Best phone in this price range. Nice...  1   \n",
              "3  super phone in this prize every thing is imper...  0   \n",
              "4  This is the best phone in this price range whi...  1   \n",
              "\n",
              "                                        clean_review  \\\n",
              "0  slim steady hold operatinggood modern day look...   \n",
              "1  overall bad phone budget simply away first one...   \n",
              "2  must buy good phone price range nice look supe...   \n",
              "3  super phone prize every thing imperfect camera...   \n",
              "4  good phone price range highquality camera proc...   \n",
              "\n",
              "                                       clean_review2     phone    camera  \\\n",
              "0  ['slim', 'steady', 'hold', 'operatinggood', 'm...  0.881814  0.869249   \n",
              "1  ['overall', 'bad', 'phone', 'budget', 'simply'...  0.890131  0.868406   \n",
              "2  ['must', 'buy', 'good', 'phone', 'price', 'ran...  0.913131  0.874783   \n",
              "3  ['super', 'phone', 'prize', 'every', 'thing', ...  0.909267  0.872951   \n",
              "4  ['good', 'phone', 'price', 'range', 'highquali...  0.930133  0.901578   \n",
              "\n",
              "    battery  delivery  processor  \n",
              "0  0.867634  0.952238   0.881585  \n",
              "1  0.879134  0.960879   0.871773  \n",
              "2  0.881336  0.940665   0.886667  \n",
              "3  0.888725  0.959379   0.880897  \n",
              "4  0.861556  0.930592   0.896418  "
            ],
            "text/html": [
              "\n",
              "  <div id=\"df-35af28d2-658f-4e84-a689-b288a37103eb\" class=\"colab-df-container\">\n",
              "    <div>\n",
              "<style scoped>\n",
              "    .dataframe tbody tr th:only-of-type {\n",
              "        vertical-align: middle;\n",
              "    }\n",
              "\n",
              "    .dataframe tbody tr th {\n",
              "        vertical-align: top;\n",
              "    }\n",
              "\n",
              "    .dataframe thead th {\n",
              "        text-align: right;\n",
              "    }\n",
              "</style>\n",
              "<table border=\"1\" class=\"dataframe\">\n",
              "  <thead>\n",
              "    <tr style=\"text-align: right;\">\n",
              "      <th></th>\n",
              "      <th>review</th>\n",
              "      <th>y</th>\n",
              "      <th>clean_review</th>\n",
              "      <th>clean_review2</th>\n",
              "      <th>phone</th>\n",
              "      <th>camera</th>\n",
              "      <th>battery</th>\n",
              "      <th>delivery</th>\n",
              "      <th>processor</th>\n",
              "    </tr>\n",
              "  </thead>\n",
              "  <tbody>\n",
              "    <tr>\n",
              "      <th>0</th>\n",
              "      <td>Slim and steady in holding and operating.Good ...</td>\n",
              "      <td>1</td>\n",
              "      <td>slim steady hold operatinggood modern day look...</td>\n",
              "      <td>['slim', 'steady', 'hold', 'operatinggood', 'm...</td>\n",
              "      <td>0.881814</td>\n",
              "      <td>0.869249</td>\n",
              "      <td>0.867634</td>\n",
              "      <td>0.952238</td>\n",
              "      <td>0.881585</td>\n",
              "    </tr>\n",
              "    <tr>\n",
              "      <th>1</th>\n",
              "      <td>Overall bad phone in this budget. Simply away ...</td>\n",
              "      <td>0</td>\n",
              "      <td>overall bad phone budget simply away first one...</td>\n",
              "      <td>['overall', 'bad', 'phone', 'budget', 'simply'...</td>\n",
              "      <td>0.890131</td>\n",
              "      <td>0.868406</td>\n",
              "      <td>0.879134</td>\n",
              "      <td>0.960879</td>\n",
              "      <td>0.871773</td>\n",
              "    </tr>\n",
              "    <tr>\n",
              "      <th>2</th>\n",
              "      <td>Must buy. Best phone in this price range. Nice...</td>\n",
              "      <td>1</td>\n",
              "      <td>must buy good phone price range nice look supe...</td>\n",
              "      <td>['must', 'buy', 'good', 'phone', 'price', 'ran...</td>\n",
              "      <td>0.913131</td>\n",
              "      <td>0.874783</td>\n",
              "      <td>0.881336</td>\n",
              "      <td>0.940665</td>\n",
              "      <td>0.886667</td>\n",
              "    </tr>\n",
              "    <tr>\n",
              "      <th>3</th>\n",
              "      <td>super phone in this prize every thing is imper...</td>\n",
              "      <td>0</td>\n",
              "      <td>super phone prize every thing imperfect camera...</td>\n",
              "      <td>['super', 'phone', 'prize', 'every', 'thing', ...</td>\n",
              "      <td>0.909267</td>\n",
              "      <td>0.872951</td>\n",
              "      <td>0.888725</td>\n",
              "      <td>0.959379</td>\n",
              "      <td>0.880897</td>\n",
              "    </tr>\n",
              "    <tr>\n",
              "      <th>4</th>\n",
              "      <td>This is the best phone in this price range whi...</td>\n",
              "      <td>1</td>\n",
              "      <td>good phone price range highquality camera proc...</td>\n",
              "      <td>['good', 'phone', 'price', 'range', 'highquali...</td>\n",
              "      <td>0.930133</td>\n",
              "      <td>0.901578</td>\n",
              "      <td>0.861556</td>\n",
              "      <td>0.930592</td>\n",
              "      <td>0.896418</td>\n",
              "    </tr>\n",
              "  </tbody>\n",
              "</table>\n",
              "</div>\n",
              "    <div class=\"colab-df-buttons\">\n",
              "\n",
              "  <div class=\"colab-df-container\">\n",
              "    <button class=\"colab-df-convert\" onclick=\"convertToInteractive('df-35af28d2-658f-4e84-a689-b288a37103eb')\"\n",
              "            title=\"Convert this dataframe to an interactive table.\"\n",
              "            style=\"display:none;\">\n",
              "\n",
              "  <svg xmlns=\"http://www.w3.org/2000/svg\" height=\"24px\" viewBox=\"0 -960 960 960\">\n",
              "    <path d=\"M120-120v-720h720v720H120Zm60-500h600v-160H180v160Zm220 220h160v-160H400v160Zm0 220h160v-160H400v160ZM180-400h160v-160H180v160Zm440 0h160v-160H620v160ZM180-180h160v-160H180v160Zm440 0h160v-160H620v160Z\"/>\n",
              "  </svg>\n",
              "    </button>\n",
              "\n",
              "  <style>\n",
              "    .colab-df-container {\n",
              "      display:flex;\n",
              "      gap: 12px;\n",
              "    }\n",
              "\n",
              "    .colab-df-convert {\n",
              "      background-color: #E8F0FE;\n",
              "      border: none;\n",
              "      border-radius: 50%;\n",
              "      cursor: pointer;\n",
              "      display: none;\n",
              "      fill: #1967D2;\n",
              "      height: 32px;\n",
              "      padding: 0 0 0 0;\n",
              "      width: 32px;\n",
              "    }\n",
              "\n",
              "    .colab-df-convert:hover {\n",
              "      background-color: #E2EBFA;\n",
              "      box-shadow: 0px 1px 2px rgba(60, 64, 67, 0.3), 0px 1px 3px 1px rgba(60, 64, 67, 0.15);\n",
              "      fill: #174EA6;\n",
              "    }\n",
              "\n",
              "    .colab-df-buttons div {\n",
              "      margin-bottom: 4px;\n",
              "    }\n",
              "\n",
              "    [theme=dark] .colab-df-convert {\n",
              "      background-color: #3B4455;\n",
              "      fill: #D2E3FC;\n",
              "    }\n",
              "\n",
              "    [theme=dark] .colab-df-convert:hover {\n",
              "      background-color: #434B5C;\n",
              "      box-shadow: 0px 1px 3px 1px rgba(0, 0, 0, 0.15);\n",
              "      filter: drop-shadow(0px 1px 2px rgba(0, 0, 0, 0.3));\n",
              "      fill: #FFFFFF;\n",
              "    }\n",
              "  </style>\n",
              "\n",
              "    <script>\n",
              "      const buttonEl =\n",
              "        document.querySelector('#df-35af28d2-658f-4e84-a689-b288a37103eb button.colab-df-convert');\n",
              "      buttonEl.style.display =\n",
              "        google.colab.kernel.accessAllowed ? 'block' : 'none';\n",
              "\n",
              "      async function convertToInteractive(key) {\n",
              "        const element = document.querySelector('#df-35af28d2-658f-4e84-a689-b288a37103eb');\n",
              "        const dataTable =\n",
              "          await google.colab.kernel.invokeFunction('convertToInteractive',\n",
              "                                                    [key], {});\n",
              "        if (!dataTable) return;\n",
              "\n",
              "        const docLinkHtml = 'Like what you see? Visit the ' +\n",
              "          '<a target=\"_blank\" href=https://colab.research.google.com/notebooks/data_table.ipynb>data table notebook</a>'\n",
              "          + ' to learn more about interactive tables.';\n",
              "        element.innerHTML = '';\n",
              "        dataTable['output_type'] = 'display_data';\n",
              "        await google.colab.output.renderOutput(dataTable, element);\n",
              "        const docLink = document.createElement('div');\n",
              "        docLink.innerHTML = docLinkHtml;\n",
              "        element.appendChild(docLink);\n",
              "      }\n",
              "    </script>\n",
              "  </div>\n",
              "\n",
              "\n",
              "<div id=\"df-bde397f6-da55-455c-b315-71357f2789a9\">\n",
              "  <button class=\"colab-df-quickchart\" onclick=\"quickchart('df-bde397f6-da55-455c-b315-71357f2789a9')\"\n",
              "            title=\"Suggest charts\"\n",
              "            style=\"display:none;\">\n",
              "\n",
              "<svg xmlns=\"http://www.w3.org/2000/svg\" height=\"24px\"viewBox=\"0 0 24 24\"\n",
              "     width=\"24px\">\n",
              "    <g>\n",
              "        <path d=\"M19 3H5c-1.1 0-2 .9-2 2v14c0 1.1.9 2 2 2h14c1.1 0 2-.9 2-2V5c0-1.1-.9-2-2-2zM9 17H7v-7h2v7zm4 0h-2V7h2v10zm4 0h-2v-4h2v4z\"/>\n",
              "    </g>\n",
              "</svg>\n",
              "  </button>\n",
              "\n",
              "<style>\n",
              "  .colab-df-quickchart {\n",
              "      --bg-color: #E8F0FE;\n",
              "      --fill-color: #1967D2;\n",
              "      --hover-bg-color: #E2EBFA;\n",
              "      --hover-fill-color: #174EA6;\n",
              "      --disabled-fill-color: #AAA;\n",
              "      --disabled-bg-color: #DDD;\n",
              "  }\n",
              "\n",
              "  [theme=dark] .colab-df-quickchart {\n",
              "      --bg-color: #3B4455;\n",
              "      --fill-color: #D2E3FC;\n",
              "      --hover-bg-color: #434B5C;\n",
              "      --hover-fill-color: #FFFFFF;\n",
              "      --disabled-bg-color: #3B4455;\n",
              "      --disabled-fill-color: #666;\n",
              "  }\n",
              "\n",
              "  .colab-df-quickchart {\n",
              "    background-color: var(--bg-color);\n",
              "    border: none;\n",
              "    border-radius: 50%;\n",
              "    cursor: pointer;\n",
              "    display: none;\n",
              "    fill: var(--fill-color);\n",
              "    height: 32px;\n",
              "    padding: 0;\n",
              "    width: 32px;\n",
              "  }\n",
              "\n",
              "  .colab-df-quickchart:hover {\n",
              "    background-color: var(--hover-bg-color);\n",
              "    box-shadow: 0 1px 2px rgba(60, 64, 67, 0.3), 0 1px 3px 1px rgba(60, 64, 67, 0.15);\n",
              "    fill: var(--button-hover-fill-color);\n",
              "  }\n",
              "\n",
              "  .colab-df-quickchart-complete:disabled,\n",
              "  .colab-df-quickchart-complete:disabled:hover {\n",
              "    background-color: var(--disabled-bg-color);\n",
              "    fill: var(--disabled-fill-color);\n",
              "    box-shadow: none;\n",
              "  }\n",
              "\n",
              "  .colab-df-spinner {\n",
              "    border: 2px solid var(--fill-color);\n",
              "    border-color: transparent;\n",
              "    border-bottom-color: var(--fill-color);\n",
              "    animation:\n",
              "      spin 1s steps(1) infinite;\n",
              "  }\n",
              "\n",
              "  @keyframes spin {\n",
              "    0% {\n",
              "      border-color: transparent;\n",
              "      border-bottom-color: var(--fill-color);\n",
              "      border-left-color: var(--fill-color);\n",
              "    }\n",
              "    20% {\n",
              "      border-color: transparent;\n",
              "      border-left-color: var(--fill-color);\n",
              "      border-top-color: var(--fill-color);\n",
              "    }\n",
              "    30% {\n",
              "      border-color: transparent;\n",
              "      border-left-color: var(--fill-color);\n",
              "      border-top-color: var(--fill-color);\n",
              "      border-right-color: var(--fill-color);\n",
              "    }\n",
              "    40% {\n",
              "      border-color: transparent;\n",
              "      border-right-color: var(--fill-color);\n",
              "      border-top-color: var(--fill-color);\n",
              "    }\n",
              "    60% {\n",
              "      border-color: transparent;\n",
              "      border-right-color: var(--fill-color);\n",
              "    }\n",
              "    80% {\n",
              "      border-color: transparent;\n",
              "      border-right-color: var(--fill-color);\n",
              "      border-bottom-color: var(--fill-color);\n",
              "    }\n",
              "    90% {\n",
              "      border-color: transparent;\n",
              "      border-bottom-color: var(--fill-color);\n",
              "    }\n",
              "  }\n",
              "</style>\n",
              "\n",
              "  <script>\n",
              "    async function quickchart(key) {\n",
              "      const quickchartButtonEl =\n",
              "        document.querySelector('#' + key + ' button');\n",
              "      quickchartButtonEl.disabled = true;  // To prevent multiple clicks.\n",
              "      quickchartButtonEl.classList.add('colab-df-spinner');\n",
              "      try {\n",
              "        const charts = await google.colab.kernel.invokeFunction(\n",
              "            'suggestCharts', [key], {});\n",
              "      } catch (error) {\n",
              "        console.error('Error during call to suggestCharts:', error);\n",
              "      }\n",
              "      quickchartButtonEl.classList.remove('colab-df-spinner');\n",
              "      quickchartButtonEl.classList.add('colab-df-quickchart-complete');\n",
              "    }\n",
              "    (() => {\n",
              "      let quickchartButtonEl =\n",
              "        document.querySelector('#df-bde397f6-da55-455c-b315-71357f2789a9 button');\n",
              "      quickchartButtonEl.style.display =\n",
              "        google.colab.kernel.accessAllowed ? 'block' : 'none';\n",
              "    })();\n",
              "  </script>\n",
              "</div>\n",
              "\n",
              "    </div>\n",
              "  </div>\n"
            ],
            "application/vnd.google.colaboratory.intrinsic+json": {
              "type": "dataframe",
              "variable_name": "df",
              "summary": "{\n  \"name\": \"df\",\n  \"rows\": 12326,\n  \"fields\": [\n    {\n      \"column\": \"review\",\n      \"properties\": {\n        \"dtype\": \"string\",\n        \"num_unique_values\": 9771,\n        \"samples\": [\n          \"Good  phone very  nice good  features  but no  earphone in this box it is a bad thing totaly a good one\",\n          \"AFTER LONG TIME I HAVE SEEN ALL ROUND MOBILE , BEFORE REDMI MOST SUCCES MOBILE WAS ITS REDMI NOTE 4 , N NOW NOTE 7 IS VERY IMPRESSIE AND GAME CHANGING IN FUTURE,NOW IN MARKET ALL COMPANY ARE THINKING ABOUT NOTE 7 N PLAN FOR FUTUR BUT ITs VERY HARD TO GIVE COMPUTATION.\",\n          \"nice and fabulous product . its battary backup is too much good . camera was fantastic. display is big and look beautiful..\"\n        ],\n        \"semantic_type\": \"\",\n        \"description\": \"\"\n      }\n    },\n    {\n      \"column\": \"y\",\n      \"properties\": {\n        \"dtype\": \"number\",\n        \"std\": 0,\n        \"min\": 0,\n        \"max\": 1,\n        \"num_unique_values\": 2,\n        \"samples\": [\n          0,\n          1\n        ],\n        \"semantic_type\": \"\",\n        \"description\": \"\"\n      }\n    },\n    {\n      \"column\": \"clean_review\",\n      \"properties\": {\n        \"dtype\": \"string\",\n        \"num_unique_values\": 9738,\n        \"samples\": [\n          \"one evil budget unfriendly smartphone never use great processor inside leave empty fledge snapdragon 660 help play pubg game low graphic setting I hate phone\",\n          \"I buy mobile mi4i 14th may I want give review mobile I try buy mobile I keep look review pro con I give comment people try buy mobile 1 shipping reach I two work day 2 mobile design I would rate 9103 mobile heating issue big issue concern I game play person I play asphalt 8 motal combat minion rush big game\"\n        ],\n        \"semantic_type\": \"\",\n        \"description\": \"\"\n      }\n    },\n    {\n      \"column\": \"clean_review2\",\n      \"properties\": {\n        \"dtype\": \"string\",\n        \"num_unique_values\": 9738,\n        \"samples\": [\n          \"['one', 'evil', 'budget', 'unfriendly', 'smartphone', 'never', 'use', 'great', 'processor', 'inside', 'leave', 'empty', 'fledge', 'snapdragon', '660', 'help', 'play', 'pubg', 'game', 'low', 'graphic', 'setting', 'i', 'hate', 'phone']\",\n          \"['i', 'buy', 'mobile', 'mi4i', '14th', 'may', 'i', 'want', 'give', 'review', 'mobile', 'i', 'try', 'buy', 'mobile', 'i', 'keep', 'look', 'review', 'pro', 'con', 'i', 'give', 'comment', 'people', 'try', 'buy', 'mobile', '1', 'shipping', 'reach', 'i', 'two', 'work', 'day', '2', 'mobile', 'design', 'i', 'would', 'rate', '9103', 'mobile', 'heating', 'issue', 'big', 'issue', 'concern', 'i', 'game', 'play', 'person', 'i', 'play', 'asphalt', '8', 'motal', 'combat', 'minion', 'rush', 'big', 'game']\"\n        ],\n        \"semantic_type\": \"\",\n        \"description\": \"\"\n      }\n    },\n    {\n      \"column\": \"phone\",\n      \"properties\": {\n        \"dtype\": \"number\",\n        \"std\": 0.021731452468187695,\n        \"min\": 0.7907455,\n        \"max\": 0.96221966,\n        \"num_unique_values\": 9661,\n        \"samples\": [\n          0.90863436,\n          0.9212046\n        ],\n        \"semantic_type\": \"\",\n        \"description\": \"\"\n      }\n    },\n    {\n      \"column\": \"camera\",\n      \"properties\": {\n        \"dtype\": \"number\",\n        \"std\": 0.02657638088525633,\n        \"min\": 0.70430607,\n        \"max\": 0.95502216,\n        \"num_unique_values\": 9666,\n        \"samples\": [\n          0.84323525,\n          0.86646575\n        ],\n        \"semantic_type\": \"\",\n        \"description\": \"\"\n      }\n    },\n    {\n      \"column\": \"battery\",\n      \"properties\": {\n        \"dtype\": \"number\",\n        \"std\": 0.020797640011325513,\n        \"min\": 0.7467751,\n        \"max\": 0.93688387,\n        \"num_unique_values\": 9661,\n        \"samples\": [\n          0.87476313,\n          0.88654774\n        ],\n        \"semantic_type\": \"\",\n        \"description\": \"\"\n      }\n    },\n    {\n      \"column\": \"delivery\",\n      \"properties\": {\n        \"dtype\": \"number\",\n        \"std\": 0.01595422075066133,\n        \"min\": 0.8286942,\n        \"max\": 0.989487,\n        \"num_unique_values\": 9656,\n        \"samples\": [\n          0.9037176,\n          0.89666355\n        ],\n        \"semantic_type\": \"\",\n        \"description\": \"\"\n      }\n    },\n    {\n      \"column\": \"processor\",\n      \"properties\": {\n        \"dtype\": \"number\",\n        \"std\": 0.026832523643896673,\n        \"min\": 0.6975686,\n        \"max\": 0.96248347,\n        \"num_unique_values\": 9665,\n        \"samples\": [\n          0.85678136,\n          0.80947554\n        ],\n        \"semantic_type\": \"\",\n        \"description\": \"\"\n      }\n    }\n  ]\n}"
            }
          },
          "metadata": {},
          "execution_count": 51
        }
      ]
    },
    {
      "cell_type": "code",
      "source": [
        "dataset = CustomDataset(df, \"clean_review\")"
      ],
      "metadata": {
        "execution": {
          "iopub.execute_input": "2022-07-05T06:59:52.78007Z",
          "iopub.status.busy": "2022-07-05T06:59:52.779469Z",
          "iopub.status.idle": "2022-07-05T06:59:52.900533Z",
          "shell.execute_reply": "2022-07-05T06:59:52.899626Z",
          "shell.execute_reply.started": "2022-07-05T06:59:52.780034Z"
        },
        "papermill": {
          "duration": 0.705869,
          "end_time": "2022-06-13T19:51:56.013355",
          "exception": false,
          "start_time": "2022-06-13T19:51:55.307486",
          "status": "completed"
        },
        "tags": [],
        "id": "63S_Vdh0tGa9"
      },
      "execution_count": 52,
      "outputs": []
    },
    {
      "cell_type": "code",
      "source": [
        "len(dataset.source_vocab.stoi)"
      ],
      "metadata": {
        "execution": {
          "iopub.execute_input": "2022-07-05T06:59:52.90282Z",
          "iopub.status.busy": "2022-07-05T06:59:52.902364Z",
          "iopub.status.idle": "2022-07-05T06:59:52.910418Z",
          "shell.execute_reply": "2022-07-05T06:59:52.909252Z",
          "shell.execute_reply.started": "2022-07-05T06:59:52.902775Z"
        },
        "papermill": {
          "duration": 0.60061,
          "end_time": "2022-06-13T19:51:57.211929",
          "exception": false,
          "start_time": "2022-06-13T19:51:56.611319",
          "status": "completed"
        },
        "tags": [],
        "id": "Xv-hwaSWtGa9",
        "colab": {
          "base_uri": "https://localhost:8080/"
        },
        "outputId": "9d1c892f-99c7-4b57-f286-2340b2b9a1d8"
      },
      "execution_count": 53,
      "outputs": [
        {
          "output_type": "execute_result",
          "data": {
            "text/plain": [
              "4808"
            ]
          },
          "metadata": {},
          "execution_count": 53
        }
      ]
    },
    {
      "cell_type": "markdown",
      "source": [
        "Saving the pytorch custom dataset"
      ],
      "metadata": {
        "papermill": {
          "duration": 0.588906,
          "end_time": "2022-06-13T19:51:58.397118",
          "exception": false,
          "start_time": "2022-06-13T19:51:57.808212",
          "status": "completed"
        },
        "tags": [],
        "id": "PEFrDOiFtGa9"
      }
    },
    {
      "cell_type": "code",
      "source": [
        "import pickle\n",
        "\n",
        "with open('dataset-new', 'wb') as dataset_file:\n",
        "\n",
        "  # Step 3\n",
        "    pickle.dump(dataset, dataset_file, pickle.HIGHEST_PROTOCOL)\n",
        "\n",
        "# import pickle\n",
        "\n",
        "# # Step 2\n",
        "# with open('./dataset', 'rb') as config_dictionary_file:\n",
        "\n",
        "#     # Step 3\n",
        "#     config_dictionary = pickle.load(config_dictionary_file)\n",
        "\n",
        "#     # After config_dictionary is read from file\n",
        "#     print(config_dictionary)"
      ],
      "metadata": {
        "execution": {
          "iopub.execute_input": "2022-07-05T06:59:52.913084Z",
          "iopub.status.busy": "2022-07-05T06:59:52.912367Z",
          "iopub.status.idle": "2022-07-05T06:59:52.976916Z",
          "shell.execute_reply": "2022-07-05T06:59:52.975941Z",
          "shell.execute_reply.started": "2022-07-05T06:59:52.913049Z"
        },
        "papermill": {
          "duration": 0.727998,
          "end_time": "2022-06-13T19:52:00.045456",
          "exception": false,
          "start_time": "2022-06-13T19:51:59.317458",
          "status": "completed"
        },
        "tags": [],
        "id": "cywaA_iitGa9"
      },
      "execution_count": 54,
      "outputs": []
    },
    {
      "cell_type": "markdown",
      "source": [
        "<h2  style=\"text-align: center\" class=\"list-group-item list-group-item-success\"> 6.3 Word Embeddings </h2><a id = \"6.3\" ></a>"
      ],
      "metadata": {
        "papermill": {
          "duration": 0.589077,
          "end_time": "2022-06-13T19:52:01.284709",
          "exception": false,
          "start_time": "2022-06-13T19:52:00.695632",
          "status": "completed"
        },
        "tags": [],
        "id": "CN-T-Dw1tGa-"
      }
    },
    {
      "cell_type": "markdown",
      "source": [
        "create an embedding layer for a PyTorch model that is initialized with pretrained word embeddings from our previous fasttext. This approach is particularly useful when we want to leverage the semantic information captured by these pretrained embeddings"
      ],
      "metadata": {
        "id": "ji-6nRVABOCW"
      }
    },
    {
      "cell_type": "code",
      "source": [
        "def get_emb_layer_with_weights(target_vocab, emb_model, trainable = False):\n",
        "\n",
        "    weights_matrix = np.zeros((len(target_vocab), config.EMB_DIM))\n",
        "    words_found = 0\n",
        "\n",
        "    for i, word in enumerate(target_vocab):\n",
        "        weights_matrix[i] = np.concatenate([emb_model.wv[word]])\n",
        "        words_found += 1\n",
        "\n",
        "    print(f\"Words found are : {words_found}\")\n",
        "\n",
        "    weights_matrix = torch.tensor(weights_matrix, dtype = torch.float32).reshape(len(target_vocab), config.EMB_DIM)\n",
        "    emb_layer = nn.Embedding.from_pretrained(weights_matrix)\n",
        "    print(emb_layer)\n",
        "    if trainable:\n",
        "        emb_layer.weight.requires_grad = True\n",
        "    else:\n",
        "        emb_layer.weight.requires_grad = False\n",
        "\n",
        "    return emb_layer"
      ],
      "metadata": {
        "execution": {
          "iopub.execute_input": "2022-07-05T06:59:52.978924Z",
          "iopub.status.busy": "2022-07-05T06:59:52.978548Z",
          "iopub.status.idle": "2022-07-05T06:59:52.986323Z",
          "shell.execute_reply": "2022-07-05T06:59:52.98544Z",
          "shell.execute_reply.started": "2022-07-05T06:59:52.978887Z"
        },
        "papermill": {
          "duration": 0.60305,
          "end_time": "2022-06-13T19:52:02.477997",
          "exception": false,
          "start_time": "2022-06-13T19:52:01.874947",
          "status": "completed"
        },
        "tags": [],
        "id": "N_PZXjYptGa-"
      },
      "execution_count": 55,
      "outputs": []
    },
    {
      "cell_type": "markdown",
      "source": [
        "takes care of padding sequences to a uniform length and preparing batches for processing by a neural network."
      ],
      "metadata": {
        "id": "2w_baCwOBaR2"
      }
    },
    {
      "cell_type": "code",
      "source": [
        "class MyCollate:\n",
        "    def __init__(self, pad_idx, maxlen):\n",
        "        self.pad_idx = pad_idx\n",
        "        self.maxlen = maxlen\n",
        "\n",
        "\n",
        "    #__call__: a default method\n",
        "    ##   First the obj is created using MyCollate(pad_idx) in data loader\n",
        "    ##   Then if obj(batch) is called -> __call__ runs by default\n",
        "    def __call__(self, batch):\n",
        "        #get all source indexed sentences of the batch\n",
        "        source = [item[0] for item in batch]\n",
        "        #pad them using pad_sequence method from pytorch.\n",
        "#         source = pad_sequence(source, batch_first=False, padding_value = self.pad_idx)\n",
        "\n",
        "        padded_sequence = torch.zeros((self.maxlen, len(batch)), dtype = torch.int)\n",
        "\n",
        "        for idx, text in enumerate(source):\n",
        "\n",
        "            if len(text) > self.maxlen:\n",
        "                padded_sequence[:, idx] = source[idx][: self.maxlen]\n",
        "            else:\n",
        "                padded_sequence[:len(source[idx]), idx] = padded_sequence[:len(source[idx]), idx] + source[idx]\n",
        "\n",
        "\n",
        "        #get all target indexed sentences of the batch\n",
        "        target = [item[1] for item in batch]\n",
        "\n",
        "        target = torch.tensor(target, dtype = torch.float32).reshape(-1)\n",
        "        return padded_sequence, target\n"
      ],
      "metadata": {
        "execution": {
          "iopub.execute_input": "2022-07-05T06:59:52.988413Z",
          "iopub.status.busy": "2022-07-05T06:59:52.987778Z",
          "iopub.status.idle": "2022-07-05T06:59:52.999526Z",
          "shell.execute_reply": "2022-07-05T06:59:52.998544Z",
          "shell.execute_reply.started": "2022-07-05T06:59:52.988378Z"
        },
        "papermill": {
          "duration": 0.600181,
          "end_time": "2022-06-13T19:52:03.674784",
          "exception": false,
          "start_time": "2022-06-13T19:52:03.074603",
          "status": "completed"
        },
        "tags": [],
        "id": "hCBYUQCctGa-"
      },
      "execution_count": 56,
      "outputs": []
    },
    {
      "cell_type": "markdown",
      "source": [
        "<h2  style=\"text-align: center\" class=\"list-group-item list-group-item-success\"> 6.4 Initializing the Model </h2><a id = \"6.4\" ></a>"
      ],
      "metadata": {
        "papermill": {
          "duration": 0.586643,
          "end_time": "2022-06-13T19:52:04.852157",
          "exception": false,
          "start_time": "2022-06-13T19:52:04.265514",
          "status": "completed"
        },
        "tags": [],
        "id": "SYPif4LftGa-"
      }
    },
    {
      "cell_type": "code",
      "source": [
        "class Model(nn.Module):\n",
        "    def __init__(self, input_dim, embedding_dim, hidden_dim, output_dim, embedding_layer):\n",
        "        super().__init__()\n",
        "#         self.embedding = nn.Embedding(input_dim, embedding_dim)\n",
        "        self.hidden_dim = hidden_dim\n",
        "        self.embedding = embedding_layer\n",
        "        self.lstm = nn.LSTM(embedding_dim, hidden_dim, bidirectional = True)\n",
        "        self.fc1 = nn.Linear(2*hidden_dim, 128)\n",
        "        self.fc2 = nn.Linear(128, output_dim)\n",
        "        self.dropout = nn.Dropout(0.3)\n",
        "        self.sigmoid = nn.Sigmoid()\n",
        "\n",
        "\n",
        "\n",
        "    def forward(self, text):\n",
        "\n",
        "        max_len, N = text.shape\n",
        "        hidden = torch.zeros((2, N , self.hidden_dim),\n",
        "                          dtype=torch.float)\n",
        "        memory = torch.zeros((2, N , self.hidden_dim),\n",
        "                          dtype=torch.float)\n",
        "        hidden = hidden.to(config.DEVICE)\n",
        "        memory = memory.to(config.DEVICE)\n",
        "        embedded = self.embedding(text)\n",
        "        output, hidden = self.lstm(embedded, (hidden, memory))\n",
        "#         assert torch.equal(output[-1,:,:], hidden.squeeze(0))\n",
        "        y_pred = output[-1,:,:]\n",
        "        y_pred = self.fc1(y_pred)\n",
        "        y_pred = self.fc2(y_pred)\n",
        "        y_pred = self.sigmoid(y_pred)\n",
        "\n",
        "        return y_pred"
      ],
      "metadata": {
        "execution": {
          "iopub.execute_input": "2022-07-05T06:59:53.002971Z",
          "iopub.status.busy": "2022-07-05T06:59:53.002715Z",
          "iopub.status.idle": "2022-07-05T06:59:53.01428Z",
          "shell.execute_reply": "2022-07-05T06:59:53.013265Z",
          "shell.execute_reply.started": "2022-07-05T06:59:53.002948Z"
        },
        "papermill": {
          "duration": 0.603882,
          "end_time": "2022-06-13T19:52:06.047365",
          "exception": false,
          "start_time": "2022-06-13T19:52:05.443483",
          "status": "completed"
        },
        "tags": [],
        "id": "r_7uQ04mtGa-"
      },
      "execution_count": 57,
      "outputs": []
    },
    {
      "cell_type": "markdown",
      "source": [
        " <h2  style=\"text-align: center\" class=\"list-group-item list-group-item-success\"> 6.5 Training and K-fold Cross Validation </h2><a id = \"6.5\" ></a>"
      ],
      "metadata": {
        "papermill": {
          "duration": 0.591235,
          "end_time": "2022-06-13T19:52:07.286142",
          "exception": false,
          "start_time": "2022-06-13T19:52:06.694907",
          "status": "completed"
        },
        "tags": [],
        "id": "l_GYKRHVtGa-"
      }
    },
    {
      "cell_type": "code",
      "source": [
        "def train_epochs(dataloader,model, loss_fn, optimizer):\n",
        "    train_correct = 0\n",
        "    train_loss = 0\n",
        "\n",
        "    model.train()\n",
        "\n",
        "    for review, label in tqdm(dataloader):\n",
        "\n",
        "        review, label = review.to(config.DEVICE), label.to(config.DEVICE)\n",
        "        optimizer.zero_grad()\n",
        "        output = model(review)\n",
        "        output = output.reshape(-1)\n",
        "        loss = loss_fn(output, label)\n",
        "        loss.backward()\n",
        "        optimizer.step()\n",
        "\n",
        "        train_loss += loss.item()*review.size(1)\n",
        "        prediction = (output > 0.5).float()\n",
        "        train_correct += (prediction == label).float().sum()\n",
        "\n",
        "    return train_loss, train_correct\n",
        "\n"
      ],
      "metadata": {
        "execution": {
          "iopub.execute_input": "2022-07-05T06:59:53.015933Z",
          "iopub.status.busy": "2022-07-05T06:59:53.015549Z",
          "iopub.status.idle": "2022-07-05T06:59:53.028739Z",
          "shell.execute_reply": "2022-07-05T06:59:53.027657Z",
          "shell.execute_reply.started": "2022-07-05T06:59:53.015896Z"
        },
        "papermill": {
          "duration": 0.600097,
          "end_time": "2022-06-13T19:52:08.477651",
          "exception": false,
          "start_time": "2022-06-13T19:52:07.877554",
          "status": "completed"
        },
        "tags": [],
        "id": "nIOKbSV8tGa-"
      },
      "execution_count": 58,
      "outputs": []
    },
    {
      "cell_type": "markdown",
      "source": [
        "calculates the total validation loss and the number of correctly predicted instances"
      ],
      "metadata": {
        "id": "ivPVKGW3Bpv5"
      }
    },
    {
      "cell_type": "code",
      "source": [
        "def val_epochs(dataloader, model, loss_fn):\n",
        "    val_correct = 0\n",
        "    val_loss = 0\n",
        "\n",
        "    model.eval()\n",
        "#     hidden = model.init_hidden(config.BATCH_SIZE)\n",
        "\n",
        "    for review, label in dataloader:\n",
        "\n",
        "        review, label = review.to(config.DEVICE), label.to(config.DEVICE)\n",
        "\n",
        "        output = model(review)\n",
        "        output = output.reshape(-1)\n",
        "\n",
        "        loss = loss_fn(output, label)\n",
        "\n",
        "        val_loss += loss.item()*review.size(1)\n",
        "        prediction = (output > 0.5).float()\n",
        "        val_correct += (prediction == label).float().sum()\n",
        "#         prediction =\n",
        "    return val_loss, val_correct\n",
        "\n"
      ],
      "metadata": {
        "execution": {
          "iopub.execute_input": "2022-07-05T06:59:53.030553Z",
          "iopub.status.busy": "2022-07-05T06:59:53.030033Z",
          "iopub.status.idle": "2022-07-05T06:59:53.039201Z",
          "shell.execute_reply": "2022-07-05T06:59:53.038048Z",
          "shell.execute_reply.started": "2022-07-05T06:59:53.030518Z"
        },
        "papermill": {
          "duration": 0.695426,
          "end_time": "2022-06-13T19:52:09.760229",
          "exception": false,
          "start_time": "2022-06-13T19:52:09.064803",
          "status": "completed"
        },
        "tags": [],
        "id": "J_D5gR7ctGa-"
      },
      "execution_count": 59,
      "outputs": []
    },
    {
      "cell_type": "code",
      "source": [
        "from sklearn.model_selection import StratifiedKFold\n",
        "from sklearn.model_selection import KFold\n",
        "from torch.utils.data import SubsetRandomSampler\n",
        "from torch.optim import Adam\n",
        "from tqdm import tqdm\n",
        "from torch.utils.data import DataLoader\n",
        "import matplotlib.pyplot as plt\n",
        "\n",
        "\n",
        "# sfk = StratifiedKFold(n_splits = config.FOLDS)\n",
        "kfold = KFold(n_splits = config.FOLDS)\n",
        "model_state_dicts = {}\n",
        "\n",
        "for fold, (train_idx, val_idx) in enumerate(kfold.split(np.arange(len(dataset)))):\n",
        "\n",
        "    train_sampler = SubsetRandomSampler(train_idx)\n",
        "    val_sampler = SubsetRandomSampler(val_idx)\n",
        "\n",
        "    train_loader = DataLoader(dataset, batch_size = config.BATCH_SIZE, sampler = train_sampler, collate_fn = MyCollate(0, config.MAX_LEN))\n",
        "    val_loader = DataLoader(dataset, batch_size = config.BATCH_SIZE, sampler = val_sampler, collate_fn = MyCollate(0, config.MAX_LEN))\n",
        "\n",
        "    VOCAB_SIZE = len(dataset.source_vocab)\n",
        "    HIDDEN_DIM = 128\n",
        "    OUTPUT_DIM = 1\n",
        "    VOCAB = list(dataset.source_vocab.stoi)\n",
        "\n",
        "    embedding_layer = get_emb_layer_with_weights(target_vocab = VOCAB, emb_model = fasttext_model, trainable = False)\n",
        "\n",
        "    model = Model(VOCAB_SIZE, config.EMB_DIM, HIDDEN_DIM, OUTPUT_DIM, embedding_layer)\n",
        "    model = model.to(config.DEVICE)\n",
        "\n",
        "#     model\n",
        "#     model = Model(2, len(dataset.source_vocab), 128, 100, 1 ).to(config.DEVICE)\n",
        "#     hidden = model.init_hidden(config.BATCH_SIZE)\n",
        "#     model.hidden = hidden\n",
        "\n",
        "    loss_fn = nn.BCELoss()\n",
        "    optimizer = torch.optim.SGD(model.parameters(), lr = 0.1)\n",
        "\n",
        "    train_losses = []\n",
        "    val_losses = []\n",
        "    train_accs = []\n",
        "    val_accs = []\n",
        "\n",
        "    print(f\"-----------------------------------------------------------{fold}-fold of the model-----------------------------------------------------------\")\n",
        "    for epoch in range(config.EPOCHS):\n",
        "        train_loss, train_correct = train_epochs(train_loader, model, loss_fn, optimizer)\n",
        "        val_loss, val_correct = val_epochs(val_loader, model, loss_fn)\n",
        "\n",
        "        train_loss = train_loss/len(train_loader.sampler)\n",
        "        val_loss = val_loss/len(val_loader.sampler)\n",
        "        train_acc = (train_correct/len(train_loader.sampler))*100\n",
        "        val_acc = (val_correct/len(val_loader.sampler))*100\n",
        "\n",
        "        train_losses.append(train_loss)\n",
        "        val_losses.append(val_loss)\n",
        "        train_accs.append(train_acc.cpu().numpy().tolist())\n",
        "        val_accs.append(val_acc.cpu().numpy().tolist())\n",
        "\n",
        "        print(f\"| Train Loss : {train_loss} |\", end = \" \")\n",
        "        print(f\" Val Loss : {val_loss} |\", end = \" \")\n",
        "        print(f\"Train Acc : {train_acc} |\", end = \" \")\n",
        "        print(f\"Val Acc : {val_acc} |\")\n",
        "\n",
        "\n",
        "    # Saving the state dicts for the model\n",
        "    model_state_dicts.update({f\"LSTM-Model-for-{fold}\" : model.state_dict(),\n",
        "                             f\"Model-Optimizer-for-{fold}\" : optimizer.state_dict()})\n",
        "\n",
        "#     # summarize history for accuracy\n",
        "#     plt.plot(train_accs)\n",
        "#     plt.plot(val_accs)\n",
        "#     plt.title('Model Accuracy')\n",
        "#     plt.ylabel('Accuracy')\n",
        "#     plt.xlabel('Epoch')\n",
        "#     plt.legend(['Train', 'Test'], loc='upper left')\n",
        "#     plt.show()\n",
        "#     # summarize history for loss\n",
        "#     plt.plot(train_losses)\n",
        "#     plt.plot(val_losses)\n",
        "#     plt.title('Model Loss')\n",
        "#     plt.ylabel('Loss')\n",
        "#     plt.xlabel('Epoch')\n",
        "#     plt.legend(['Train', 'Test'], loc='upper left')\n",
        "#     plt.show()"
      ],
      "metadata": {
        "execution": {
          "iopub.execute_input": "2022-07-05T06:59:53.041942Z",
          "iopub.status.busy": "2022-07-05T06:59:53.041156Z",
          "iopub.status.idle": "2022-07-05T07:03:41.867847Z",
          "shell.execute_reply": "2022-07-05T07:03:41.866401Z",
          "shell.execute_reply.started": "2022-07-05T06:59:53.041907Z"
        },
        "papermill": {
          "duration": 243.200633,
          "end_time": "2022-06-13T19:56:13.71979",
          "exception": false,
          "start_time": "2022-06-13T19:52:10.519157",
          "status": "completed"
        },
        "scrolled": true,
        "tags": [],
        "_kg_hide-output": true,
        "id": "ddFF6djYtGa-",
        "colab": {
          "base_uri": "https://localhost:8080/"
        },
        "outputId": "5edda084-6a11-4ab9-9563-a1d819edba58"
      },
      "execution_count": 60,
      "outputs": [
        {
          "output_type": "stream",
          "name": "stdout",
          "text": [
            "Words found are : 4808\n",
            "Embedding(4808, 100)\n",
            "-----------------------------------------------------------0-fold of the model-----------------------------------------------------------\n"
          ]
        },
        {
          "output_type": "stream",
          "name": "stderr",
          "text": [
            "100%|██████████| 309/309 [00:10<00:00, 28.14it/s]\n"
          ]
        },
        {
          "output_type": "stream",
          "name": "stdout",
          "text": [
            "| Train Loss : 0.6902937014252855 |  Val Loss : 0.6886428800039145 | Train Acc : 53.34685516357422 | Val Acc : 52.51419448852539 |\n"
          ]
        },
        {
          "output_type": "stream",
          "name": "stderr",
          "text": [
            "100%|██████████| 309/309 [00:10<00:00, 30.53it/s]\n"
          ]
        },
        {
          "output_type": "stream",
          "name": "stdout",
          "text": [
            "| Train Loss : 0.6600127167440573 |  Val Loss : 1.379133265577287 | Train Acc : 64.6551742553711 | Val Acc : 51.540958404541016 |\n"
          ]
        },
        {
          "output_type": "stream",
          "name": "stderr",
          "text": [
            "100%|██████████| 309/309 [00:10<00:00, 29.62it/s]\n"
          ]
        },
        {
          "output_type": "stream",
          "name": "stdout",
          "text": [
            "| Train Loss : 0.40072536495104283 |  Val Loss : 0.6925887399249606 | Train Acc : 82.45436096191406 | Val Acc : 68.45093536376953 |\n"
          ]
        },
        {
          "output_type": "stream",
          "name": "stderr",
          "text": [
            "100%|██████████| 309/309 [00:11<00:00, 27.78it/s]\n"
          ]
        },
        {
          "output_type": "stream",
          "name": "stdout",
          "text": [
            "| Train Loss : 0.2555114975807391 |  Val Loss : 1.4620614171704913 | Train Acc : 90.42596435546875 | Val Acc : 54.86618423461914 |\n"
          ]
        },
        {
          "output_type": "stream",
          "name": "stderr",
          "text": [
            "100%|██████████| 309/309 [00:11<00:00, 27.84it/s]\n"
          ]
        },
        {
          "output_type": "stream",
          "name": "stdout",
          "text": [
            "| Train Loss : 0.22551323404992812 |  Val Loss : 0.1857909042137431 | Train Acc : 91.41987609863281 | Val Acc : 92.86293029785156 |\n"
          ]
        },
        {
          "output_type": "stream",
          "name": "stderr",
          "text": [
            "100%|██████████| 309/309 [00:11<00:00, 27.64it/s]\n"
          ]
        },
        {
          "output_type": "stream",
          "name": "stdout",
          "text": [
            "| Train Loss : 0.1987286410394595 |  Val Loss : 0.20012954011595743 | Train Acc : 92.57606506347656 | Val Acc : 91.88969421386719 |\n"
          ]
        },
        {
          "output_type": "stream",
          "name": "stderr",
          "text": [
            "100%|██████████| 309/309 [00:11<00:00, 27.73it/s]\n"
          ]
        },
        {
          "output_type": "stream",
          "name": "stdout",
          "text": [
            "| Train Loss : 0.1893771380514783 |  Val Loss : 0.176860555850267 | Train Acc : 92.69776916503906 | Val Acc : 92.6601791381836 |\n"
          ]
        },
        {
          "output_type": "stream",
          "name": "stderr",
          "text": [
            "100%|██████████| 309/309 [00:11<00:00, 27.63it/s]\n"
          ]
        },
        {
          "output_type": "stream",
          "name": "stdout",
          "text": [
            "| Train Loss : 0.1829629059253793 |  Val Loss : 1.656160006299615 | Train Acc : 92.98174285888672 | Val Acc : 49.188968658447266 |\n"
          ]
        },
        {
          "output_type": "stream",
          "name": "stderr",
          "text": [
            "100%|██████████| 309/309 [00:10<00:00, 28.86it/s]\n"
          ]
        },
        {
          "output_type": "stream",
          "name": "stdout",
          "text": [
            "| Train Loss : 0.21640522349965863 |  Val Loss : 0.18247985199323438 | Train Acc : 91.72413635253906 | Val Acc : 93.02513885498047 |\n"
          ]
        },
        {
          "output_type": "stream",
          "name": "stderr",
          "text": [
            "100%|██████████| 309/309 [00:10<00:00, 30.89it/s]\n"
          ]
        },
        {
          "output_type": "stream",
          "name": "stdout",
          "text": [
            "| Train Loss : 0.1764809346489578 |  Val Loss : 0.15707339179631857 | Train Acc : 93.36714172363281 | Val Acc : 94.03892517089844 |\n"
          ]
        },
        {
          "output_type": "stream",
          "name": "stderr",
          "text": [
            "100%|██████████| 309/309 [00:10<00:00, 29.49it/s]\n"
          ]
        },
        {
          "output_type": "stream",
          "name": "stdout",
          "text": [
            "| Train Loss : 0.16456105601473223 |  Val Loss : 0.25684855966575726 | Train Acc : 93.71196746826172 | Val Acc : 89.78102111816406 |\n"
          ]
        },
        {
          "output_type": "stream",
          "name": "stderr",
          "text": [
            "100%|██████████| 309/309 [00:11<00:00, 27.75it/s]\n"
          ]
        },
        {
          "output_type": "stream",
          "name": "stdout",
          "text": [
            "| Train Loss : 0.1619799759820799 |  Val Loss : 0.1711862979574614 | Train Acc : 93.8843765258789 | Val Acc : 93.06568908691406 |\n"
          ]
        },
        {
          "output_type": "stream",
          "name": "stderr",
          "text": [
            "100%|██████████| 309/309 [00:11<00:00, 27.63it/s]\n"
          ]
        },
        {
          "output_type": "stream",
          "name": "stdout",
          "text": [
            "| Train Loss : 0.1567795250799061 |  Val Loss : 0.17529800456147174 | Train Acc : 94.14807891845703 | Val Acc : 92.61962890625 |\n"
          ]
        },
        {
          "output_type": "stream",
          "name": "stderr",
          "text": [
            "100%|██████████| 309/309 [00:11<00:00, 27.78it/s]\n"
          ]
        },
        {
          "output_type": "stream",
          "name": "stdout",
          "text": [
            "| Train Loss : 0.157955246779909 |  Val Loss : 0.16785521158723452 | Train Acc : 93.73224639892578 | Val Acc : 93.10624694824219 |\n"
          ]
        },
        {
          "output_type": "stream",
          "name": "stderr",
          "text": [
            "100%|██████████| 309/309 [00:11<00:00, 27.74it/s]\n"
          ]
        },
        {
          "output_type": "stream",
          "name": "stdout",
          "text": [
            "| Train Loss : 0.1508719839212347 |  Val Loss : 0.15365002184066942 | Train Acc : 94.1277847290039 | Val Acc : 93.75506591796875 |\n"
          ]
        },
        {
          "output_type": "stream",
          "name": "stderr",
          "text": [
            "100%|██████████| 309/309 [00:11<00:00, 27.97it/s]\n"
          ]
        },
        {
          "output_type": "stream",
          "name": "stdout",
          "text": [
            "| Train Loss : 0.15008999194806294 |  Val Loss : 0.14706877687309974 | Train Acc : 94.27992248535156 | Val Acc : 94.40389251708984 |\n"
          ]
        },
        {
          "output_type": "stream",
          "name": "stderr",
          "text": [
            "100%|██████████| 309/309 [00:10<00:00, 29.36it/s]\n"
          ]
        },
        {
          "output_type": "stream",
          "name": "stdout",
          "text": [
            "| Train Loss : 0.15014542838139175 |  Val Loss : 0.19712775205250677 | Train Acc : 94.1277847290039 | Val Acc : 93.10624694824219 |\n"
          ]
        },
        {
          "output_type": "stream",
          "name": "stderr",
          "text": [
            "100%|██████████| 309/309 [00:09<00:00, 31.43it/s]\n"
          ]
        },
        {
          "output_type": "stream",
          "name": "stdout",
          "text": [
            "| Train Loss : 0.14753471057990503 |  Val Loss : 0.7536616816524558 | Train Acc : 94.3914794921875 | Val Acc : 68.04541778564453 |\n"
          ]
        },
        {
          "output_type": "stream",
          "name": "stderr",
          "text": [
            "100%|██████████| 309/309 [00:10<00:00, 29.22it/s]\n"
          ]
        },
        {
          "output_type": "stream",
          "name": "stdout",
          "text": [
            "| Train Loss : 0.1492779294146002 |  Val Loss : 0.18829934833161927 | Train Acc : 94.27992248535156 | Val Acc : 91.9708023071289 |\n"
          ]
        },
        {
          "output_type": "stream",
          "name": "stderr",
          "text": [
            "100%|██████████| 309/309 [00:11<00:00, 27.73it/s]\n"
          ]
        },
        {
          "output_type": "stream",
          "name": "stdout",
          "text": [
            "| Train Loss : 0.14189650766045217 |  Val Loss : 0.1466174875291643 | Train Acc : 94.71602630615234 | Val Acc : 94.80941009521484 |\n"
          ]
        },
        {
          "output_type": "stream",
          "name": "stderr",
          "text": [
            "100%|██████████| 309/309 [00:11<00:00, 27.70it/s]\n"
          ]
        },
        {
          "output_type": "stream",
          "name": "stdout",
          "text": [
            "| Train Loss : 0.14340005223818772 |  Val Loss : 0.17150678235886616 | Train Acc : 94.66531372070312 | Val Acc : 93.71451568603516 |\n"
          ]
        },
        {
          "output_type": "stream",
          "name": "stderr",
          "text": [
            "100%|██████████| 309/309 [00:11<00:00, 27.74it/s]\n"
          ]
        },
        {
          "output_type": "stream",
          "name": "stdout",
          "text": [
            "| Train Loss : 0.14164599000682213 |  Val Loss : 0.3665696828870068 | Train Acc : 94.4928970336914 | Val Acc : 81.1435546875 |\n"
          ]
        },
        {
          "output_type": "stream",
          "name": "stderr",
          "text": [
            "100%|██████████| 309/309 [00:11<00:00, 27.70it/s]\n"
          ]
        },
        {
          "output_type": "stream",
          "name": "stdout",
          "text": [
            "| Train Loss : 0.14151054331182708 |  Val Loss : 0.15222376846218902 | Train Acc : 94.69573974609375 | Val Acc : 93.83617401123047 |\n"
          ]
        },
        {
          "output_type": "stream",
          "name": "stderr",
          "text": [
            "100%|██████████| 309/309 [00:11<00:00, 27.81it/s]\n"
          ]
        },
        {
          "output_type": "stream",
          "name": "stdout",
          "text": [
            "| Train Loss : 0.14096414417512035 |  Val Loss : 0.4148240021440531 | Train Acc : 94.68559265136719 | Val Acc : 86.00973510742188 |\n"
          ]
        },
        {
          "output_type": "stream",
          "name": "stderr",
          "text": [
            "100%|██████████| 309/309 [00:10<00:00, 29.68it/s]\n"
          ]
        },
        {
          "output_type": "stream",
          "name": "stdout",
          "text": [
            "| Train Loss : 0.138461077120344 |  Val Loss : 0.13810750274085845 | Train Acc : 94.71602630615234 | Val Acc : 94.84996032714844 |\n"
          ]
        },
        {
          "output_type": "stream",
          "name": "stderr",
          "text": [
            "100%|██████████| 309/309 [00:09<00:00, 30.90it/s]\n"
          ]
        },
        {
          "output_type": "stream",
          "name": "stdout",
          "text": [
            "| Train Loss : 0.13782120158113767 |  Val Loss : 0.27383988828602984 | Train Acc : 94.64502716064453 | Val Acc : 90.55149841308594 |\n"
          ]
        },
        {
          "output_type": "stream",
          "name": "stderr",
          "text": [
            "100%|██████████| 309/309 [00:10<00:00, 28.63it/s]\n"
          ]
        },
        {
          "output_type": "stream",
          "name": "stdout",
          "text": [
            "| Train Loss : 0.13714252563975524 |  Val Loss : 0.13797415508937758 | Train Acc : 94.62474822998047 | Val Acc : 94.52554321289062 |\n"
          ]
        },
        {
          "output_type": "stream",
          "name": "stderr",
          "text": [
            "100%|██████████| 309/309 [00:11<00:00, 27.52it/s]\n"
          ]
        },
        {
          "output_type": "stream",
          "name": "stdout",
          "text": [
            "| Train Loss : 0.13080622261242741 |  Val Loss : 0.13896016809796283 | Train Acc : 95.1217041015625 | Val Acc : 94.32279205322266 |\n"
          ]
        },
        {
          "output_type": "stream",
          "name": "stderr",
          "text": [
            "100%|██████████| 309/309 [00:11<00:00, 27.74it/s]\n"
          ]
        },
        {
          "output_type": "stream",
          "name": "stdout",
          "text": [
            "| Train Loss : 0.1312109871247961 |  Val Loss : 0.1406718589915363 | Train Acc : 94.79715728759766 | Val Acc : 94.68775177001953 |\n"
          ]
        },
        {
          "output_type": "stream",
          "name": "stderr",
          "text": [
            "100%|██████████| 309/309 [00:11<00:00, 27.81it/s]\n"
          ]
        },
        {
          "output_type": "stream",
          "name": "stdout",
          "text": [
            "| Train Loss : 0.13081599768401364 |  Val Loss : 0.14377954493634423 | Train Acc : 95.09127807617188 | Val Acc : 94.32279205322266 |\n",
            "Words found are : 4808\n",
            "Embedding(4808, 100)\n",
            "-----------------------------------------------------------1-fold of the model-----------------------------------------------------------\n"
          ]
        },
        {
          "output_type": "stream",
          "name": "stderr",
          "text": [
            "100%|██████████| 309/309 [00:11<00:00, 27.64it/s]\n"
          ]
        },
        {
          "output_type": "stream",
          "name": "stdout",
          "text": [
            "| Train Loss : 0.6906839687784839 |  Val Loss : 0.6884977766031184 | Train Acc : 54.50765609741211 | Val Acc : 51.07505416870117 |\n"
          ]
        },
        {
          "output_type": "stream",
          "name": "stderr",
          "text": [
            "100%|██████████| 309/309 [00:11<00:00, 27.30it/s]\n"
          ]
        },
        {
          "output_type": "stream",
          "name": "stdout",
          "text": [
            "| Train Loss : 0.6580715276774644 |  Val Loss : 0.40084199750641053 | Train Acc : 63.24916458129883 | Val Acc : 85.67951202392578 |\n"
          ]
        },
        {
          "output_type": "stream",
          "name": "stderr",
          "text": [
            "100%|██████████| 309/309 [00:10<00:00, 29.11it/s]\n"
          ]
        },
        {
          "output_type": "stream",
          "name": "stdout",
          "text": [
            "| Train Loss : 0.3985542569280384 |  Val Loss : 2.5025202940655946 | Train Acc : 83.3079833984375 | Val Acc : 49.290061950683594 |\n"
          ]
        },
        {
          "output_type": "stream",
          "name": "stderr",
          "text": [
            "100%|██████████| 309/309 [00:09<00:00, 31.29it/s]\n"
          ]
        },
        {
          "output_type": "stream",
          "name": "stdout",
          "text": [
            "| Train Loss : 0.2762204254994877 |  Val Loss : 0.18218529646891277 | Train Acc : 89.35199737548828 | Val Acc : 94.03651428222656 |\n"
          ]
        },
        {
          "output_type": "stream",
          "name": "stderr",
          "text": [
            "100%|██████████| 309/309 [00:10<00:00, 29.13it/s]\n"
          ]
        },
        {
          "output_type": "stream",
          "name": "stdout",
          "text": [
            "| Train Loss : 0.2190932809865302 |  Val Loss : 0.19193816998705238 | Train Acc : 91.87709045410156 | Val Acc : 92.21095275878906 |\n"
          ]
        },
        {
          "output_type": "stream",
          "name": "stderr",
          "text": [
            "100%|██████████| 309/309 [00:11<00:00, 27.60it/s]\n"
          ]
        },
        {
          "output_type": "stream",
          "name": "stdout",
          "text": [
            "| Train Loss : 0.19970099782181516 |  Val Loss : 0.1782316559136035 | Train Acc : 92.04948425292969 | Val Acc : 93.79310607910156 |\n"
          ]
        },
        {
          "output_type": "stream",
          "name": "stderr",
          "text": [
            "100%|██████████| 309/309 [00:11<00:00, 27.64it/s]\n"
          ]
        },
        {
          "output_type": "stream",
          "name": "stdout",
          "text": [
            "| Train Loss : 0.19957867419505268 |  Val Loss : 0.17029969258192346 | Train Acc : 92.06977081298828 | Val Acc : 93.91481018066406 |\n"
          ]
        },
        {
          "output_type": "stream",
          "name": "stderr",
          "text": [
            "100%|██████████| 309/309 [00:11<00:00, 27.74it/s]\n"
          ]
        },
        {
          "output_type": "stream",
          "name": "stdout",
          "text": [
            "| Train Loss : 0.17953762217741107 |  Val Loss : 0.24292302082120829 | Train Acc : 92.93175506591797 | Val Acc : 89.7363052368164 |\n"
          ]
        },
        {
          "output_type": "stream",
          "name": "stderr",
          "text": [
            "100%|██████████| 309/309 [00:11<00:00, 27.77it/s]\n"
          ]
        },
        {
          "output_type": "stream",
          "name": "stdout",
          "text": [
            "| Train Loss : 0.17516971978451198 |  Val Loss : 0.5535795777612961 | Train Acc : 93.0838623046875 | Val Acc : 80.64909362792969 |\n"
          ]
        },
        {
          "output_type": "stream",
          "name": "stderr",
          "text": [
            "100%|██████████| 309/309 [00:11<00:00, 27.74it/s]\n"
          ]
        },
        {
          "output_type": "stream",
          "name": "stdout",
          "text": [
            "| Train Loss : 0.1738971303644099 |  Val Loss : 0.1686436870918868 | Train Acc : 93.2359848022461 | Val Acc : 93.3874282836914 |\n"
          ]
        },
        {
          "output_type": "stream",
          "name": "stderr",
          "text": [
            "100%|██████████| 309/309 [00:10<00:00, 28.96it/s]\n"
          ]
        },
        {
          "output_type": "stream",
          "name": "stdout",
          "text": [
            "| Train Loss : 0.1629030267043016 |  Val Loss : 0.1974560148394374 | Train Acc : 93.49964141845703 | Val Acc : 92.69776916503906 |\n"
          ]
        },
        {
          "output_type": "stream",
          "name": "stderr",
          "text": [
            "100%|██████████| 309/309 [00:09<00:00, 31.38it/s]\n"
          ]
        },
        {
          "output_type": "stream",
          "name": "stdout",
          "text": [
            "| Train Loss : 0.15616522560604637 |  Val Loss : 0.4897181541241449 | Train Acc : 93.8647232055664 | Val Acc : 84.17850494384766 |\n"
          ]
        },
        {
          "output_type": "stream",
          "name": "stderr",
          "text": [
            "100%|██████████| 309/309 [00:10<00:00, 29.03it/s]\n"
          ]
        },
        {
          "output_type": "stream",
          "name": "stdout",
          "text": [
            "| Train Loss : 0.15435530655573376 |  Val Loss : 0.6677531620544244 | Train Acc : 93.95598602294922 | Val Acc : 63.56998062133789 |\n"
          ]
        },
        {
          "output_type": "stream",
          "name": "stderr",
          "text": [
            "100%|██████████| 309/309 [00:11<00:00, 27.66it/s]\n"
          ]
        },
        {
          "output_type": "stream",
          "name": "stdout",
          "text": [
            "| Train Loss : 0.15909243632784578 |  Val Loss : 0.17797978352641963 | Train Acc : 93.6517562866211 | Val Acc : 93.63082885742188 |\n"
          ]
        },
        {
          "output_type": "stream",
          "name": "stderr",
          "text": [
            "100%|██████████| 309/309 [00:11<00:00, 26.32it/s]\n"
          ]
        },
        {
          "output_type": "stream",
          "name": "stdout",
          "text": [
            "| Train Loss : 0.15182241270236083 |  Val Loss : 0.16811160588005092 | Train Acc : 94.12837982177734 | Val Acc : 93.87423706054688 |\n"
          ]
        },
        {
          "output_type": "stream",
          "name": "stderr",
          "text": [
            "100%|██████████| 309/309 [00:11<00:00, 27.67it/s]\n"
          ]
        },
        {
          "output_type": "stream",
          "name": "stdout",
          "text": [
            "| Train Loss : 0.1530293493687762 |  Val Loss : 0.1786948250549511 | Train Acc : 94.0573959350586 | Val Acc : 93.79310607910156 |\n"
          ]
        },
        {
          "output_type": "stream",
          "name": "stderr",
          "text": [
            "100%|██████████| 309/309 [00:11<00:00, 27.78it/s]\n"
          ]
        },
        {
          "output_type": "stream",
          "name": "stdout",
          "text": [
            "| Train Loss : 0.15102358997741183 |  Val Loss : 0.16873608330617948 | Train Acc : 94.25007629394531 | Val Acc : 93.95537567138672 |\n"
          ]
        },
        {
          "output_type": "stream",
          "name": "stderr",
          "text": [
            "100%|██████████| 309/309 [00:11<00:00, 27.53it/s]\n"
          ]
        },
        {
          "output_type": "stream",
          "name": "stdout",
          "text": [
            "| Train Loss : 0.14645582858664596 |  Val Loss : 0.1618616258706633 | Train Acc : 94.42247009277344 | Val Acc : 94.15821075439453 |\n"
          ]
        },
        {
          "output_type": "stream",
          "name": "stderr",
          "text": [
            "100%|██████████| 309/309 [00:10<00:00, 28.17it/s]\n"
          ]
        },
        {
          "output_type": "stream",
          "name": "stdout",
          "text": [
            "| Train Loss : 0.14325396529669066 |  Val Loss : 0.17366319122709123 | Train Acc : 94.26021575927734 | Val Acc : 93.26571655273438 |\n"
          ]
        },
        {
          "output_type": "stream",
          "name": "stderr",
          "text": [
            "100%|██████████| 309/309 [00:10<00:00, 30.44it/s]\n"
          ]
        },
        {
          "output_type": "stream",
          "name": "stdout",
          "text": [
            "| Train Loss : 0.141430798964098 |  Val Loss : 0.16384475102787932 | Train Acc : 94.2703628540039 | Val Acc : 93.79310607910156 |\n"
          ]
        },
        {
          "output_type": "stream",
          "name": "stderr",
          "text": [
            "100%|██████████| 309/309 [00:10<00:00, 29.98it/s]\n"
          ]
        },
        {
          "output_type": "stream",
          "name": "stdout",
          "text": [
            "| Train Loss : 0.14251954488259047 |  Val Loss : 0.17651888860326306 | Train Acc : 94.42247009277344 | Val Acc : 93.18458557128906 |\n"
          ]
        },
        {
          "output_type": "stream",
          "name": "stderr",
          "text": [
            "100%|██████████| 309/309 [00:11<00:00, 27.98it/s]\n"
          ]
        },
        {
          "output_type": "stream",
          "name": "stdout",
          "text": [
            "| Train Loss : 0.1390497654959017 |  Val Loss : 0.1927534969640673 | Train Acc : 94.58472442626953 | Val Acc : 92.69776916503906 |\n"
          ]
        },
        {
          "output_type": "stream",
          "name": "stderr",
          "text": [
            "100%|██████████| 309/309 [00:11<00:00, 27.67it/s]\n"
          ]
        },
        {
          "output_type": "stream",
          "name": "stdout",
          "text": [
            "| Train Loss : 0.13579598196734288 |  Val Loss : 0.16362317839652038 | Train Acc : 94.64556884765625 | Val Acc : 93.99594116210938 |\n"
          ]
        },
        {
          "output_type": "stream",
          "name": "stderr",
          "text": [
            "100%|██████████| 309/309 [00:11<00:00, 27.64it/s]\n"
          ]
        },
        {
          "output_type": "stream",
          "name": "stdout",
          "text": [
            "| Train Loss : 0.13468766904254434 |  Val Loss : 0.16442746458335214 | Train Acc : 94.71656036376953 | Val Acc : 93.71196746826172 |\n"
          ]
        },
        {
          "output_type": "stream",
          "name": "stderr",
          "text": [
            "100%|██████████| 309/309 [00:11<00:00, 27.59it/s]\n"
          ]
        },
        {
          "output_type": "stream",
          "name": "stdout",
          "text": [
            "| Train Loss : 0.13545085426887288 |  Val Loss : 0.15551825998158292 | Train Acc : 94.64556884765625 | Val Acc : 93.99594116210938 |\n"
          ]
        },
        {
          "output_type": "stream",
          "name": "stderr",
          "text": [
            "100%|██████████| 309/309 [00:11<00:00, 27.53it/s]\n"
          ]
        },
        {
          "output_type": "stream",
          "name": "stdout",
          "text": [
            "| Train Loss : 0.13207516133709313 |  Val Loss : 0.16278956053480054 | Train Acc : 94.84839630126953 | Val Acc : 93.75253295898438 |\n"
          ]
        },
        {
          "output_type": "stream",
          "name": "stderr",
          "text": [
            "100%|██████████| 309/309 [00:11<00:00, 26.71it/s]\n"
          ]
        },
        {
          "output_type": "stream",
          "name": "stdout",
          "text": [
            "| Train Loss : 0.13018823339862715 |  Val Loss : 0.1634668929438139 | Train Acc : 95.02079010009766 | Val Acc : 94.19878387451172 |\n"
          ]
        },
        {
          "output_type": "stream",
          "name": "stderr",
          "text": [
            "100%|██████████| 309/309 [00:10<00:00, 30.25it/s]\n"
          ]
        },
        {
          "output_type": "stream",
          "name": "stdout",
          "text": [
            "| Train Loss : 0.13177598665142842 |  Val Loss : 0.20928070978478777 | Train Acc : 94.94979858398438 | Val Acc : 91.72413635253906 |\n"
          ]
        },
        {
          "output_type": "stream",
          "name": "stderr",
          "text": [
            "100%|██████████| 309/309 [00:10<00:00, 29.84it/s]\n"
          ]
        },
        {
          "output_type": "stream",
          "name": "stdout",
          "text": [
            "| Train Loss : 0.1299779840881316 |  Val Loss : 0.15687255780184245 | Train Acc : 95.02079010009766 | Val Acc : 94.03651428222656 |\n"
          ]
        },
        {
          "output_type": "stream",
          "name": "stderr",
          "text": [
            "100%|██████████| 309/309 [00:10<00:00, 28.11it/s]\n"
          ]
        },
        {
          "output_type": "stream",
          "name": "stdout",
          "text": [
            "| Train Loss : 0.12757927838109615 |  Val Loss : 0.18759353240955673 | Train Acc : 95.06134796142578 | Val Acc : 93.3874282836914 |\n",
            "Words found are : 4808\n",
            "Embedding(4808, 100)\n",
            "-----------------------------------------------------------2-fold of the model-----------------------------------------------------------\n"
          ]
        },
        {
          "output_type": "stream",
          "name": "stderr",
          "text": [
            "100%|██████████| 309/309 [00:11<00:00, 27.57it/s]\n"
          ]
        },
        {
          "output_type": "stream",
          "name": "stdout",
          "text": [
            "| Train Loss : 0.6912897562668756 |  Val Loss : 0.687416344578803 | Train Acc : 53.57468795776367 | Val Acc : 61.582149505615234 |\n"
          ]
        },
        {
          "output_type": "stream",
          "name": "stderr",
          "text": [
            "100%|██████████| 309/309 [00:11<00:00, 27.33it/s]\n"
          ]
        },
        {
          "output_type": "stream",
          "name": "stdout",
          "text": [
            "| Train Loss : 0.6737027679455835 |  Val Loss : 0.6024465887590064 | Train Acc : 62.245208740234375 | Val Acc : 73.3874282836914 |\n"
          ]
        },
        {
          "output_type": "stream",
          "name": "stderr",
          "text": [
            "100%|██████████| 309/309 [00:11<00:00, 27.31it/s]\n"
          ]
        },
        {
          "output_type": "stream",
          "name": "stdout",
          "text": [
            "| Train Loss : 0.4448193136159504 |  Val Loss : 0.2065066059027434 | Train Acc : 80.51921844482422 | Val Acc : 94.19878387451172 |\n"
          ]
        },
        {
          "output_type": "stream",
          "name": "stderr",
          "text": [
            "100%|██████████| 309/309 [00:11<00:00, 27.50it/s]\n"
          ]
        },
        {
          "output_type": "stream",
          "name": "stdout",
          "text": [
            "| Train Loss : 0.27489526803424774 |  Val Loss : 0.17172313037783693 | Train Acc : 89.43312072753906 | Val Acc : 93.83367156982422 |\n"
          ]
        },
        {
          "output_type": "stream",
          "name": "stderr",
          "text": [
            "100%|██████████| 309/309 [00:11<00:00, 27.37it/s]\n"
          ]
        },
        {
          "output_type": "stream",
          "name": "stdout",
          "text": [
            "| Train Loss : 0.22858397502007488 |  Val Loss : 0.200372120145799 | Train Acc : 91.25849151611328 | Val Acc : 93.18458557128906 |\n"
          ]
        },
        {
          "output_type": "stream",
          "name": "stderr",
          "text": [
            "100%|██████████| 309/309 [00:10<00:00, 29.28it/s]\n"
          ]
        },
        {
          "output_type": "stream",
          "name": "stdout",
          "text": [
            "| Train Loss : 0.20251044875201438 |  Val Loss : 0.2158388325170015 | Train Acc : 91.97850036621094 | Val Acc : 92.4137954711914 |\n"
          ]
        },
        {
          "output_type": "stream",
          "name": "stderr",
          "text": [
            "100%|██████████| 309/309 [00:09<00:00, 30.93it/s]\n"
          ]
        },
        {
          "output_type": "stream",
          "name": "stdout",
          "text": [
            "| Train Loss : 0.18782763969050786 |  Val Loss : 0.3482068332732026 | Train Acc : 92.63766479492188 | Val Acc : 82.0689697265625 |\n"
          ]
        },
        {
          "output_type": "stream",
          "name": "stderr",
          "text": [
            "100%|██████████| 309/309 [00:10<00:00, 28.66it/s]\n"
          ]
        },
        {
          "output_type": "stream",
          "name": "stdout",
          "text": [
            "| Train Loss : 0.18440826035164853 |  Val Loss : 0.321880593382079 | Train Acc : 92.67822265625 | Val Acc : 84.30020141601562 |\n"
          ]
        },
        {
          "output_type": "stream",
          "name": "stderr",
          "text": [
            "100%|██████████| 309/309 [00:11<00:00, 27.49it/s]\n"
          ]
        },
        {
          "output_type": "stream",
          "name": "stdout",
          "text": [
            "| Train Loss : 0.17020148117593525 |  Val Loss : 0.15800447426585226 | Train Acc : 93.25626373291016 | Val Acc : 94.11764526367188 |\n"
          ]
        },
        {
          "output_type": "stream",
          "name": "stderr",
          "text": [
            "100%|██████████| 309/309 [00:11<00:00, 27.43it/s]\n"
          ]
        },
        {
          "output_type": "stream",
          "name": "stdout",
          "text": [
            "| Train Loss : 0.17433692049981223 |  Val Loss : 0.15368146864927806 | Train Acc : 93.1954116821289 | Val Acc : 93.87423706054688 |\n"
          ]
        },
        {
          "output_type": "stream",
          "name": "stderr",
          "text": [
            "100%|██████████| 309/309 [00:11<00:00, 27.34it/s]\n"
          ]
        },
        {
          "output_type": "stream",
          "name": "stdout",
          "text": [
            "| Train Loss : 0.20026471445048125 |  Val Loss : 0.6645007811501834 | Train Acc : 91.86695098876953 | Val Acc : 66.45030212402344 |\n"
          ]
        },
        {
          "output_type": "stream",
          "name": "stderr",
          "text": [
            "100%|██████████| 309/309 [00:11<00:00, 27.50it/s]\n"
          ]
        },
        {
          "output_type": "stream",
          "name": "stdout",
          "text": [
            "| Train Loss : 0.2970139073107296 |  Val Loss : 0.17888677297027794 | Train Acc : 88.45958709716797 | Val Acc : 93.46855926513672 |\n"
          ]
        },
        {
          "output_type": "stream",
          "name": "stderr",
          "text": [
            "100%|██████████| 309/309 [00:11<00:00, 27.53it/s]\n"
          ]
        },
        {
          "output_type": "stream",
          "name": "stdout",
          "text": [
            "| Train Loss : 0.18842249976911368 |  Val Loss : 0.17574034578659956 | Train Acc : 92.8303451538086 | Val Acc : 92.98174285888672 |\n"
          ]
        },
        {
          "output_type": "stream",
          "name": "stderr",
          "text": [
            "100%|██████████| 309/309 [00:10<00:00, 28.78it/s]\n"
          ]
        },
        {
          "output_type": "stream",
          "name": "stdout",
          "text": [
            "| Train Loss : 0.17372390614260938 |  Val Loss : 0.19093724715223057 | Train Acc : 93.56049346923828 | Val Acc : 92.9006118774414 |\n"
          ]
        },
        {
          "output_type": "stream",
          "name": "stderr",
          "text": [
            "100%|██████████| 309/309 [00:09<00:00, 31.13it/s]\n"
          ]
        },
        {
          "output_type": "stream",
          "name": "stdout",
          "text": [
            "| Train Loss : 0.16996951315779799 |  Val Loss : 0.17112456479092822 | Train Acc : 93.41851806640625 | Val Acc : 93.42799377441406 |\n"
          ]
        },
        {
          "output_type": "stream",
          "name": "stderr",
          "text": [
            "100%|██████████| 309/309 [00:10<00:00, 29.08it/s]\n"
          ]
        },
        {
          "output_type": "stream",
          "name": "stdout",
          "text": [
            "| Train Loss : 0.16173166082846127 |  Val Loss : 0.2991999169641588 | Train Acc : 93.77344512939453 | Val Acc : 87.78904724121094 |\n"
          ]
        },
        {
          "output_type": "stream",
          "name": "stderr",
          "text": [
            "100%|██████████| 309/309 [00:11<00:00, 27.76it/s]\n"
          ]
        },
        {
          "output_type": "stream",
          "name": "stdout",
          "text": [
            "| Train Loss : 0.15983018443863334 |  Val Loss : 0.1965790280593374 | Train Acc : 93.96612548828125 | Val Acc : 92.77890014648438 |\n"
          ]
        },
        {
          "output_type": "stream",
          "name": "stderr",
          "text": [
            "100%|██████████| 309/309 [00:11<00:00, 27.61it/s]\n"
          ]
        },
        {
          "output_type": "stream",
          "name": "stdout",
          "text": [
            "| Train Loss : 0.15248911271861354 |  Val Loss : 0.14387269393780833 | Train Acc : 94.1892318725586 | Val Acc : 94.56389617919922 |\n"
          ]
        },
        {
          "output_type": "stream",
          "name": "stderr",
          "text": [
            "100%|██████████| 309/309 [00:11<00:00, 27.62it/s]\n"
          ]
        },
        {
          "output_type": "stream",
          "name": "stdout",
          "text": [
            "| Train Loss : 0.1506320760001603 |  Val Loss : 0.23976346994677 | Train Acc : 94.14866638183594 | Val Acc : 90.8316421508789 |\n"
          ]
        },
        {
          "output_type": "stream",
          "name": "stderr",
          "text": [
            "100%|██████████| 309/309 [00:11<00:00, 27.46it/s]\n"
          ]
        },
        {
          "output_type": "stream",
          "name": "stdout",
          "text": [
            "| Train Loss : 0.14611399553972318 |  Val Loss : 0.21137986989152519 | Train Acc : 94.39205169677734 | Val Acc : 93.06288146972656 |\n"
          ]
        },
        {
          "output_type": "stream",
          "name": "stderr",
          "text": [
            "100%|██████████| 309/309 [00:11<00:00, 27.47it/s]\n"
          ]
        },
        {
          "output_type": "stream",
          "name": "stdout",
          "text": [
            "| Train Loss : 0.14706860652542686 |  Val Loss : 0.142249110588921 | Train Acc : 94.4326171875 | Val Acc : 94.40161895751953 |\n"
          ]
        },
        {
          "output_type": "stream",
          "name": "stderr",
          "text": [
            "100%|██████████| 309/309 [00:10<00:00, 28.58it/s]\n"
          ]
        },
        {
          "output_type": "stream",
          "name": "stdout",
          "text": [
            "| Train Loss : 0.14295772157515774 |  Val Loss : 0.14271201712228584 | Train Acc : 94.56444549560547 | Val Acc : 94.64502716064453 |\n"
          ]
        },
        {
          "output_type": "stream",
          "name": "stderr",
          "text": [
            "100%|██████████| 309/309 [00:10<00:00, 30.74it/s]\n"
          ]
        },
        {
          "output_type": "stream",
          "name": "stdout",
          "text": [
            "| Train Loss : 0.1423099654696556 |  Val Loss : 0.139930882043362 | Train Acc : 94.38191223144531 | Val Acc : 94.32048797607422 |\n"
          ]
        },
        {
          "output_type": "stream",
          "name": "stderr",
          "text": [
            "100%|██████████| 309/309 [00:10<00:00, 29.13it/s]\n"
          ]
        },
        {
          "output_type": "stream",
          "name": "stdout",
          "text": [
            "| Train Loss : 0.14063006630111644 |  Val Loss : 0.14106977812900504 | Train Acc : 94.53401947021484 | Val Acc : 94.60446166992188 |\n"
          ]
        },
        {
          "output_type": "stream",
          "name": "stderr",
          "text": [
            "100%|██████████| 309/309 [00:11<00:00, 27.27it/s]\n"
          ]
        },
        {
          "output_type": "stream",
          "name": "stdout",
          "text": [
            "| Train Loss : 0.1375973012225434 |  Val Loss : 0.13957274165646782 | Train Acc : 94.75711822509766 | Val Acc : 94.52333068847656 |\n"
          ]
        },
        {
          "output_type": "stream",
          "name": "stderr",
          "text": [
            "100%|██████████| 309/309 [00:11<00:00, 27.39it/s]\n"
          ]
        },
        {
          "output_type": "stream",
          "name": "stdout",
          "text": [
            "| Train Loss : 0.13619264036012027 |  Val Loss : 0.156220709452024 | Train Acc : 94.83824920654297 | Val Acc : 94.48275756835938 |\n"
          ]
        },
        {
          "output_type": "stream",
          "name": "stderr",
          "text": [
            "100%|██████████| 309/309 [00:11<00:00, 27.44it/s]\n"
          ]
        },
        {
          "output_type": "stream",
          "name": "stdout",
          "text": [
            "| Train Loss : 0.13510393814852725 |  Val Loss : 0.14226705989311356 | Train Acc : 94.90924072265625 | Val Acc : 94.44219207763672 |\n"
          ]
        },
        {
          "output_type": "stream",
          "name": "stderr",
          "text": [
            "100%|██████████| 309/309 [00:11<00:00, 27.67it/s]\n"
          ]
        },
        {
          "output_type": "stream",
          "name": "stdout",
          "text": [
            "| Train Loss : 0.13540465313349637 |  Val Loss : 0.1403487017336651 | Train Acc : 94.77740478515625 | Val Acc : 94.56389617919922 |\n"
          ]
        },
        {
          "output_type": "stream",
          "name": "stderr",
          "text": [
            "100%|██████████| 309/309 [00:11<00:00, 27.62it/s]\n"
          ]
        },
        {
          "output_type": "stream",
          "name": "stdout",
          "text": [
            "| Train Loss : 0.13245802240848734 |  Val Loss : 0.14687930396314083 | Train Acc : 94.97008514404297 | Val Acc : 94.56389617919922 |\n"
          ]
        },
        {
          "output_type": "stream",
          "name": "stderr",
          "text": [
            "100%|██████████| 309/309 [00:10<00:00, 28.23it/s]\n"
          ]
        },
        {
          "output_type": "stream",
          "name": "stdout",
          "text": [
            "| Train Loss : 0.1319042666333646 |  Val Loss : 0.2133701152945576 | Train Acc : 94.97008514404297 | Val Acc : 91.39958953857422 |\n",
            "Words found are : 4808\n",
            "Embedding(4808, 100)\n",
            "-----------------------------------------------------------3-fold of the model-----------------------------------------------------------\n"
          ]
        },
        {
          "output_type": "stream",
          "name": "stderr",
          "text": [
            "100%|██████████| 309/309 [00:10<00:00, 30.27it/s]\n"
          ]
        },
        {
          "output_type": "stream",
          "name": "stdout",
          "text": [
            "| Train Loss : 0.6907832524244786 |  Val Loss : 0.6886452274438576 | Train Acc : 53.58483123779297 | Val Acc : 49.046653747558594 |\n"
          ]
        },
        {
          "output_type": "stream",
          "name": "stderr",
          "text": [
            "100%|██████████| 309/309 [00:10<00:00, 29.65it/s]\n"
          ]
        },
        {
          "output_type": "stream",
          "name": "stdout",
          "text": [
            "| Train Loss : 0.6693988858644044 |  Val Loss : 0.5539235061370819 | Train Acc : 61.89027404785156 | Val Acc : 76.14604187011719 |\n"
          ]
        },
        {
          "output_type": "stream",
          "name": "stderr",
          "text": [
            "100%|██████████| 309/309 [00:11<00:00, 27.78it/s]\n"
          ]
        },
        {
          "output_type": "stream",
          "name": "stdout",
          "text": [
            "| Train Loss : 0.440214093951736 |  Val Loss : 0.6978164449273694 | Train Acc : 81.0262680053711 | Val Acc : 67.13996124267578 |\n"
          ]
        },
        {
          "output_type": "stream",
          "name": "stderr",
          "text": [
            "100%|██████████| 309/309 [00:11<00:00, 27.62it/s]\n"
          ]
        },
        {
          "output_type": "stream",
          "name": "stdout",
          "text": [
            "| Train Loss : 0.2703387759548089 |  Val Loss : 0.846586086783883 | Train Acc : 89.6663589477539 | Val Acc : 67.26166534423828 |\n"
          ]
        },
        {
          "output_type": "stream",
          "name": "stderr",
          "text": [
            "100%|██████████| 309/309 [00:11<00:00, 27.54it/s]\n"
          ]
        },
        {
          "output_type": "stream",
          "name": "stdout",
          "text": [
            "| Train Loss : 0.22850460250861093 |  Val Loss : 0.15758117413333414 | Train Acc : 91.05567169189453 | Val Acc : 94.27992248535156 |\n"
          ]
        },
        {
          "output_type": "stream",
          "name": "stderr",
          "text": [
            "100%|██████████| 309/309 [00:11<00:00, 27.55it/s]\n"
          ]
        },
        {
          "output_type": "stream",
          "name": "stdout",
          "text": [
            "| Train Loss : 0.20687535049063405 |  Val Loss : 0.15584202335389902 | Train Acc : 92.10018920898438 | Val Acc : 94.64502716064453 |\n"
          ]
        },
        {
          "output_type": "stream",
          "name": "stderr",
          "text": [
            "100%|██████████| 309/309 [00:11<00:00, 26.11it/s]\n"
          ]
        },
        {
          "output_type": "stream",
          "name": "stdout",
          "text": [
            "| Train Loss : 0.18932738217592524 |  Val Loss : 0.14784030203403373 | Train Acc : 92.68836975097656 | Val Acc : 94.19878387451172 |\n"
          ]
        },
        {
          "output_type": "stream",
          "name": "stderr",
          "text": [
            "100%|██████████| 309/309 [00:11<00:00, 27.67it/s]\n"
          ]
        },
        {
          "output_type": "stream",
          "name": "stdout",
          "text": [
            "| Train Loss : 0.181336500039616 |  Val Loss : 0.16004009648522788 | Train Acc : 92.91146850585938 | Val Acc : 94.36105346679688 |\n"
          ]
        },
        {
          "output_type": "stream",
          "name": "stderr",
          "text": [
            "100%|██████████| 309/309 [00:10<00:00, 29.39it/s]\n"
          ]
        },
        {
          "output_type": "stream",
          "name": "stdout",
          "text": [
            "| Train Loss : 0.177938923703622 |  Val Loss : 0.14792337986068238 | Train Acc : 93.16499328613281 | Val Acc : 94.19878387451172 |\n"
          ]
        },
        {
          "output_type": "stream",
          "name": "stderr",
          "text": [
            "100%|██████████| 309/309 [00:10<00:00, 30.75it/s]\n"
          ]
        },
        {
          "output_type": "stream",
          "name": "stdout",
          "text": [
            "| Train Loss : 0.17318209553935104 |  Val Loss : 0.191206679799883 | Train Acc : 93.36781311035156 | Val Acc : 93.1440200805664 |\n"
          ]
        },
        {
          "output_type": "stream",
          "name": "stderr",
          "text": [
            "100%|██████████| 309/309 [00:10<00:00, 28.62it/s]\n"
          ]
        },
        {
          "output_type": "stream",
          "name": "stdout",
          "text": [
            "| Train Loss : 0.17343436981305888 |  Val Loss : 0.14473706046176005 | Train Acc : 92.96217346191406 | Val Acc : 94.40161895751953 |\n"
          ]
        },
        {
          "output_type": "stream",
          "name": "stderr",
          "text": [
            "100%|██████████| 309/309 [00:11<00:00, 27.41it/s]\n"
          ]
        },
        {
          "output_type": "stream",
          "name": "stdout",
          "text": [
            "| Train Loss : 0.16763250816501235 |  Val Loss : 0.14459440655152467 | Train Acc : 93.61119079589844 | Val Acc : 94.03651428222656 |\n"
          ]
        },
        {
          "output_type": "stream",
          "name": "stderr",
          "text": [
            "100%|██████████| 309/309 [00:11<00:00, 27.50it/s]\n"
          ]
        },
        {
          "output_type": "stream",
          "name": "stdout",
          "text": [
            "| Train Loss : 0.15799397940375043 |  Val Loss : 0.18873392883725992 | Train Acc : 94.0573959350586 | Val Acc : 91.76470947265625 |\n"
          ]
        },
        {
          "output_type": "stream",
          "name": "stderr",
          "text": [
            "100%|██████████| 309/309 [00:11<00:00, 27.58it/s]\n"
          ]
        },
        {
          "output_type": "stream",
          "name": "stdout",
          "text": [
            "| Train Loss : 0.16047736465018222 |  Val Loss : 0.18313159306682872 | Train Acc : 93.83429718017578 | Val Acc : 93.06288146972656 |\n"
          ]
        },
        {
          "output_type": "stream",
          "name": "stderr",
          "text": [
            "100%|██████████| 309/309 [00:11<00:00, 27.52it/s]\n"
          ]
        },
        {
          "output_type": "stream",
          "name": "stdout",
          "text": [
            "| Train Loss : 0.17304687125967405 |  Val Loss : 1.3465761662496756 | Train Acc : 93.41851806640625 | Val Acc : 54.52332305908203 |\n"
          ]
        },
        {
          "output_type": "stream",
          "name": "stderr",
          "text": [
            "100%|██████████| 309/309 [00:11<00:00, 27.62it/s]\n"
          ]
        },
        {
          "output_type": "stream",
          "name": "stdout",
          "text": [
            "| Train Loss : 0.21459557910276686 |  Val Loss : 0.17298546667242873 | Train Acc : 91.80610656738281 | Val Acc : 92.94117736816406 |\n"
          ]
        },
        {
          "output_type": "stream",
          "name": "stderr",
          "text": [
            "100%|██████████| 309/309 [00:10<00:00, 29.18it/s]\n"
          ]
        },
        {
          "output_type": "stream",
          "name": "stdout",
          "text": [
            "| Train Loss : 0.1662851325905404 |  Val Loss : 0.2536099744788522 | Train Acc : 93.621337890625 | Val Acc : 89.57403564453125 |\n"
          ]
        },
        {
          "output_type": "stream",
          "name": "stderr",
          "text": [
            "100%|██████████| 309/309 [00:09<00:00, 31.05it/s]\n"
          ]
        },
        {
          "output_type": "stream",
          "name": "stdout",
          "text": [
            "| Train Loss : 0.15632010883933214 |  Val Loss : 0.13815538480190245 | Train Acc : 94.11824035644531 | Val Acc : 94.68559265136719 |\n"
          ]
        },
        {
          "output_type": "stream",
          "name": "stderr",
          "text": [
            "100%|██████████| 309/309 [00:10<00:00, 29.01it/s]\n"
          ]
        },
        {
          "output_type": "stream",
          "name": "stdout",
          "text": [
            "| Train Loss : 0.15622890798126432 |  Val Loss : 0.14061558391997103 | Train Acc : 94.12837982177734 | Val Acc : 94.96957397460938 |\n"
          ]
        },
        {
          "output_type": "stream",
          "name": "stderr",
          "text": [
            "100%|██████████| 309/309 [00:11<00:00, 27.58it/s]\n"
          ]
        },
        {
          "output_type": "stream",
          "name": "stdout",
          "text": [
            "| Train Loss : 0.15200376738194893 |  Val Loss : 0.7197469457014394 | Train Acc : 94.07768249511719 | Val Acc : 65.11155700683594 |\n"
          ]
        },
        {
          "output_type": "stream",
          "name": "stderr",
          "text": [
            "100%|██████████| 309/309 [00:11<00:00, 27.64it/s]\n"
          ]
        },
        {
          "output_type": "stream",
          "name": "stdout",
          "text": [
            "| Train Loss : 0.1525041725104581 |  Val Loss : 0.16332432115658302 | Train Acc : 93.81401824951172 | Val Acc : 94.44219207763672 |\n"
          ]
        },
        {
          "output_type": "stream",
          "name": "stderr",
          "text": [
            "100%|██████████| 309/309 [00:11<00:00, 27.52it/s]\n"
          ]
        },
        {
          "output_type": "stream",
          "name": "stdout",
          "text": [
            "| Train Loss : 0.14707430792790543 |  Val Loss : 0.1866123473324622 | Train Acc : 94.28050231933594 | Val Acc : 92.73833465576172 |\n"
          ]
        },
        {
          "output_type": "stream",
          "name": "stderr",
          "text": [
            "100%|██████████| 309/309 [00:11<00:00, 27.67it/s]\n"
          ]
        },
        {
          "output_type": "stream",
          "name": "stdout",
          "text": [
            "| Train Loss : 0.14690513467379712 |  Val Loss : 0.14090266247670985 | Train Acc : 94.25007629394531 | Val Acc : 93.87423706054688 |\n"
          ]
        },
        {
          "output_type": "stream",
          "name": "stderr",
          "text": [
            "100%|██████████| 309/309 [00:11<00:00, 27.54it/s]\n"
          ]
        },
        {
          "output_type": "stream",
          "name": "stdout",
          "text": [
            "| Train Loss : 0.14070821603222353 |  Val Loss : 0.15795615685132708 | Train Acc : 94.62529754638672 | Val Acc : 93.63082885742188 |\n"
          ]
        },
        {
          "output_type": "stream",
          "name": "stderr",
          "text": [
            "100%|██████████| 309/309 [00:10<00:00, 29.20it/s]\n"
          ]
        },
        {
          "output_type": "stream",
          "name": "stdout",
          "text": [
            "| Train Loss : 0.14249360124878915 |  Val Loss : 0.14538573957920645 | Train Acc : 94.61515045166016 | Val Acc : 93.99594116210938 |\n"
          ]
        },
        {
          "output_type": "stream",
          "name": "stderr",
          "text": [
            "100%|██████████| 309/309 [00:09<00:00, 31.15it/s]\n"
          ]
        },
        {
          "output_type": "stream",
          "name": "stdout",
          "text": [
            "| Train Loss : 0.1423770824666198 |  Val Loss : 0.1508363047718594 | Train Acc : 94.58472442626953 | Val Acc : 93.67140197753906 |\n"
          ]
        },
        {
          "output_type": "stream",
          "name": "stderr",
          "text": [
            "100%|██████████| 309/309 [00:11<00:00, 27.69it/s]\n"
          ]
        },
        {
          "output_type": "stream",
          "name": "stdout",
          "text": [
            "| Train Loss : 0.13907667793897935 |  Val Loss : 0.1375778676271481 | Train Acc : 94.69627380371094 | Val Acc : 94.96957397460938 |\n"
          ]
        },
        {
          "output_type": "stream",
          "name": "stderr",
          "text": [
            "100%|██████████| 309/309 [00:11<00:00, 27.62it/s]\n"
          ]
        },
        {
          "output_type": "stream",
          "name": "stdout",
          "text": [
            "| Train Loss : 0.138496315214228 |  Val Loss : 0.13115763731950678 | Train Acc : 94.5745849609375 | Val Acc : 94.84786987304688 |\n"
          ]
        },
        {
          "output_type": "stream",
          "name": "stderr",
          "text": [
            "100%|██████████| 309/309 [00:11<00:00, 27.59it/s]\n"
          ]
        },
        {
          "output_type": "stream",
          "name": "stdout",
          "text": [
            "| Train Loss : 0.13801188019291585 |  Val Loss : 0.13142205188967077 | Train Acc : 94.8686752319336 | Val Acc : 94.80730438232422 |\n"
          ]
        },
        {
          "output_type": "stream",
          "name": "stderr",
          "text": [
            "100%|██████████| 309/309 [00:11<00:00, 27.61it/s]\n"
          ]
        },
        {
          "output_type": "stream",
          "name": "stdout",
          "text": [
            "| Train Loss : 0.1363220982226729 |  Val Loss : 0.1313079434539556 | Train Acc : 94.80783081054688 | Val Acc : 94.96957397460938 |\n",
            "Words found are : 4808\n",
            "Embedding(4808, 100)\n",
            "-----------------------------------------------------------4-fold of the model-----------------------------------------------------------\n"
          ]
        },
        {
          "output_type": "stream",
          "name": "stderr",
          "text": [
            "100%|██████████| 309/309 [00:11<00:00, 27.60it/s]\n"
          ]
        },
        {
          "output_type": "stream",
          "name": "stdout",
          "text": [
            "| Train Loss : 0.6911548577001982 |  Val Loss : 0.6876109206168695 | Train Acc : 52.651859283447266 | Val Acc : 52.77890396118164 |\n"
          ]
        },
        {
          "output_type": "stream",
          "name": "stderr",
          "text": [
            "100%|██████████| 309/309 [00:11<00:00, 27.40it/s]\n"
          ]
        },
        {
          "output_type": "stream",
          "name": "stdout",
          "text": [
            "| Train Loss : 0.6743600447017587 |  Val Loss : 0.6265811671833479 | Train Acc : 61.22097396850586 | Val Acc : 70.30426025390625 |\n"
          ]
        },
        {
          "output_type": "stream",
          "name": "stderr",
          "text": [
            "100%|██████████| 309/309 [00:10<00:00, 28.60it/s]\n"
          ]
        },
        {
          "output_type": "stream",
          "name": "stdout",
          "text": [
            "| Train Loss : 0.4282818848735456 |  Val Loss : 0.684238060879659 | Train Acc : 81.10739135742188 | Val Acc : 68.11358642578125 |\n"
          ]
        },
        {
          "output_type": "stream",
          "name": "stderr",
          "text": [
            "100%|██████████| 309/309 [00:10<00:00, 30.61it/s]\n"
          ]
        },
        {
          "output_type": "stream",
          "name": "stdout",
          "text": [
            "| Train Loss : 0.2622801862716004 |  Val Loss : 0.23032262229623224 | Train Acc : 89.6866455078125 | Val Acc : 91.03448486328125 |\n"
          ]
        },
        {
          "output_type": "stream",
          "name": "stderr",
          "text": [
            "100%|██████████| 309/309 [00:10<00:00, 29.08it/s]\n"
          ]
        },
        {
          "output_type": "stream",
          "name": "stdout",
          "text": [
            "| Train Loss : 0.23170697569677862 |  Val Loss : 0.4342333251395042 | Train Acc : 91.05567169189453 | Val Acc : 82.67748260498047 |\n"
          ]
        },
        {
          "output_type": "stream",
          "name": "stderr",
          "text": [
            "100%|██████████| 309/309 [00:11<00:00, 27.45it/s]\n"
          ]
        },
        {
          "output_type": "stream",
          "name": "stdout",
          "text": [
            "| Train Loss : 0.20028705463522092 |  Val Loss : 1.076980977706445 | Train Acc : 92.09004974365234 | Val Acc : 62.51521301269531 |\n"
          ]
        },
        {
          "output_type": "stream",
          "name": "stderr",
          "text": [
            "100%|██████████| 309/309 [00:11<00:00, 27.60it/s]\n"
          ]
        },
        {
          "output_type": "stream",
          "name": "stdout",
          "text": [
            "| Train Loss : 0.18528808286303428 |  Val Loss : 0.8639120592064136 | Train Acc : 93.01287841796875 | Val Acc : 68.51927185058594 |\n"
          ]
        },
        {
          "output_type": "stream",
          "name": "stderr",
          "text": [
            "100%|██████████| 309/309 [00:11<00:00, 27.76it/s]\n"
          ]
        },
        {
          "output_type": "stream",
          "name": "stdout",
          "text": [
            "| Train Loss : 0.17916686155167183 |  Val Loss : 0.5957103418216533 | Train Acc : 93.2359848022461 | Val Acc : 75.90263366699219 |\n"
          ]
        },
        {
          "output_type": "stream",
          "name": "stderr",
          "text": [
            "100%|██████████| 309/309 [00:11<00:00, 27.50it/s]\n"
          ]
        },
        {
          "output_type": "stream",
          "name": "stdout",
          "text": [
            "| Train Loss : 0.17905510014838977 |  Val Loss : 0.2534836248258548 | Train Acc : 93.00273895263672 | Val Acc : 89.53346252441406 |\n"
          ]
        },
        {
          "output_type": "stream",
          "name": "stderr",
          "text": [
            "100%|██████████| 309/309 [00:11<00:00, 27.47it/s]\n"
          ]
        },
        {
          "output_type": "stream",
          "name": "stdout",
          "text": [
            "| Train Loss : 0.16948485468971283 |  Val Loss : 0.2200969202477961 | Train Acc : 93.51992797851562 | Val Acc : 92.45436096191406 |\n"
          ]
        },
        {
          "output_type": "stream",
          "name": "stderr",
          "text": [
            "100%|██████████| 309/309 [00:10<00:00, 28.31it/s]\n"
          ]
        },
        {
          "output_type": "stream",
          "name": "stdout",
          "text": [
            "| Train Loss : 0.16412440290899913 |  Val Loss : 0.16161877959437715 | Train Acc : 93.74302673339844 | Val Acc : 93.87423706054688 |\n"
          ]
        },
        {
          "output_type": "stream",
          "name": "stderr",
          "text": [
            "100%|██████████| 309/309 [00:10<00:00, 30.61it/s]\n"
          ]
        },
        {
          "output_type": "stream",
          "name": "stdout",
          "text": [
            "| Train Loss : 0.16017915118754292 |  Val Loss : 0.18472651249982236 | Train Acc : 93.90528106689453 | Val Acc : 93.54969787597656 |\n"
          ]
        },
        {
          "output_type": "stream",
          "name": "stderr",
          "text": [
            "100%|██████████| 309/309 [00:10<00:00, 29.56it/s]\n"
          ]
        },
        {
          "output_type": "stream",
          "name": "stdout",
          "text": [
            "| Train Loss : 0.1600240820314444 |  Val Loss : 0.5560698172576257 | Train Acc : 94.0066909790039 | Val Acc : 79.51318359375 |\n"
          ]
        },
        {
          "output_type": "stream",
          "name": "stderr",
          "text": [
            "100%|██████████| 309/309 [00:11<00:00, 27.65it/s]\n"
          ]
        },
        {
          "output_type": "stream",
          "name": "stdout",
          "text": [
            "| Train Loss : 0.15520595832641054 |  Val Loss : 0.15929726342808523 | Train Acc : 93.93570709228516 | Val Acc : 94.19878387451172 |\n"
          ]
        },
        {
          "output_type": "stream",
          "name": "stderr",
          "text": [
            "100%|██████████| 309/309 [00:11<00:00, 27.66it/s]\n"
          ]
        },
        {
          "output_type": "stream",
          "name": "stdout",
          "text": [
            "| Train Loss : 0.15101060567745003 |  Val Loss : 0.22002412496667362 | Train Acc : 94.09796142578125 | Val Acc : 90.8316421508789 |\n"
          ]
        },
        {
          "output_type": "stream",
          "name": "stderr",
          "text": [
            "100%|██████████| 309/309 [00:11<00:00, 27.59it/s]\n"
          ]
        },
        {
          "output_type": "stream",
          "name": "stdout",
          "text": [
            "| Train Loss : 0.15733804724418815 |  Val Loss : 0.15901480540935456 | Train Acc : 94.0066909790039 | Val Acc : 93.83367156982422 |\n"
          ]
        },
        {
          "output_type": "stream",
          "name": "stderr",
          "text": [
            "100%|██████████| 309/309 [00:11<00:00, 27.60it/s]\n"
          ]
        },
        {
          "output_type": "stream",
          "name": "stdout",
          "text": [
            "| Train Loss : 0.14577061365490848 |  Val Loss : 0.19470908126130732 | Train Acc : 94.39205169677734 | Val Acc : 93.22515106201172 |\n"
          ]
        },
        {
          "output_type": "stream",
          "name": "stderr",
          "text": [
            "100%|██████████| 309/309 [00:11<00:00, 27.66it/s]\n"
          ]
        },
        {
          "output_type": "stream",
          "name": "stdout",
          "text": [
            "| Train Loss : 0.14260936773548066 |  Val Loss : 0.16489973151055118 | Train Acc : 94.39205169677734 | Val Acc : 93.99594116210938 |\n"
          ]
        },
        {
          "output_type": "stream",
          "name": "stderr",
          "text": [
            "100%|██████████| 309/309 [00:10<00:00, 28.59it/s]\n"
          ]
        },
        {
          "output_type": "stream",
          "name": "stdout",
          "text": [
            "| Train Loss : 0.14128540641709522 |  Val Loss : 0.15275998859671955 | Train Acc : 94.61515045166016 | Val Acc : 94.36105346679688 |\n"
          ]
        },
        {
          "output_type": "stream",
          "name": "stderr",
          "text": [
            "100%|██████████| 309/309 [00:10<00:00, 30.49it/s]\n"
          ]
        },
        {
          "output_type": "stream",
          "name": "stdout",
          "text": [
            "| Train Loss : 0.14273306184237028 |  Val Loss : 0.1508485665677104 | Train Acc : 94.33120727539062 | Val Acc : 94.52333068847656 |\n"
          ]
        },
        {
          "output_type": "stream",
          "name": "stderr",
          "text": [
            "100%|██████████| 309/309 [00:10<00:00, 29.45it/s]\n"
          ]
        },
        {
          "output_type": "stream",
          "name": "stdout",
          "text": [
            "| Train Loss : 0.1391789112374188 |  Val Loss : 0.15952124865253364 | Train Acc : 94.55430603027344 | Val Acc : 93.67140197753906 |\n"
          ]
        },
        {
          "output_type": "stream",
          "name": "stderr",
          "text": [
            "100%|██████████| 309/309 [00:11<00:00, 27.54it/s]\n"
          ]
        },
        {
          "output_type": "stream",
          "name": "stdout",
          "text": [
            "| Train Loss : 0.13787860021217274 |  Val Loss : 0.1851873290442633 | Train Acc : 94.5745849609375 | Val Acc : 93.71196746826172 |\n"
          ]
        },
        {
          "output_type": "stream",
          "name": "stderr",
          "text": [
            "100%|██████████| 309/309 [00:11<00:00, 27.49it/s]\n"
          ]
        },
        {
          "output_type": "stream",
          "name": "stdout",
          "text": [
            "| Train Loss : 0.13917063714439784 |  Val Loss : 0.16102914053032413 | Train Acc : 94.68614196777344 | Val Acc : 94.11764526367188 |\n"
          ]
        },
        {
          "output_type": "stream",
          "name": "stderr",
          "text": [
            "100%|██████████| 309/309 [00:11<00:00, 27.55it/s]\n"
          ]
        },
        {
          "output_type": "stream",
          "name": "stdout",
          "text": [
            "| Train Loss : 0.13555778364234686 |  Val Loss : 0.160154372260766 | Train Acc : 94.74698638916016 | Val Acc : 94.40161895751953 |\n"
          ]
        },
        {
          "output_type": "stream",
          "name": "stderr",
          "text": [
            "100%|██████████| 309/309 [00:11<00:00, 27.73it/s]\n"
          ]
        },
        {
          "output_type": "stream",
          "name": "stdout",
          "text": [
            "| Train Loss : 0.13427625576274269 |  Val Loss : 0.16251293641168427 | Train Acc : 94.78754425048828 | Val Acc : 93.54969787597656 |\n"
          ]
        },
        {
          "output_type": "stream",
          "name": "stderr",
          "text": [
            "100%|██████████| 309/309 [00:11<00:00, 27.54it/s]\n"
          ]
        },
        {
          "output_type": "stream",
          "name": "stdout",
          "text": [
            "| Train Loss : 0.13265408858964398 |  Val Loss : 0.15611886511468018 | Train Acc : 95.03092956542969 | Val Acc : 94.19878387451172 |\n"
          ]
        },
        {
          "output_type": "stream",
          "name": "stderr",
          "text": [
            "100%|██████████| 309/309 [00:10<00:00, 28.59it/s]\n"
          ]
        },
        {
          "output_type": "stream",
          "name": "stdout",
          "text": [
            "| Train Loss : 0.13294751582359907 |  Val Loss : 0.26559978433361403 | Train Acc : 94.85853576660156 | Val Acc : 87.54563903808594 |\n"
          ]
        },
        {
          "output_type": "stream",
          "name": "stderr",
          "text": [
            "100%|██████████| 309/309 [00:10<00:00, 30.54it/s]\n"
          ]
        },
        {
          "output_type": "stream",
          "name": "stdout",
          "text": [
            "| Train Loss : 0.1342687845753706 |  Val Loss : 0.16233687356586543 | Train Acc : 94.72669982910156 | Val Acc : 94.03651428222656 |\n"
          ]
        },
        {
          "output_type": "stream",
          "name": "stderr",
          "text": [
            "100%|██████████| 309/309 [00:11<00:00, 27.95it/s]\n"
          ]
        },
        {
          "output_type": "stream",
          "name": "stdout",
          "text": [
            "| Train Loss : 0.1289015904736862 |  Val Loss : 0.19515375549702868 | Train Acc : 94.93965911865234 | Val Acc : 94.03651428222656 |\n"
          ]
        },
        {
          "output_type": "stream",
          "name": "stderr",
          "text": [
            "100%|██████████| 309/309 [00:10<00:00, 28.12it/s]\n"
          ]
        },
        {
          "output_type": "stream",
          "name": "stdout",
          "text": [
            "| Train Loss : 0.13065833290371145 |  Val Loss : 0.16567381830049138 | Train Acc : 94.94979858398438 | Val Acc : 93.75253295898438 |\n"
          ]
        }
      ]
    },
    {
      "cell_type": "code",
      "source": [
        "torch.save(model_state_dicts, \"My-Model.pt\")"
      ],
      "metadata": {
        "execution": {
          "iopub.execute_input": "2022-07-05T07:03:41.870898Z",
          "iopub.status.busy": "2022-07-05T07:03:41.870138Z",
          "iopub.status.idle": "2022-07-05T07:03:41.902875Z",
          "shell.execute_reply": "2022-07-05T07:03:41.901792Z",
          "shell.execute_reply.started": "2022-07-05T07:03:41.870857Z"
        },
        "papermill": {
          "duration": 1.378123,
          "end_time": "2022-06-13T19:56:16.431307",
          "exception": false,
          "start_time": "2022-06-13T19:56:15.053184",
          "status": "completed"
        },
        "tags": [],
        "id": "7mrlhN-YtGa-"
      },
      "execution_count": 61,
      "outputs": []
    },
    {
      "cell_type": "markdown",
      "source": [
        "<h1  style=\"text-align: center\" class=\"list-group-item list-group-item-action active\">7. Inference</h1><a id = \"7\" ></a>"
      ],
      "metadata": {
        "papermill": {
          "duration": 1.374321,
          "end_time": "2022-06-13T19:56:19.201374",
          "exception": false,
          "start_time": "2022-06-13T19:56:17.827053",
          "status": "completed"
        },
        "tags": [],
        "id": "VSDhDzs9tGa-"
      }
    },
    {
      "cell_type": "code",
      "source": [
        "def numericalize(text):\n",
        "\n",
        "    numerialized_source = []\n",
        "    numerialized_source = [dataset.source_vocab.stoi[\"<SOS>\"]]\n",
        "    numerialized_source += dataset.source_vocab.numericalize(text)\n",
        "    numerialized_source.append(dataset.source_vocab.stoi[\"<EOS>\"])\n",
        "\n",
        "    return numerialized_source\n",
        "\n",
        "def padding(source):\n",
        "    padded_sequence = torch.zeros(config.MAX_LEN, 1, dtype = torch.int)\n",
        "    source = torch.tensor(source)\n",
        "\n",
        "    if len(source) > config.MAX_LEN:\n",
        "        padded_sequence[:, 0] = source[: config.MAX_LEN]\n",
        "    else:\n",
        "        padded_sequence[:len(source), 0] = padded_sequence[:len(source), 0] + source\n",
        "\n",
        "    return padded_sequence"
      ],
      "metadata": {
        "execution": {
          "iopub.execute_input": "2022-07-05T07:03:41.904441Z",
          "iopub.status.busy": "2022-07-05T07:03:41.904072Z",
          "iopub.status.idle": "2022-07-05T07:03:41.913185Z",
          "shell.execute_reply": "2022-07-05T07:03:41.912148Z",
          "shell.execute_reply.started": "2022-07-05T07:03:41.904405Z"
        },
        "papermill": {
          "duration": 1.347638,
          "end_time": "2022-06-13T19:56:21.879204",
          "exception": false,
          "start_time": "2022-06-13T19:56:20.531566",
          "status": "completed"
        },
        "tags": [],
        "id": "qswbZlyEtGa-"
      },
      "execution_count": 62,
      "outputs": []
    },
    {
      "cell_type": "code",
      "source": [
        "def infer_processing(text):\n",
        "\n",
        "    text = preprocessing(text)\n",
        "    text = numericalize(text)\n",
        "    text = padding(text)\n",
        "    return text"
      ],
      "metadata": {
        "execution": {
          "iopub.execute_input": "2022-07-05T07:03:41.915484Z",
          "iopub.status.busy": "2022-07-05T07:03:41.914498Z",
          "iopub.status.idle": "2022-07-05T07:03:41.924959Z",
          "shell.execute_reply": "2022-07-05T07:03:41.923954Z",
          "shell.execute_reply.started": "2022-07-05T07:03:41.915449Z"
        },
        "papermill": {
          "duration": 1.346643,
          "end_time": "2022-06-13T19:56:24.81165",
          "exception": false,
          "start_time": "2022-06-13T19:56:23.465007",
          "status": "completed"
        },
        "tags": [],
        "id": "hOk41b7itGa_"
      },
      "execution_count": 63,
      "outputs": []
    },
    {
      "cell_type": "code",
      "source": [
        "aspects = [\"phone\", \"camera\", \"battery\", \"neutral\", \"processor\"]\n",
        "\n",
        "def get_similarity(text, aspect):\n",
        "    try:\n",
        "#         text = \" \".join(text)\n",
        "        return fasttext_model.wv.n_similarity(text, aspect)\n",
        "    except:\n",
        "        return 0\n",
        "\n",
        "def best_aspect(text, aspects):\n",
        "    a = []\n",
        "\n",
        "    for aspect in aspects:\n",
        "        a.append(get_similarity(text, aspect))\n",
        "\n",
        "    return aspects[np.argmax(a)]\n"
      ],
      "metadata": {
        "execution": {
          "iopub.execute_input": "2022-07-05T07:03:41.927478Z",
          "iopub.status.busy": "2022-07-05T07:03:41.926701Z",
          "iopub.status.idle": "2022-07-05T07:03:41.936585Z",
          "shell.execute_reply": "2022-07-05T07:03:41.93551Z",
          "shell.execute_reply.started": "2022-07-05T07:03:41.927453Z"
        },
        "papermill": {
          "duration": 1.358879,
          "end_time": "2022-06-13T19:56:27.509869",
          "exception": false,
          "start_time": "2022-06-13T19:56:26.15099",
          "status": "completed"
        },
        "tags": [],
        "id": "1WuXgoBxtGa_"
      },
      "execution_count": 64,
      "outputs": []
    },
    {
      "cell_type": "code",
      "source": [
        "sample = \"I am really impressed with the phone's great battery backup.\"\n",
        "\n",
        "ba = best_aspect(preprocessing(sample), aspects)\n",
        "\n",
        "a = infer_processing(sample).to(config.DEVICE)"
      ],
      "metadata": {
        "execution": {
          "iopub.execute_input": "2022-07-05T07:03:41.947924Z",
          "iopub.status.busy": "2022-07-05T07:03:41.947687Z",
          "iopub.status.idle": "2022-07-05T07:03:41.973291Z",
          "shell.execute_reply": "2022-07-05T07:03:41.972398Z",
          "shell.execute_reply.started": "2022-07-05T07:03:41.947902Z"
        },
        "papermill": {
          "duration": 1.356164,
          "end_time": "2022-06-13T19:56:30.256236",
          "exception": false,
          "start_time": "2022-06-13T19:56:28.900072",
          "status": "completed"
        },
        "tags": [],
        "id": "DC9HhTS9tGa_"
      },
      "execution_count": 65,
      "outputs": []
    },
    {
      "cell_type": "code",
      "source": [
        "model.eval()\n",
        "sentiment = model(a)\n",
        "sentiment = sentiment.cpu().detach().numpy()[0]\n",
        "\n",
        "if sentiment > 0.5:\n",
        "    sentiment = 'Positively'\n",
        "else :\n",
        "    sentiment = 'Negatively'"
      ],
      "metadata": {
        "execution": {
          "iopub.execute_input": "2022-07-05T07:03:41.974975Z",
          "iopub.status.busy": "2022-07-05T07:03:41.97458Z",
          "iopub.status.idle": "2022-07-05T07:03:41.983559Z",
          "shell.execute_reply": "2022-07-05T07:03:41.98266Z",
          "shell.execute_reply.started": "2022-07-05T07:03:41.97494Z"
        },
        "papermill": {
          "duration": 1.337708,
          "end_time": "2022-06-13T19:56:32.919008",
          "exception": false,
          "start_time": "2022-06-13T19:56:31.5813",
          "status": "completed"
        },
        "tags": [],
        "id": "y7WObGSAtGa_"
      },
      "execution_count": 66,
      "outputs": []
    },
    {
      "cell_type": "code",
      "source": [
        "print(f\"The reviewer is talking {sentiment} about the {ba} of the phone in his/her comment\")"
      ],
      "metadata": {
        "execution": {
          "iopub.execute_input": "2022-07-05T07:03:41.985461Z",
          "iopub.status.busy": "2022-07-05T07:03:41.985103Z",
          "iopub.status.idle": "2022-07-05T07:03:41.993594Z",
          "shell.execute_reply": "2022-07-05T07:03:41.99229Z",
          "shell.execute_reply.started": "2022-07-05T07:03:41.985428Z"
        },
        "papermill": {
          "duration": 1.334709,
          "end_time": "2022-06-13T19:56:35.837625",
          "exception": false,
          "start_time": "2022-06-13T19:56:34.502916",
          "status": "completed"
        },
        "tags": [],
        "id": "4fxSQJ7GtGa_",
        "colab": {
          "base_uri": "https://localhost:8080/"
        },
        "outputId": "39fe51da-d02b-451f-9749-4271e3715b4d"
      },
      "execution_count": 67,
      "outputs": [
        {
          "output_type": "stream",
          "name": "stdout",
          "text": [
            "The reviewer is talking Positively about the processor of the phone in his/her comment\n"
          ]
        }
      ]
    }
  ]
}